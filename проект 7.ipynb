{
 "cells": [
  {
   "cell_type": "markdown",
   "metadata": {},
   "source": [
    "<div style=\"border:solid purple 2px; padding: 20px\"> \n",
    "\n",
    "Привет Алексей! 👋\n",
    "\n",
    "Меня зовут Рустам Муртазин, и я буду делать ревью твоей работы. Давай будем общаться на **«ты»**. Если это неприемлемо, обязательно напиши мне в комментариях — мы перейдем на **«вы»**.\n",
    "\n",
    "Я не хочу указавать тебе на совершенные тобою ошибки, а хочу поделиться своим опытом и помочь тебе стать настоящим профессионалом и сделать проект еще лучше.\n",
    "\n",
    "Обрати внимание в первую очередь на те, что помечаны <span style=\"color:red\">красным цветом</span>. После их доработки проект будет принят. <span style=\"color:green\">Зеленым цветом</span> отмечены удачные и элегантные решения, на которые можно опираться в будущих проектах. <span style=\"color:orange\">Оранжевым цветом</span> выделено то, что в следующий раз можно сделать по-другому. Ты можешь учесть эти комментарии при выполнении будущих заданий или доработать проект сейчас (однако это не обязательно). Также в проекте могут быть небольшие «лайфхаки» по Python, не относящиеся к проекту, их я выделил фиолетовым цветом)\n",
    "\n",
    "Давай работать над проектом в диалоге: если ты **что-то меняешь** в проекте по моим рекомендациям — **пиши об этом**. Выбери для своих комментариев какой-то заметный цвет, так мне будет легче отследить изменения. Пожалуйста, **не перемещай, не изменяй и не удаляй мои комментарии**. Всё это поможет выполнить повторную проверку твоего проекта оперативнее».\n",
    "\n",
    "---\n",
    "\n",
    "Алексей, шикарная работа! Код чистый, структурированный, понятный. По всей работе прослеживается логика принятий решений. В общем, получил наслаждение проверяя твою работу, спасибо! В работе нет критических замечаний и ее можно было сразу же принять, но я отправлю проект на доработку, чтобы ты смо просмотреть мои комментарии (зеленые и оранжевые), попробовать что-то реализовать, и может, задать мне вопросы. Если сейчас ты пока не готова прорабатывать материал, напиши мне об этом и я сразу же приму твой проект)\n",
    "    \n",
    "\n",
    "![](https://i.gifer.com/7V3.gif)\n"
   ]
  },
  {
   "cell_type": "markdown",
   "metadata": {},
   "source": [
    "<font color='blue'> Уважаемый Рустам, большое спасибо за ревью моего кода. Получил от тебя по-настоящему дельные советы, особенно про индикаторы пргресса и методику перебора нескольких гиперпараметров в одном цикле. Попытался сразу их реализовать, но возникли новые вопросы. Буду признателен, если сможешь помочь мне.   </font> "
   ]
  },
  {
   "cell_type": "markdown",
   "metadata": {},
   "source": [
    "<div class=\"alert alert-success\">\n",
    "<h2> Комментарий ревьюера v2 ✔️ <a class=\"tocSkip\"> </h2>\n",
    "\n",
    "Спасибо тебе, за классный проект! На твои вопросы ароде как ответил. \n",
    "    \n",
    "Благодарю за старания и интерес и желаю успехов в дальнейших проектах 😊\n",
    "\n",
    "</div>"
   ]
  },
  {
   "cell_type": "markdown",
   "metadata": {
    "toc": true
   },
   "source": [
    "<h1>Содержание<span class=\"tocSkip\"></span></h1>\n",
    "<div class=\"toc\"><ul class=\"toc-item\"><li><span><a href=\"#Подготовка-данных\" data-toc-modified-id=\"Подготовка-данных-1\"><span class=\"toc-item-num\">1&nbsp;&nbsp;</span>Подготовка данных</a></span></li><li><span><a href=\"#Исследование-задачи\" data-toc-modified-id=\"Исследование-задачи-2\"><span class=\"toc-item-num\">2&nbsp;&nbsp;</span>Исследование задачи</a></span><ul class=\"toc-item\"><li><span><a href=\"#Вывод:-Выполнено-обучение-3-моделей-на-несбалансированных-выборках:-дерево-решений(с-подбором-оптимального-кол-ва-деревьев),-лес-деревьев-(с-подбором-кол-ва-деревьев-и-глубины-леса);-логистическая-регрессия.-На-данном-этапе-лучшие-результаты-по-метрикам-f1-и-auc-roc-показала-модель-леса-деревьев-с-параметрами-RandomForestClassifier(max_depth=19,-n_estimators=27,-random_state=12345)-f1-=-0.6026-и-auc-roc-=-0.8345.\" data-toc-modified-id=\"Вывод:-Выполнено-обучение-3-моделей-на-несбалансированных-выборках:-дерево-решений(с-подбором-оптимального-кол-ва-деревьев),-лес-деревьев-(с-подбором-кол-ва-деревьев-и-глубины-леса);-логистическая-регрессия.-На-данном-этапе-лучшие-результаты-по-метрикам-f1-и-auc-roc-показала-модель-леса-деревьев-с-параметрами-RandomForestClassifier(max_depth=19,-n_estimators=27,-random_state=12345)-f1-=-0.6026-и-auc-roc-=-0.8345.-2.1\"><span class=\"toc-item-num\">2.1&nbsp;&nbsp;</span>Вывод: Выполнено обучение 3 моделей на несбалансированных выборках: дерево решений(с подбором оптимального кол-ва деревьев), лес деревьев (с подбором кол-ва деревьев и глубины леса); логистическая регрессия. На данном этапе лучшие результаты по метрикам f1 и auc-roc показала модель леса деревьев с параметрами RandomForestClassifier(max_depth=19, n_estimators=27, random_state=12345) f1 = 0.6026 и auc-roc = 0.8345.</a></span></li></ul></li><li><span><a href=\"#Борьба-с-дисбалансом\" data-toc-modified-id=\"Борьба-с-дисбалансом-3\"><span class=\"toc-item-num\">3&nbsp;&nbsp;</span>Борьба с дисбалансом</a></span><ul class=\"toc-item\"><li><span><a href=\"#вариант-1---метод-balanced\" data-toc-modified-id=\"вариант-1---метод-balanced-3.1\"><span class=\"toc-item-num\">3.1&nbsp;&nbsp;</span>вариант 1 - метод balanced</a></span></li><li><span><a href=\"#Вывод:-Выполнено-обучение-3-моделей-на-сбалансированных-выборках:-дерево-решений(с-подбором-оптимального-кол-ва-деревьев),-лес-деревьев-(с-подбором-кол-ва-деревьев-и-глубины-леса);-логистическая-регрессия.-Использовалось-2-метода-балансировки:-взешивание-классов-и-метод-upsampling.-На-данном-этапе-лучшие-результаты-по-метрикам-f1-и-auc-roc-показала-модель-леса-деревьев-с-параметрами-RandomForestClassifier(max_depth=13,-n_estimators=35,-random_state=12345)-f1-=-0.6329-и-auc-roc-=-0.8435---сбалансированная-методом-upsampling-и-модель-RandomForestClassifier(max_depth=9,-n_estimators=46,-random_state=12345)-f1-=-0.6296-и-auc-roc-=-0.8557,-сбалансированная-методом-взвешивания-классов.-Данные-модели-возьмем-на-финальное-тестирование.\" data-toc-modified-id=\"Вывод:-Выполнено-обучение-3-моделей-на-сбалансированных-выборках:-дерево-решений(с-подбором-оптимального-кол-ва-деревьев),-лес-деревьев-(с-подбором-кол-ва-деревьев-и-глубины-леса);-логистическая-регрессия.-Использовалось-2-метода-балансировки:-взешивание-классов-и-метод-upsampling.-На-данном-этапе-лучшие-результаты-по-метрикам-f1-и-auc-roc-показала-модель-леса-деревьев-с-параметрами-RandomForestClassifier(max_depth=13,-n_estimators=35,-random_state=12345)-f1-=-0.6329-и-auc-roc-=-0.8435---сбалансированная-методом-upsampling-и-модель-RandomForestClassifier(max_depth=9,-n_estimators=46,-random_state=12345)-f1-=-0.6296-и-auc-roc-=-0.8557,-сбалансированная-методом-взвешивания-классов.-Данные-модели-возьмем-на-финальное-тестирование.-3.2\"><span class=\"toc-item-num\">3.2&nbsp;&nbsp;</span>Вывод: Выполнено обучение 3 моделей на сбалансированных выборках: дерево решений(с подбором оптимального кол-ва деревьев), лес деревьев (с подбором кол-ва деревьев и глубины леса); логистическая регрессия. Использовалось 2 метода балансировки: взешивание классов и метод upsampling. На данном этапе лучшие результаты по метрикам f1 и auc-roc показала модель леса деревьев с параметрами RandomForestClassifier(max_depth=13, n_estimators=35, random_state=12345) f1 = 0.6329 и auc-roc = 0.8435 - сбалансированная методом upsampling и модель RandomForestClassifier(max_depth=9, n_estimators=46, random_state=12345) f1 = 0.6296 и auc-roc = 0.8557, сбалансированная методом взвешивания классов. Данные модели возьмем на финальное тестирование.</a></span></li></ul></li><li><span><a href=\"#Тестирование-модели\" data-toc-modified-id=\"Тестирование-модели-4\"><span class=\"toc-item-num\">4&nbsp;&nbsp;</span>Тестирование модели</a></span></li><li><span><a href=\"#Чек-лист-готовности-проекта\" data-toc-modified-id=\"Чек-лист-готовности-проекта-5\"><span class=\"toc-item-num\">5&nbsp;&nbsp;</span>Чек-лист готовности проекта</a></span></li></ul></div>"
   ]
  },
  {
   "cell_type": "markdown",
   "metadata": {},
   "source": [
    "# Отток клиентов"
   ]
  },
  {
   "cell_type": "markdown",
   "metadata": {},
   "source": [
    "Из «Бета-Банка» стали уходить клиенты. Каждый месяц. Немного, но заметно. Банковские маркетологи посчитали: сохранять текущих клиентов дешевле, чем привлекать новых.\n",
    "\n",
    "Нужно спрогнозировать, уйдёт клиент из банка в ближайшее время или нет. Вам предоставлены исторические данные о поведении клиентов и расторжении договоров с банком. \n",
    "\n",
    "Постройте модель с предельно большим значением *F1*-меры. Чтобы сдать проект успешно, нужно довести метрику до 0.59. Проверьте *F1*-меру на тестовой выборке самостоятельно.\n",
    "\n",
    "Дополнительно измеряйте *AUC-ROC*, сравнивайте её значение с *F1*-мерой.\n",
    "\n",
    "Источник данных: [https://www.kaggle.com/barelydedicated/bank-customer-churn-modeling](https://www.kaggle.com/barelydedicated/bank-customer-churn-modeling)"
   ]
  },
  {
   "cell_type": "markdown",
   "metadata": {},
   "source": [
    "## Подготовка данных"
   ]
  },
  {
   "cell_type": "markdown",
   "metadata": {},
   "source": [
    "Цель проекта - спрогнозировать на основе исторических данных, уйдёт клиент из банка в ближайшее время или нет. "
   ]
  },
  {
   "cell_type": "code",
   "execution_count": 26,
   "metadata": {},
   "outputs": [],
   "source": [
    "import pandas as pd\n",
    "import numpy as np\n",
    "import seaborn as sns\n",
    "import matplotlib.pyplot as plt\n",
    "from sklearn.model_selection import train_test_split\n",
    "from sklearn.preprocessing import StandardScaler \n",
    "from sklearn.tree import DecisionTreeClassifier\n",
    "from sklearn.ensemble import RandomForestClassifier\n",
    "from sklearn.linear_model import LogisticRegression\n",
    "from sklearn.metrics import accuracy_score\n",
    "from sklearn.metrics import f1_score\n",
    "from sklearn.metrics import roc_auc_score\n",
    "from sklearn.utils import shuffle\n",
    "from sklearn.metrics import roc_curve\n",
    "import itertools\n",
    "from tqdm import tqdm, trange"
   ]
  },
  {
   "cell_type": "code",
   "execution_count": 28,
   "metadata": {},
   "outputs": [
    {
     "ename": "FileNotFoundError",
     "evalue": "[Errno 2] No such file or directory: '/datasets/Churn.csv'",
     "output_type": "error",
     "traceback": [
      "\u001B[0;31m---------------------------------------------------------------------------\u001B[0m",
      "\u001B[0;31mFileNotFoundError\u001B[0m                         Traceback (most recent call last)",
      "Cell \u001B[0;32mIn[28], line 2\u001B[0m\n\u001B[1;32m      1\u001B[0m \u001B[38;5;28;01mtry\u001B[39;00m:\n\u001B[0;32m----> 2\u001B[0m     df \u001B[38;5;241m=\u001B[39m \u001B[43mpd\u001B[49m\u001B[38;5;241;43m.\u001B[39;49m\u001B[43mread_csv\u001B[49m\u001B[43m(\u001B[49m\u001B[38;5;124;43m'\u001B[39;49m\u001B[38;5;124;43mChurn.csv\u001B[39;49m\u001B[38;5;124;43m'\u001B[39;49m\u001B[43m)\u001B[49m\n\u001B[1;32m      3\u001B[0m \u001B[38;5;28;01mexcept\u001B[39;00m:\n",
      "File \u001B[0;32m~/opt/anaconda3/lib/python3.9/site-packages/pandas/util/_decorators.py:311\u001B[0m, in \u001B[0;36mdeprecate_nonkeyword_arguments.<locals>.decorate.<locals>.wrapper\u001B[0;34m(*args, **kwargs)\u001B[0m\n\u001B[1;32m    306\u001B[0m     warnings\u001B[38;5;241m.\u001B[39mwarn(\n\u001B[1;32m    307\u001B[0m         msg\u001B[38;5;241m.\u001B[39mformat(arguments\u001B[38;5;241m=\u001B[39marguments),\n\u001B[1;32m    308\u001B[0m         \u001B[38;5;167;01mFutureWarning\u001B[39;00m,\n\u001B[1;32m    309\u001B[0m         stacklevel\u001B[38;5;241m=\u001B[39mstacklevel,\n\u001B[1;32m    310\u001B[0m     )\n\u001B[0;32m--> 311\u001B[0m \u001B[38;5;28;01mreturn\u001B[39;00m \u001B[43mfunc\u001B[49m\u001B[43m(\u001B[49m\u001B[38;5;241;43m*\u001B[39;49m\u001B[43margs\u001B[49m\u001B[43m,\u001B[49m\u001B[43m \u001B[49m\u001B[38;5;241;43m*\u001B[39;49m\u001B[38;5;241;43m*\u001B[39;49m\u001B[43mkwargs\u001B[49m\u001B[43m)\u001B[49m\n",
      "File \u001B[0;32m~/opt/anaconda3/lib/python3.9/site-packages/pandas/io/parsers/readers.py:680\u001B[0m, in \u001B[0;36mread_csv\u001B[0;34m(filepath_or_buffer, sep, delimiter, header, names, index_col, usecols, squeeze, prefix, mangle_dupe_cols, dtype, engine, converters, true_values, false_values, skipinitialspace, skiprows, skipfooter, nrows, na_values, keep_default_na, na_filter, verbose, skip_blank_lines, parse_dates, infer_datetime_format, keep_date_col, date_parser, dayfirst, cache_dates, iterator, chunksize, compression, thousands, decimal, lineterminator, quotechar, quoting, doublequote, escapechar, comment, encoding, encoding_errors, dialect, error_bad_lines, warn_bad_lines, on_bad_lines, delim_whitespace, low_memory, memory_map, float_precision, storage_options)\u001B[0m\n\u001B[1;32m    678\u001B[0m kwds\u001B[38;5;241m.\u001B[39mupdate(kwds_defaults)\n\u001B[0;32m--> 680\u001B[0m \u001B[38;5;28;01mreturn\u001B[39;00m \u001B[43m_read\u001B[49m\u001B[43m(\u001B[49m\u001B[43mfilepath_or_buffer\u001B[49m\u001B[43m,\u001B[49m\u001B[43m \u001B[49m\u001B[43mkwds\u001B[49m\u001B[43m)\u001B[49m\n",
      "File \u001B[0;32m~/opt/anaconda3/lib/python3.9/site-packages/pandas/io/parsers/readers.py:575\u001B[0m, in \u001B[0;36m_read\u001B[0;34m(filepath_or_buffer, kwds)\u001B[0m\n\u001B[1;32m    574\u001B[0m \u001B[38;5;66;03m# Create the parser.\u001B[39;00m\n\u001B[0;32m--> 575\u001B[0m parser \u001B[38;5;241m=\u001B[39m \u001B[43mTextFileReader\u001B[49m\u001B[43m(\u001B[49m\u001B[43mfilepath_or_buffer\u001B[49m\u001B[43m,\u001B[49m\u001B[43m \u001B[49m\u001B[38;5;241;43m*\u001B[39;49m\u001B[38;5;241;43m*\u001B[39;49m\u001B[43mkwds\u001B[49m\u001B[43m)\u001B[49m\n\u001B[1;32m    577\u001B[0m \u001B[38;5;28;01mif\u001B[39;00m chunksize \u001B[38;5;129;01mor\u001B[39;00m iterator:\n",
      "File \u001B[0;32m~/opt/anaconda3/lib/python3.9/site-packages/pandas/io/parsers/readers.py:933\u001B[0m, in \u001B[0;36mTextFileReader.__init__\u001B[0;34m(self, f, engine, **kwds)\u001B[0m\n\u001B[1;32m    932\u001B[0m \u001B[38;5;28mself\u001B[39m\u001B[38;5;241m.\u001B[39mhandles: IOHandles \u001B[38;5;241m|\u001B[39m \u001B[38;5;28;01mNone\u001B[39;00m \u001B[38;5;241m=\u001B[39m \u001B[38;5;28;01mNone\u001B[39;00m\n\u001B[0;32m--> 933\u001B[0m \u001B[38;5;28mself\u001B[39m\u001B[38;5;241m.\u001B[39m_engine \u001B[38;5;241m=\u001B[39m \u001B[38;5;28;43mself\u001B[39;49m\u001B[38;5;241;43m.\u001B[39;49m\u001B[43m_make_engine\u001B[49m\u001B[43m(\u001B[49m\u001B[43mf\u001B[49m\u001B[43m,\u001B[49m\u001B[43m \u001B[49m\u001B[38;5;28;43mself\u001B[39;49m\u001B[38;5;241;43m.\u001B[39;49m\u001B[43mengine\u001B[49m\u001B[43m)\u001B[49m\n",
      "File \u001B[0;32m~/opt/anaconda3/lib/python3.9/site-packages/pandas/io/parsers/readers.py:1217\u001B[0m, in \u001B[0;36mTextFileReader._make_engine\u001B[0;34m(self, f, engine)\u001B[0m\n\u001B[1;32m   1214\u001B[0m \u001B[38;5;66;03m# error: No overload variant of \"get_handle\" matches argument types\u001B[39;00m\n\u001B[1;32m   1215\u001B[0m \u001B[38;5;66;03m# \"Union[str, PathLike[str], ReadCsvBuffer[bytes], ReadCsvBuffer[str]]\"\u001B[39;00m\n\u001B[1;32m   1216\u001B[0m \u001B[38;5;66;03m# , \"str\", \"bool\", \"Any\", \"Any\", \"Any\", \"Any\", \"Any\"\u001B[39;00m\n\u001B[0;32m-> 1217\u001B[0m \u001B[38;5;28mself\u001B[39m\u001B[38;5;241m.\u001B[39mhandles \u001B[38;5;241m=\u001B[39m \u001B[43mget_handle\u001B[49m\u001B[43m(\u001B[49m\u001B[43m  \u001B[49m\u001B[38;5;66;43;03m# type: ignore[call-overload]\u001B[39;49;00m\n\u001B[1;32m   1218\u001B[0m \u001B[43m    \u001B[49m\u001B[43mf\u001B[49m\u001B[43m,\u001B[49m\n\u001B[1;32m   1219\u001B[0m \u001B[43m    \u001B[49m\u001B[43mmode\u001B[49m\u001B[43m,\u001B[49m\n\u001B[1;32m   1220\u001B[0m \u001B[43m    \u001B[49m\u001B[43mencoding\u001B[49m\u001B[38;5;241;43m=\u001B[39;49m\u001B[38;5;28;43mself\u001B[39;49m\u001B[38;5;241;43m.\u001B[39;49m\u001B[43moptions\u001B[49m\u001B[38;5;241;43m.\u001B[39;49m\u001B[43mget\u001B[49m\u001B[43m(\u001B[49m\u001B[38;5;124;43m\"\u001B[39;49m\u001B[38;5;124;43mencoding\u001B[39;49m\u001B[38;5;124;43m\"\u001B[39;49m\u001B[43m,\u001B[49m\u001B[43m \u001B[49m\u001B[38;5;28;43;01mNone\u001B[39;49;00m\u001B[43m)\u001B[49m\u001B[43m,\u001B[49m\n\u001B[1;32m   1221\u001B[0m \u001B[43m    \u001B[49m\u001B[43mcompression\u001B[49m\u001B[38;5;241;43m=\u001B[39;49m\u001B[38;5;28;43mself\u001B[39;49m\u001B[38;5;241;43m.\u001B[39;49m\u001B[43moptions\u001B[49m\u001B[38;5;241;43m.\u001B[39;49m\u001B[43mget\u001B[49m\u001B[43m(\u001B[49m\u001B[38;5;124;43m\"\u001B[39;49m\u001B[38;5;124;43mcompression\u001B[39;49m\u001B[38;5;124;43m\"\u001B[39;49m\u001B[43m,\u001B[49m\u001B[43m \u001B[49m\u001B[38;5;28;43;01mNone\u001B[39;49;00m\u001B[43m)\u001B[49m\u001B[43m,\u001B[49m\n\u001B[1;32m   1222\u001B[0m \u001B[43m    \u001B[49m\u001B[43mmemory_map\u001B[49m\u001B[38;5;241;43m=\u001B[39;49m\u001B[38;5;28;43mself\u001B[39;49m\u001B[38;5;241;43m.\u001B[39;49m\u001B[43moptions\u001B[49m\u001B[38;5;241;43m.\u001B[39;49m\u001B[43mget\u001B[49m\u001B[43m(\u001B[49m\u001B[38;5;124;43m\"\u001B[39;49m\u001B[38;5;124;43mmemory_map\u001B[39;49m\u001B[38;5;124;43m\"\u001B[39;49m\u001B[43m,\u001B[49m\u001B[43m \u001B[49m\u001B[38;5;28;43;01mFalse\u001B[39;49;00m\u001B[43m)\u001B[49m\u001B[43m,\u001B[49m\n\u001B[1;32m   1223\u001B[0m \u001B[43m    \u001B[49m\u001B[43mis_text\u001B[49m\u001B[38;5;241;43m=\u001B[39;49m\u001B[43mis_text\u001B[49m\u001B[43m,\u001B[49m\n\u001B[1;32m   1224\u001B[0m \u001B[43m    \u001B[49m\u001B[43merrors\u001B[49m\u001B[38;5;241;43m=\u001B[39;49m\u001B[38;5;28;43mself\u001B[39;49m\u001B[38;5;241;43m.\u001B[39;49m\u001B[43moptions\u001B[49m\u001B[38;5;241;43m.\u001B[39;49m\u001B[43mget\u001B[49m\u001B[43m(\u001B[49m\u001B[38;5;124;43m\"\u001B[39;49m\u001B[38;5;124;43mencoding_errors\u001B[39;49m\u001B[38;5;124;43m\"\u001B[39;49m\u001B[43m,\u001B[49m\u001B[43m \u001B[49m\u001B[38;5;124;43m\"\u001B[39;49m\u001B[38;5;124;43mstrict\u001B[39;49m\u001B[38;5;124;43m\"\u001B[39;49m\u001B[43m)\u001B[49m\u001B[43m,\u001B[49m\n\u001B[1;32m   1225\u001B[0m \u001B[43m    \u001B[49m\u001B[43mstorage_options\u001B[49m\u001B[38;5;241;43m=\u001B[39;49m\u001B[38;5;28;43mself\u001B[39;49m\u001B[38;5;241;43m.\u001B[39;49m\u001B[43moptions\u001B[49m\u001B[38;5;241;43m.\u001B[39;49m\u001B[43mget\u001B[49m\u001B[43m(\u001B[49m\u001B[38;5;124;43m\"\u001B[39;49m\u001B[38;5;124;43mstorage_options\u001B[39;49m\u001B[38;5;124;43m\"\u001B[39;49m\u001B[43m,\u001B[49m\u001B[43m \u001B[49m\u001B[38;5;28;43;01mNone\u001B[39;49;00m\u001B[43m)\u001B[49m\u001B[43m,\u001B[49m\n\u001B[1;32m   1226\u001B[0m \u001B[43m\u001B[49m\u001B[43m)\u001B[49m\n\u001B[1;32m   1227\u001B[0m \u001B[38;5;28;01massert\u001B[39;00m \u001B[38;5;28mself\u001B[39m\u001B[38;5;241m.\u001B[39mhandles \u001B[38;5;129;01mis\u001B[39;00m \u001B[38;5;129;01mnot\u001B[39;00m \u001B[38;5;28;01mNone\u001B[39;00m\n",
      "File \u001B[0;32m~/opt/anaconda3/lib/python3.9/site-packages/pandas/io/common.py:789\u001B[0m, in \u001B[0;36mget_handle\u001B[0;34m(path_or_buf, mode, encoding, compression, memory_map, is_text, errors, storage_options)\u001B[0m\n\u001B[1;32m    787\u001B[0m \u001B[38;5;28;01mif\u001B[39;00m ioargs\u001B[38;5;241m.\u001B[39mencoding \u001B[38;5;129;01mand\u001B[39;00m \u001B[38;5;124m\"\u001B[39m\u001B[38;5;124mb\u001B[39m\u001B[38;5;124m\"\u001B[39m \u001B[38;5;129;01mnot\u001B[39;00m \u001B[38;5;129;01min\u001B[39;00m ioargs\u001B[38;5;241m.\u001B[39mmode:\n\u001B[1;32m    788\u001B[0m     \u001B[38;5;66;03m# Encoding\u001B[39;00m\n\u001B[0;32m--> 789\u001B[0m     handle \u001B[38;5;241m=\u001B[39m \u001B[38;5;28;43mopen\u001B[39;49m\u001B[43m(\u001B[49m\n\u001B[1;32m    790\u001B[0m \u001B[43m        \u001B[49m\u001B[43mhandle\u001B[49m\u001B[43m,\u001B[49m\n\u001B[1;32m    791\u001B[0m \u001B[43m        \u001B[49m\u001B[43mioargs\u001B[49m\u001B[38;5;241;43m.\u001B[39;49m\u001B[43mmode\u001B[49m\u001B[43m,\u001B[49m\n\u001B[1;32m    792\u001B[0m \u001B[43m        \u001B[49m\u001B[43mencoding\u001B[49m\u001B[38;5;241;43m=\u001B[39;49m\u001B[43mioargs\u001B[49m\u001B[38;5;241;43m.\u001B[39;49m\u001B[43mencoding\u001B[49m\u001B[43m,\u001B[49m\n\u001B[1;32m    793\u001B[0m \u001B[43m        \u001B[49m\u001B[43merrors\u001B[49m\u001B[38;5;241;43m=\u001B[39;49m\u001B[43merrors\u001B[49m\u001B[43m,\u001B[49m\n\u001B[1;32m    794\u001B[0m \u001B[43m        \u001B[49m\u001B[43mnewline\u001B[49m\u001B[38;5;241;43m=\u001B[39;49m\u001B[38;5;124;43m\"\u001B[39;49m\u001B[38;5;124;43m\"\u001B[39;49m\u001B[43m,\u001B[49m\n\u001B[1;32m    795\u001B[0m \u001B[43m    \u001B[49m\u001B[43m)\u001B[49m\n\u001B[1;32m    796\u001B[0m \u001B[38;5;28;01melse\u001B[39;00m:\n\u001B[1;32m    797\u001B[0m     \u001B[38;5;66;03m# Binary mode\u001B[39;00m\n",
      "\u001B[0;31mFileNotFoundError\u001B[0m: [Errno 2] No such file or directory: 'Churn.csv'",
      "\nDuring handling of the above exception, another exception occurred:\n",
      "\u001B[0;31mFileNotFoundError\u001B[0m                         Traceback (most recent call last)",
      "Cell \u001B[0;32mIn[28], line 4\u001B[0m\n\u001B[1;32m      2\u001B[0m     df \u001B[38;5;241m=\u001B[39m pd\u001B[38;5;241m.\u001B[39mread_csv(\u001B[38;5;124m'\u001B[39m\u001B[38;5;124mChurn.csv\u001B[39m\u001B[38;5;124m'\u001B[39m)\n\u001B[1;32m      3\u001B[0m \u001B[38;5;28;01mexcept\u001B[39;00m:\n\u001B[0;32m----> 4\u001B[0m     df \u001B[38;5;241m=\u001B[39m \u001B[43mpd\u001B[49m\u001B[38;5;241;43m.\u001B[39;49m\u001B[43mread_csv\u001B[49m\u001B[43m(\u001B[49m\u001B[38;5;124;43m'\u001B[39;49m\u001B[38;5;124;43m/datasets/Churn.csv\u001B[39;49m\u001B[38;5;124;43m'\u001B[39;49m\u001B[43m)\u001B[49m\n",
      "File \u001B[0;32m~/opt/anaconda3/lib/python3.9/site-packages/pandas/util/_decorators.py:311\u001B[0m, in \u001B[0;36mdeprecate_nonkeyword_arguments.<locals>.decorate.<locals>.wrapper\u001B[0;34m(*args, **kwargs)\u001B[0m\n\u001B[1;32m    305\u001B[0m \u001B[38;5;28;01mif\u001B[39;00m \u001B[38;5;28mlen\u001B[39m(args) \u001B[38;5;241m>\u001B[39m num_allow_args:\n\u001B[1;32m    306\u001B[0m     warnings\u001B[38;5;241m.\u001B[39mwarn(\n\u001B[1;32m    307\u001B[0m         msg\u001B[38;5;241m.\u001B[39mformat(arguments\u001B[38;5;241m=\u001B[39marguments),\n\u001B[1;32m    308\u001B[0m         \u001B[38;5;167;01mFutureWarning\u001B[39;00m,\n\u001B[1;32m    309\u001B[0m         stacklevel\u001B[38;5;241m=\u001B[39mstacklevel,\n\u001B[1;32m    310\u001B[0m     )\n\u001B[0;32m--> 311\u001B[0m \u001B[38;5;28;01mreturn\u001B[39;00m \u001B[43mfunc\u001B[49m\u001B[43m(\u001B[49m\u001B[38;5;241;43m*\u001B[39;49m\u001B[43margs\u001B[49m\u001B[43m,\u001B[49m\u001B[43m \u001B[49m\u001B[38;5;241;43m*\u001B[39;49m\u001B[38;5;241;43m*\u001B[39;49m\u001B[43mkwargs\u001B[49m\u001B[43m)\u001B[49m\n",
      "File \u001B[0;32m~/opt/anaconda3/lib/python3.9/site-packages/pandas/io/parsers/readers.py:680\u001B[0m, in \u001B[0;36mread_csv\u001B[0;34m(filepath_or_buffer, sep, delimiter, header, names, index_col, usecols, squeeze, prefix, mangle_dupe_cols, dtype, engine, converters, true_values, false_values, skipinitialspace, skiprows, skipfooter, nrows, na_values, keep_default_na, na_filter, verbose, skip_blank_lines, parse_dates, infer_datetime_format, keep_date_col, date_parser, dayfirst, cache_dates, iterator, chunksize, compression, thousands, decimal, lineterminator, quotechar, quoting, doublequote, escapechar, comment, encoding, encoding_errors, dialect, error_bad_lines, warn_bad_lines, on_bad_lines, delim_whitespace, low_memory, memory_map, float_precision, storage_options)\u001B[0m\n\u001B[1;32m    665\u001B[0m kwds_defaults \u001B[38;5;241m=\u001B[39m _refine_defaults_read(\n\u001B[1;32m    666\u001B[0m     dialect,\n\u001B[1;32m    667\u001B[0m     delimiter,\n\u001B[0;32m   (...)\u001B[0m\n\u001B[1;32m    676\u001B[0m     defaults\u001B[38;5;241m=\u001B[39m{\u001B[38;5;124m\"\u001B[39m\u001B[38;5;124mdelimiter\u001B[39m\u001B[38;5;124m\"\u001B[39m: \u001B[38;5;124m\"\u001B[39m\u001B[38;5;124m,\u001B[39m\u001B[38;5;124m\"\u001B[39m},\n\u001B[1;32m    677\u001B[0m )\n\u001B[1;32m    678\u001B[0m kwds\u001B[38;5;241m.\u001B[39mupdate(kwds_defaults)\n\u001B[0;32m--> 680\u001B[0m \u001B[38;5;28;01mreturn\u001B[39;00m \u001B[43m_read\u001B[49m\u001B[43m(\u001B[49m\u001B[43mfilepath_or_buffer\u001B[49m\u001B[43m,\u001B[49m\u001B[43m \u001B[49m\u001B[43mkwds\u001B[49m\u001B[43m)\u001B[49m\n",
      "File \u001B[0;32m~/opt/anaconda3/lib/python3.9/site-packages/pandas/io/parsers/readers.py:575\u001B[0m, in \u001B[0;36m_read\u001B[0;34m(filepath_or_buffer, kwds)\u001B[0m\n\u001B[1;32m    572\u001B[0m _validate_names(kwds\u001B[38;5;241m.\u001B[39mget(\u001B[38;5;124m\"\u001B[39m\u001B[38;5;124mnames\u001B[39m\u001B[38;5;124m\"\u001B[39m, \u001B[38;5;28;01mNone\u001B[39;00m))\n\u001B[1;32m    574\u001B[0m \u001B[38;5;66;03m# Create the parser.\u001B[39;00m\n\u001B[0;32m--> 575\u001B[0m parser \u001B[38;5;241m=\u001B[39m \u001B[43mTextFileReader\u001B[49m\u001B[43m(\u001B[49m\u001B[43mfilepath_or_buffer\u001B[49m\u001B[43m,\u001B[49m\u001B[43m \u001B[49m\u001B[38;5;241;43m*\u001B[39;49m\u001B[38;5;241;43m*\u001B[39;49m\u001B[43mkwds\u001B[49m\u001B[43m)\u001B[49m\n\u001B[1;32m    577\u001B[0m \u001B[38;5;28;01mif\u001B[39;00m chunksize \u001B[38;5;129;01mor\u001B[39;00m iterator:\n\u001B[1;32m    578\u001B[0m     \u001B[38;5;28;01mreturn\u001B[39;00m parser\n",
      "File \u001B[0;32m~/opt/anaconda3/lib/python3.9/site-packages/pandas/io/parsers/readers.py:933\u001B[0m, in \u001B[0;36mTextFileReader.__init__\u001B[0;34m(self, f, engine, **kwds)\u001B[0m\n\u001B[1;32m    930\u001B[0m     \u001B[38;5;28mself\u001B[39m\u001B[38;5;241m.\u001B[39moptions[\u001B[38;5;124m\"\u001B[39m\u001B[38;5;124mhas_index_names\u001B[39m\u001B[38;5;124m\"\u001B[39m] \u001B[38;5;241m=\u001B[39m kwds[\u001B[38;5;124m\"\u001B[39m\u001B[38;5;124mhas_index_names\u001B[39m\u001B[38;5;124m\"\u001B[39m]\n\u001B[1;32m    932\u001B[0m \u001B[38;5;28mself\u001B[39m\u001B[38;5;241m.\u001B[39mhandles: IOHandles \u001B[38;5;241m|\u001B[39m \u001B[38;5;28;01mNone\u001B[39;00m \u001B[38;5;241m=\u001B[39m \u001B[38;5;28;01mNone\u001B[39;00m\n\u001B[0;32m--> 933\u001B[0m \u001B[38;5;28mself\u001B[39m\u001B[38;5;241m.\u001B[39m_engine \u001B[38;5;241m=\u001B[39m \u001B[38;5;28;43mself\u001B[39;49m\u001B[38;5;241;43m.\u001B[39;49m\u001B[43m_make_engine\u001B[49m\u001B[43m(\u001B[49m\u001B[43mf\u001B[49m\u001B[43m,\u001B[49m\u001B[43m \u001B[49m\u001B[38;5;28;43mself\u001B[39;49m\u001B[38;5;241;43m.\u001B[39;49m\u001B[43mengine\u001B[49m\u001B[43m)\u001B[49m\n",
      "File \u001B[0;32m~/opt/anaconda3/lib/python3.9/site-packages/pandas/io/parsers/readers.py:1217\u001B[0m, in \u001B[0;36mTextFileReader._make_engine\u001B[0;34m(self, f, engine)\u001B[0m\n\u001B[1;32m   1213\u001B[0m     mode \u001B[38;5;241m=\u001B[39m \u001B[38;5;124m\"\u001B[39m\u001B[38;5;124mrb\u001B[39m\u001B[38;5;124m\"\u001B[39m\n\u001B[1;32m   1214\u001B[0m \u001B[38;5;66;03m# error: No overload variant of \"get_handle\" matches argument types\u001B[39;00m\n\u001B[1;32m   1215\u001B[0m \u001B[38;5;66;03m# \"Union[str, PathLike[str], ReadCsvBuffer[bytes], ReadCsvBuffer[str]]\"\u001B[39;00m\n\u001B[1;32m   1216\u001B[0m \u001B[38;5;66;03m# , \"str\", \"bool\", \"Any\", \"Any\", \"Any\", \"Any\", \"Any\"\u001B[39;00m\n\u001B[0;32m-> 1217\u001B[0m \u001B[38;5;28mself\u001B[39m\u001B[38;5;241m.\u001B[39mhandles \u001B[38;5;241m=\u001B[39m \u001B[43mget_handle\u001B[49m\u001B[43m(\u001B[49m\u001B[43m  \u001B[49m\u001B[38;5;66;43;03m# type: ignore[call-overload]\u001B[39;49;00m\n\u001B[1;32m   1218\u001B[0m \u001B[43m    \u001B[49m\u001B[43mf\u001B[49m\u001B[43m,\u001B[49m\n\u001B[1;32m   1219\u001B[0m \u001B[43m    \u001B[49m\u001B[43mmode\u001B[49m\u001B[43m,\u001B[49m\n\u001B[1;32m   1220\u001B[0m \u001B[43m    \u001B[49m\u001B[43mencoding\u001B[49m\u001B[38;5;241;43m=\u001B[39;49m\u001B[38;5;28;43mself\u001B[39;49m\u001B[38;5;241;43m.\u001B[39;49m\u001B[43moptions\u001B[49m\u001B[38;5;241;43m.\u001B[39;49m\u001B[43mget\u001B[49m\u001B[43m(\u001B[49m\u001B[38;5;124;43m\"\u001B[39;49m\u001B[38;5;124;43mencoding\u001B[39;49m\u001B[38;5;124;43m\"\u001B[39;49m\u001B[43m,\u001B[49m\u001B[43m \u001B[49m\u001B[38;5;28;43;01mNone\u001B[39;49;00m\u001B[43m)\u001B[49m\u001B[43m,\u001B[49m\n\u001B[1;32m   1221\u001B[0m \u001B[43m    \u001B[49m\u001B[43mcompression\u001B[49m\u001B[38;5;241;43m=\u001B[39;49m\u001B[38;5;28;43mself\u001B[39;49m\u001B[38;5;241;43m.\u001B[39;49m\u001B[43moptions\u001B[49m\u001B[38;5;241;43m.\u001B[39;49m\u001B[43mget\u001B[49m\u001B[43m(\u001B[49m\u001B[38;5;124;43m\"\u001B[39;49m\u001B[38;5;124;43mcompression\u001B[39;49m\u001B[38;5;124;43m\"\u001B[39;49m\u001B[43m,\u001B[49m\u001B[43m \u001B[49m\u001B[38;5;28;43;01mNone\u001B[39;49;00m\u001B[43m)\u001B[49m\u001B[43m,\u001B[49m\n\u001B[1;32m   1222\u001B[0m \u001B[43m    \u001B[49m\u001B[43mmemory_map\u001B[49m\u001B[38;5;241;43m=\u001B[39;49m\u001B[38;5;28;43mself\u001B[39;49m\u001B[38;5;241;43m.\u001B[39;49m\u001B[43moptions\u001B[49m\u001B[38;5;241;43m.\u001B[39;49m\u001B[43mget\u001B[49m\u001B[43m(\u001B[49m\u001B[38;5;124;43m\"\u001B[39;49m\u001B[38;5;124;43mmemory_map\u001B[39;49m\u001B[38;5;124;43m\"\u001B[39;49m\u001B[43m,\u001B[49m\u001B[43m \u001B[49m\u001B[38;5;28;43;01mFalse\u001B[39;49;00m\u001B[43m)\u001B[49m\u001B[43m,\u001B[49m\n\u001B[1;32m   1223\u001B[0m \u001B[43m    \u001B[49m\u001B[43mis_text\u001B[49m\u001B[38;5;241;43m=\u001B[39;49m\u001B[43mis_text\u001B[49m\u001B[43m,\u001B[49m\n\u001B[1;32m   1224\u001B[0m \u001B[43m    \u001B[49m\u001B[43merrors\u001B[49m\u001B[38;5;241;43m=\u001B[39;49m\u001B[38;5;28;43mself\u001B[39;49m\u001B[38;5;241;43m.\u001B[39;49m\u001B[43moptions\u001B[49m\u001B[38;5;241;43m.\u001B[39;49m\u001B[43mget\u001B[49m\u001B[43m(\u001B[49m\u001B[38;5;124;43m\"\u001B[39;49m\u001B[38;5;124;43mencoding_errors\u001B[39;49m\u001B[38;5;124;43m\"\u001B[39;49m\u001B[43m,\u001B[49m\u001B[43m \u001B[49m\u001B[38;5;124;43m\"\u001B[39;49m\u001B[38;5;124;43mstrict\u001B[39;49m\u001B[38;5;124;43m\"\u001B[39;49m\u001B[43m)\u001B[49m\u001B[43m,\u001B[49m\n\u001B[1;32m   1225\u001B[0m \u001B[43m    \u001B[49m\u001B[43mstorage_options\u001B[49m\u001B[38;5;241;43m=\u001B[39;49m\u001B[38;5;28;43mself\u001B[39;49m\u001B[38;5;241;43m.\u001B[39;49m\u001B[43moptions\u001B[49m\u001B[38;5;241;43m.\u001B[39;49m\u001B[43mget\u001B[49m\u001B[43m(\u001B[49m\u001B[38;5;124;43m\"\u001B[39;49m\u001B[38;5;124;43mstorage_options\u001B[39;49m\u001B[38;5;124;43m\"\u001B[39;49m\u001B[43m,\u001B[49m\u001B[43m \u001B[49m\u001B[38;5;28;43;01mNone\u001B[39;49;00m\u001B[43m)\u001B[49m\u001B[43m,\u001B[49m\n\u001B[1;32m   1226\u001B[0m \u001B[43m\u001B[49m\u001B[43m)\u001B[49m\n\u001B[1;32m   1227\u001B[0m \u001B[38;5;28;01massert\u001B[39;00m \u001B[38;5;28mself\u001B[39m\u001B[38;5;241m.\u001B[39mhandles \u001B[38;5;129;01mis\u001B[39;00m \u001B[38;5;129;01mnot\u001B[39;00m \u001B[38;5;28;01mNone\u001B[39;00m\n\u001B[1;32m   1228\u001B[0m f \u001B[38;5;241m=\u001B[39m \u001B[38;5;28mself\u001B[39m\u001B[38;5;241m.\u001B[39mhandles\u001B[38;5;241m.\u001B[39mhandle\n",
      "File \u001B[0;32m~/opt/anaconda3/lib/python3.9/site-packages/pandas/io/common.py:789\u001B[0m, in \u001B[0;36mget_handle\u001B[0;34m(path_or_buf, mode, encoding, compression, memory_map, is_text, errors, storage_options)\u001B[0m\n\u001B[1;32m    784\u001B[0m \u001B[38;5;28;01melif\u001B[39;00m \u001B[38;5;28misinstance\u001B[39m(handle, \u001B[38;5;28mstr\u001B[39m):\n\u001B[1;32m    785\u001B[0m     \u001B[38;5;66;03m# Check whether the filename is to be opened in binary mode.\u001B[39;00m\n\u001B[1;32m    786\u001B[0m     \u001B[38;5;66;03m# Binary mode does not support 'encoding' and 'newline'.\u001B[39;00m\n\u001B[1;32m    787\u001B[0m     \u001B[38;5;28;01mif\u001B[39;00m ioargs\u001B[38;5;241m.\u001B[39mencoding \u001B[38;5;129;01mand\u001B[39;00m \u001B[38;5;124m\"\u001B[39m\u001B[38;5;124mb\u001B[39m\u001B[38;5;124m\"\u001B[39m \u001B[38;5;129;01mnot\u001B[39;00m \u001B[38;5;129;01min\u001B[39;00m ioargs\u001B[38;5;241m.\u001B[39mmode:\n\u001B[1;32m    788\u001B[0m         \u001B[38;5;66;03m# Encoding\u001B[39;00m\n\u001B[0;32m--> 789\u001B[0m         handle \u001B[38;5;241m=\u001B[39m \u001B[38;5;28;43mopen\u001B[39;49m\u001B[43m(\u001B[49m\n\u001B[1;32m    790\u001B[0m \u001B[43m            \u001B[49m\u001B[43mhandle\u001B[49m\u001B[43m,\u001B[49m\n\u001B[1;32m    791\u001B[0m \u001B[43m            \u001B[49m\u001B[43mioargs\u001B[49m\u001B[38;5;241;43m.\u001B[39;49m\u001B[43mmode\u001B[49m\u001B[43m,\u001B[49m\n\u001B[1;32m    792\u001B[0m \u001B[43m            \u001B[49m\u001B[43mencoding\u001B[49m\u001B[38;5;241;43m=\u001B[39;49m\u001B[43mioargs\u001B[49m\u001B[38;5;241;43m.\u001B[39;49m\u001B[43mencoding\u001B[49m\u001B[43m,\u001B[49m\n\u001B[1;32m    793\u001B[0m \u001B[43m            \u001B[49m\u001B[43merrors\u001B[49m\u001B[38;5;241;43m=\u001B[39;49m\u001B[43merrors\u001B[49m\u001B[43m,\u001B[49m\n\u001B[1;32m    794\u001B[0m \u001B[43m            \u001B[49m\u001B[43mnewline\u001B[49m\u001B[38;5;241;43m=\u001B[39;49m\u001B[38;5;124;43m\"\u001B[39;49m\u001B[38;5;124;43m\"\u001B[39;49m\u001B[43m,\u001B[49m\n\u001B[1;32m    795\u001B[0m \u001B[43m        \u001B[49m\u001B[43m)\u001B[49m\n\u001B[1;32m    796\u001B[0m     \u001B[38;5;28;01melse\u001B[39;00m:\n\u001B[1;32m    797\u001B[0m         \u001B[38;5;66;03m# Binary mode\u001B[39;00m\n\u001B[1;32m    798\u001B[0m         handle \u001B[38;5;241m=\u001B[39m \u001B[38;5;28mopen\u001B[39m(handle, ioargs\u001B[38;5;241m.\u001B[39mmode)\n",
      "\u001B[0;31mFileNotFoundError\u001B[0m: [Errno 2] No such file or directory: '/datasets/Churn.csv'"
     ]
    }
   ],
   "source": [
    "try:\n",
    "    df = pd.read_csv('Churn.csv')\n",
    "except:\n",
    "    df = pd.read_csv('/datasets/Churn.csv')"
   ]
  },
  {
   "cell_type": "markdown",
   "metadata": {},
   "source": [
    "для начала, изучим основную информацию по датасету "
   ]
  },
  {
   "cell_type": "code",
   "execution_count": null,
   "metadata": {},
   "outputs": [],
   "source": [
    "df.info()"
   ]
  },
  {
   "cell_type": "markdown",
   "metadata": {},
   "source": [
    "выведем на экран первые строки датасета, для изучения и визуальной оценки данных"
   ]
  },
  {
   "cell_type": "code",
   "execution_count": null,
   "metadata": {},
   "outputs": [],
   "source": [
    "df.head(5)"
   ]
  },
  {
   "cell_type": "code",
   "execution_count": null,
   "metadata": {},
   "outputs": [],
   "source": [
    "df.sort_index(axis=1, ascending = True)"
   ]
  },
  {
   "cell_type": "markdown",
   "metadata": {},
   "source": [
    "на основании изучения основной информации по датасету и таблицы данных, делаем вывод о том, что типы данных соответствуют признакам."
   ]
  },
  {
   "cell_type": "markdown",
   "metadata": {},
   "source": [
    "изучим кол-во пропусков в датасете: выведем кол-во пропущенных значений для кажодого столбца"
   ]
  },
  {
   "cell_type": "code",
   "execution_count": null,
   "metadata": {
    "scrolled": true
   },
   "outputs": [],
   "source": [
    "df.isna().sum()"
   ]
  },
  {
   "cell_type": "markdown",
   "metadata": {},
   "source": [
    "пока видим лишь 9% пропусков по признаку Tenure - сколько лет человек является клиентом банка. Это может быть важнейшим признаком, для предсказания целевой переменной. Пока ничего делать не будем, т.к. заполение медианными значениями может значимо ухудшить прогноз. Изучим структуру признака Tenure.  "
   ]
  },
  {
   "cell_type": "code",
   "execution_count": null,
   "metadata": {},
   "outputs": [],
   "source": [
    "df['Tenure'].value_counts()"
   ]
  },
  {
   "cell_type": "code",
   "execution_count": null,
   "metadata": {
    "scrolled": true
   },
   "outputs": [],
   "source": [
    "df[df['Tenure'].isna()].head()"
   ]
  },
  {
   "cell_type": "code",
   "execution_count": null,
   "metadata": {},
   "outputs": [],
   "source": [
    "df.shape"
   ]
  },
  {
   "cell_type": "markdown",
   "metadata": {},
   "source": [
    "Пропуски нельзя оставлять без внимания: группировка данных с NaN может привести к некорректным результатам анализа, по-этому, пропуски NaN просто заменим на нули. Также обратили внимание на столбцы, не несущие полезной информации: Surname, row number , Customerid - удалим, т к они не несут полезной информации."
   ]
  },
  {
   "cell_type": "code",
   "execution_count": null,
   "metadata": {},
   "outputs": [],
   "source": [
    "df['Tenure'] = df['Tenure'].fillna(0)\n",
    "pd.DataFrame(round(df.isna().mean()*100,)).style.background_gradient('coolwarm').format(\"{:.2f}\")"
   ]
  },
  {
   "cell_type": "markdown",
   "metadata": {},
   "source": [
    "<div class=\"alert alert-success\">\n",
    "<h2> Комментарий ревьюера ✔️ <a class=\"tocSkip\"> </h2>\n",
    "\n",
    "По пропускам: заполнить нулями - отличное решение, так мы предполагаем, что это новые клиенты. Как еще можно было их обработать:\n",
    "    \n",
    "- распределение по `Tenure` ровномерное, если сейчас заменить почти 900 пропусков (9% данных) средним или медианой, то мы значительно исказим распределение. В таком случае можно заполнить пропуски случайными значениями в интервале от минимального до максимального значения по данному столбцу.\n",
    "\n",
    "- Так как значений в этом признаке ограниченное количество, можно сделать его категориальным признаком. Пропуски можно считать как за отдельную категорию (заполнить значением -1). Затем заменить тип данных `Tenure` на `object` и применить технику [OHE](https://scikit-learn.org/stable/modules/generated/sklearn.preprocessing.OneHotEncoder.html)."
   ]
  },
  {
   "cell_type": "markdown",
   "metadata": {},
   "source": [
    "все в порядке: пропуски заменены. Переходим у удалению обсужденных выше столбцов."
   ]
  },
  {
   "cell_type": "code",
   "execution_count": null,
   "metadata": {},
   "outputs": [],
   "source": [
    "df = df.drop(columns = ['RowNumber', 'CustomerId', 'Surname'], axis = 1)"
   ]
  },
  {
   "cell_type": "markdown",
   "metadata": {},
   "source": [
    "<div class=\"alert alert-success\">\n",
    "<h2> Комментарий ревьюера ✔️ <a class=\"tocSkip\"> </h2>\n",
    "\n",
    "Да, согласен с решением, неинформативные столбцы нам не нужны"
   ]
  },
  {
   "cell_type": "code",
   "execution_count": null,
   "metadata": {},
   "outputs": [],
   "source": [
    "df.head(5)"
   ]
  },
  {
   "cell_type": "code",
   "execution_count": null,
   "metadata": {},
   "outputs": [],
   "source": [
    "df.shape"
   ]
  },
  {
   "cell_type": "markdown",
   "metadata": {},
   "source": [
    "Проведем преобразование категориальных признаков в численные методом прямого кодирования OHE. Сразу избавляемся от dummy- ловушки."
   ]
  },
  {
   "cell_type": "code",
   "execution_count": null,
   "metadata": {},
   "outputs": [],
   "source": [
    "df_ohe =pd.get_dummies(df, drop_first=True)\n",
    "df_ohe.head(5)"
   ]
  },
  {
   "cell_type": "markdown",
   "metadata": {},
   "source": [
    "<div class=\"alert alert-success\">\n",
    "<h2> Комментарий ревьюера ✔️ <a class=\"tocSkip\"> </h2>\n",
    "\n",
    "В данном случае это наиболее подходящий способ закодировать категориальные колонки 👍 И отдельный плюс за `drop_first`"
   ]
  },
  {
   "cell_type": "markdown",
   "metadata": {},
   "source": [
    "## Исследование задачи"
   ]
  },
  {
   "cell_type": "markdown",
   "metadata": {},
   "source": [
    "Наша задача разбить данные в пропорции 60% обучающая выборка, 20% валидационная и 20% тестовая выборка. Первым этапом, делим выборку в соотношении 60/40 на обучающую и остальные"
   ]
  },
  {
   "cell_type": "code",
   "execution_count": null,
   "metadata": {},
   "outputs": [],
   "source": [
    "df_ohe_train, df_ohe_last = train_test_split(df_ohe, test_size=0.4, random_state=12345)"
   ]
  },
  {
   "cell_type": "markdown",
   "metadata": {},
   "source": [
    "вторым этапом делим оставшиеся 40% на 20/20, у нас получится валидационная и тестовая выборки. И выполним проверку разбиения."
   ]
  },
  {
   "cell_type": "code",
   "execution_count": null,
   "metadata": {},
   "outputs": [],
   "source": [
    "df_ohe_valid, df_ohe_test = train_test_split(df_ohe_last, test_size=0.5, random_state=12345)"
   ]
  },
  {
   "cell_type": "markdown",
   "metadata": {},
   "source": [
    "<div class=\"alert alert-success\">\n",
    "<h2> Комментарий ревьюера ✔️ <a class=\"tocSkip\"> </h2>\n",
    "\n",
    "Круто, что ты фиксируешь `random_state`. Кстати, его можно задать один раз в начале проекта, например, используя любимый нами [numpy](https://pyprog.pro/random_sampling_functions/seed.html?)"
   ]
  },
  {
   "cell_type": "code",
   "execution_count": null,
   "metadata": {},
   "outputs": [],
   "source": [
    "np.random.seed(12345)"
   ]
  },
  {
   "cell_type": "markdown",
   "metadata": {},
   "source": [
    "<font color='blue'> попробовал реализовать в строке, вроде срабатывает. Так необходимо делать в начале кода? </font> "
   ]
  },
  {
   "cell_type": "markdown",
   "metadata": {},
   "source": [
    "<font color='blue'> Вопрос: а как это правильно реализовать? В отдельной ячейке np.random.seed(0)  и далее данный параметр не фиксировать нигде, \n",
    "    обращение к нему из всех  методов, его использующих будет автоматическое?  </font> "
   ]
  },
  {
   "cell_type": "markdown",
   "metadata": {},
   "source": [
    "<div class=\"alert alert-success\">\n",
    "<h2> Комментарий ревьюера v2 ✔️ <a class=\"tocSkip\"> </h2>\n",
    "\n",
    "Да в начале проекта можно указать и потом не задавать отдельно в методах сид. На самом деле, есть еще библиотеки, которые используют рандомные процессы, например библиотека `random` или `torch`. ПОэтому если их используешь, для них аналогично сид нужно фиксировать. Я обычно использую вот такую функцию\n",
    "    \n",
    "```python\n",
    "def set_seed(seed):\n",
    "    random.seed(seed)\n",
    "    np.random.seed(seed)\n",
    "    torch.manual_seed(seed)\n",
    "    if torch.cuda.is_available():\n",
    "        torch.cuda.manual_seed_all(seed)\n",
    "```"
   ]
  },
  {
   "cell_type": "code",
   "execution_count": 6,
   "metadata": {},
   "outputs": [
    {
     "ename": "NameError",
     "evalue": "name 'df_ohe_train' is not defined",
     "output_type": "error",
     "traceback": [
      "\u001B[0;31m---------------------------------------------------------------------------\u001B[0m",
      "\u001B[0;31mNameError\u001B[0m                                 Traceback (most recent call last)",
      "Cell \u001B[0;32mIn[6], line 1\u001B[0m\n\u001B[0;32m----> 1\u001B[0m \u001B[43mdf_ohe_train\u001B[49m\u001B[38;5;241m.\u001B[39mshape\n",
      "\u001B[0;31mNameError\u001B[0m: name 'df_ohe_train' is not defined"
     ]
    }
   ],
   "source": [
    "df_ohe_train.shape"
   ]
  },
  {
   "cell_type": "code",
   "execution_count": null,
   "metadata": {},
   "outputs": [],
   "source": [
    "df_ohe_valid.shape"
   ]
  },
  {
   "cell_type": "code",
   "execution_count": null,
   "metadata": {},
   "outputs": [],
   "source": [
    "df_ohe_test.shape"
   ]
  },
  {
   "cell_type": "markdown",
   "metadata": {},
   "source": [
    "теперь проведем масштабирование признаков, с целью стандартизации"
   ]
  },
  {
   "cell_type": "code",
   "execution_count": 7,
   "metadata": {},
   "outputs": [
    {
     "ename": "NameError",
     "evalue": "name 'df_ohe_train' is not defined",
     "output_type": "error",
     "traceback": [
      "\u001B[0;31m---------------------------------------------------------------------------\u001B[0m",
      "\u001B[0;31mNameError\u001B[0m                                 Traceback (most recent call last)",
      "Cell \u001B[0;32mIn[7], line 4\u001B[0m\n\u001B[1;32m      2\u001B[0m numeric \u001B[38;5;241m=\u001B[39m [\u001B[38;5;124m'\u001B[39m\u001B[38;5;124mCreditScore\u001B[39m\u001B[38;5;124m'\u001B[39m, \u001B[38;5;124m'\u001B[39m\u001B[38;5;124mAge\u001B[39m\u001B[38;5;124m'\u001B[39m, \u001B[38;5;124m'\u001B[39m\u001B[38;5;124mTenure\u001B[39m\u001B[38;5;124m'\u001B[39m, \u001B[38;5;124m'\u001B[39m\u001B[38;5;124mBalance\u001B[39m\u001B[38;5;124m'\u001B[39m, \u001B[38;5;124m'\u001B[39m\u001B[38;5;124mNumOfProducts\u001B[39m\u001B[38;5;124m'\u001B[39m, \u001B[38;5;124m'\u001B[39m\u001B[38;5;124mEstimatedSalary\u001B[39m\u001B[38;5;124m'\u001B[39m]\n\u001B[1;32m      3\u001B[0m scaler \u001B[38;5;241m=\u001B[39m StandardScaler()\n\u001B[0;32m----> 4\u001B[0m scaler\u001B[38;5;241m.\u001B[39mfit(\u001B[43mdf_ohe_train\u001B[49m[numeric]) \n\u001B[1;32m      6\u001B[0m df_ohe_train[numeric] \u001B[38;5;241m=\u001B[39m scaler\u001B[38;5;241m.\u001B[39mtransform(df_ohe_train[numeric])\n\u001B[1;32m      7\u001B[0m df_ohe_valid[numeric] \u001B[38;5;241m=\u001B[39m scaler\u001B[38;5;241m.\u001B[39mtransform(df_ohe_valid[numeric])\n",
      "\u001B[0;31mNameError\u001B[0m: name 'df_ohe_train' is not defined"
     ]
    }
   ],
   "source": [
    "pd.options.mode.chained_assignment = None\n",
    "numeric = ['CreditScore', 'Age', 'Tenure', 'Balance', 'NumOfProducts', 'EstimatedSalary']\n",
    "scaler = StandardScaler()\n",
    "scaler.fit(df_ohe_train[numeric]) \n",
    "\n",
    "df_ohe_train[numeric] = scaler.transform(df_ohe_train[numeric])\n",
    "df_ohe_valid[numeric] = scaler.transform(df_ohe_valid[numeric])\n",
    "df_ohe_test[numeric] = scaler.transform(df_ohe_test[numeric])\n"
   ]
  },
  {
   "cell_type": "code",
   "execution_count": null,
   "outputs": [],
   "source": [],
   "metadata": {
    "collapsed": false
   }
  },
  {
   "cell_type": "markdown",
   "metadata": {},
   "source": [
    "<div class=\"alert alert-success\">\n",
    "<h2> Комментарий ревьюера ✔️ <a class=\"tocSkip\"> </h2>\n",
    "\n",
    "Стандартизация выполнена корректно, молодец! Кстати, хорошо бы проверить метрики без нее, возможно, результат будет лучше, а возможно, и нет. Дело в том, что алгоритмы основанные на лесах, на самом деле, не нуждаются в нормализации или стандартизации, в отличии от линейных моделей"
   ]
  },
  {
   "cell_type": "markdown",
   "metadata": {},
   "source": [
    "<div class=\"alert alert-warning\">\n",
    "<h2> Комментарий ревьюера ⚠️ <a class=\"tocSkip\"> </h2>\n",
    "\n",
    "Вылезают предупреждения и я вижу, что ты прописываешь отмену их визуализации. Только ее нужно прописывать в самом начале"
   ]
  },
  {
   "cell_type": "markdown",
   "metadata": {},
   "source": [
    "<font color='blue'> принято: реализовал   </font> "
   ]
  },
  {
   "cell_type": "markdown",
   "metadata": {},
   "source": [
    "для тренинговой выборки выделим в датасете целевой признак и проверим что получилось"
   ]
  },
  {
   "cell_type": "code",
   "execution_count": 8,
   "metadata": {},
   "outputs": [
    {
     "ename": "NameError",
     "evalue": "name 'df_ohe_train' is not defined",
     "output_type": "error",
     "traceback": [
      "\u001B[0;31m---------------------------------------------------------------------------\u001B[0m",
      "\u001B[0;31mNameError\u001B[0m                                 Traceback (most recent call last)",
      "Cell \u001B[0;32mIn[8], line 1\u001B[0m\n\u001B[0;32m----> 1\u001B[0m target_train \u001B[38;5;241m=\u001B[39m \u001B[43mdf_ohe_train\u001B[49m[\u001B[38;5;124m'\u001B[39m\u001B[38;5;124mExited\u001B[39m\u001B[38;5;124m'\u001B[39m]\n\u001B[1;32m      2\u001B[0m features_train \u001B[38;5;241m=\u001B[39m df_ohe_train\u001B[38;5;241m.\u001B[39mdrop(\u001B[38;5;124m'\u001B[39m\u001B[38;5;124mExited\u001B[39m\u001B[38;5;124m'\u001B[39m, axis\u001B[38;5;241m=\u001B[39m\u001B[38;5;241m1\u001B[39m)\n\u001B[1;32m      3\u001B[0m target_valid \u001B[38;5;241m=\u001B[39m df_ohe_valid[\u001B[38;5;124m'\u001B[39m\u001B[38;5;124mExited\u001B[39m\u001B[38;5;124m'\u001B[39m]\n",
      "\u001B[0;31mNameError\u001B[0m: name 'df_ohe_train' is not defined"
     ]
    }
   ],
   "source": [
    "target_train = df_ohe_train['Exited']\n",
    "features_train = df_ohe_train.drop('Exited', axis=1)\n",
    "target_valid = df_ohe_valid['Exited']\n",
    "features_valid = df_ohe_valid.drop('Exited', axis=1)\n",
    "target_test = df_ohe_test['Exited']\n",
    "features_test = df_ohe_test.drop('Exited', axis=1)"
   ]
  },
  {
   "cell_type": "code",
   "execution_count": null,
   "metadata": {},
   "outputs": [],
   "source": [
    "target_train.head(5)"
   ]
  },
  {
   "cell_type": "code",
   "execution_count": null,
   "metadata": {},
   "outputs": [],
   "source": [
    "target_valid.shape"
   ]
  },
  {
   "cell_type": "code",
   "execution_count": null,
   "metadata": {},
   "outputs": [],
   "source": [
    "features_train.head(5)"
   ]
  },
  {
   "cell_type": "markdown",
   "metadata": {},
   "source": [
    "все в порядке, можно работать."
   ]
  },
  {
   "cell_type": "markdown",
   "metadata": {},
   "source": [
    "Приступаем к исследованию баланса классов, по порядку."
   ]
  },
  {
   "cell_type": "code",
   "execution_count": 9,
   "metadata": {},
   "outputs": [
    {
     "ename": "NameError",
     "evalue": "name 'target_train' is not defined",
     "output_type": "error",
     "traceback": [
      "\u001B[0;31m---------------------------------------------------------------------------\u001B[0m",
      "\u001B[0;31mNameError\u001B[0m                                 Traceback (most recent call last)",
      "Cell \u001B[0;32mIn[9], line 1\u001B[0m\n\u001B[0;32m----> 1\u001B[0m \u001B[43mtarget_train\u001B[49m\u001B[38;5;241m.\u001B[39mvalue_counts(normalize \u001B[38;5;241m=\u001B[39m \u001B[38;5;28;01mTrue\u001B[39;00m)\u001B[38;5;241m.\u001B[39mplot\u001B[38;5;241m.\u001B[39mpie(legend \u001B[38;5;241m=\u001B[39m \u001B[38;5;28;01mTrue\u001B[39;00m)\n\u001B[1;32m      2\u001B[0m plt\u001B[38;5;241m.\u001B[39mtitle(\u001B[38;5;124m'\u001B[39m\u001B[38;5;124mКлиент в банке остался/ушел\u001B[39m\u001B[38;5;124m'\u001B[39m)\n\u001B[1;32m      3\u001B[0m plt\u001B[38;5;241m.\u001B[39mshow()\n",
      "\u001B[0;31mNameError\u001B[0m: name 'target_train' is not defined"
     ]
    }
   ],
   "source": [
    "target_train.value_counts(normalize = True).plot.pie(legend = True)\n",
    "plt.title('Клиент в банке остался/ушел')\n",
    "plt.show()"
   ]
  },
  {
   "cell_type": "code",
   "execution_count": null,
   "metadata": {},
   "outputs": [],
   "source": [
    "features_train['HasCrCard'].value_counts(normalize = True).plot.pie(legend = True)\n",
    "plt.title('Наличие кредитной карты')\n",
    "plt.show()"
   ]
  },
  {
   "cell_type": "code",
   "execution_count": null,
   "metadata": {},
   "outputs": [],
   "source": [
    "features_train['IsActiveMember'].value_counts(normalize = True).plot.pie(legend = True)\n",
    "plt.title('Активность клиента')\n",
    "plt.show()\n"
   ]
  },
  {
   "cell_type": "code",
   "execution_count": null,
   "metadata": {},
   "outputs": [],
   "source": [
    "features_train['Geography_Germany'].value_counts(normalize = True).plot.pie(legend = True)\n",
    "plt.title('Проживающих в Германии')\n",
    "plt.show()"
   ]
  },
  {
   "cell_type": "code",
   "execution_count": null,
   "metadata": {},
   "outputs": [],
   "source": [
    "features_train['Geography_Spain'].value_counts(normalize = True).plot.pie(legend = True)\n",
    "plt.title('Проживающих в Испании')\n",
    "plt.show()"
   ]
  },
  {
   "cell_type": "code",
   "execution_count": null,
   "metadata": {},
   "outputs": [],
   "source": [
    "features_train['Gender_Male'].value_counts(normalize = True).plot.pie(legend = True)\n",
    "plt.title('Пол')\n",
    "plt.show()"
   ]
  },
  {
   "cell_type": "markdown",
   "metadata": {},
   "source": [
    "Вывод: В ряде столбцов: Exited, HasCrCard, Geography_Germany, Geography_Spain, обнаружен дисбаланс классов"
   ]
  },
  {
   "cell_type": "markdown",
   "metadata": {},
   "source": [
    "Приступаем к обучению модели, без учета дисбаланса классов. Первым этапом, обучим модель Решающего дерева и \n",
    "в цикле подберем глубину леса"
   ]
  },
  {
   "cell_type": "code",
   "execution_count": 10,
   "metadata": {
    "scrolled": true
   },
   "outputs": [
    {
     "ename": "NameError",
     "evalue": "name 'features_train' is not defined",
     "output_type": "error",
     "traceback": [
      "\u001B[0;31m---------------------------------------------------------------------------\u001B[0m",
      "\u001B[0;31mNameError\u001B[0m                                 Traceback (most recent call last)",
      "Cell \u001B[0;32mIn[10], line 7\u001B[0m\n\u001B[1;32m      5\u001B[0m \u001B[38;5;28;01mfor\u001B[39;00m depth \u001B[38;5;129;01min\u001B[39;00m \u001B[38;5;28mrange\u001B[39m (\u001B[38;5;241m1\u001B[39m, \u001B[38;5;241m100\u001B[39m, \u001B[38;5;241m1\u001B[39m):\n\u001B[1;32m      6\u001B[0m     model \u001B[38;5;241m=\u001B[39m DecisionTreeClassifier(max_depth\u001B[38;5;241m=\u001B[39m depth, random_state\u001B[38;5;241m=\u001B[39m\u001B[38;5;241m12345\u001B[39m)\n\u001B[0;32m----> 7\u001B[0m     model\u001B[38;5;241m.\u001B[39mfit(\u001B[43mfeatures_train\u001B[49m, target_train)\n\u001B[1;32m      8\u001B[0m     predicted_valid \u001B[38;5;241m=\u001B[39m model\u001B[38;5;241m.\u001B[39mpredict(features_valid)\n\u001B[1;32m     10\u001B[0m     predict_score \u001B[38;5;241m=\u001B[39m accuracy_score(predicted_valid, target_valid)\n",
      "\u001B[0;31mNameError\u001B[0m: name 'features_train' is not defined"
     ]
    }
   ],
   "source": [
    "best_score = 0\n",
    "best_model = 0\n",
    "best_score_f1 = 0\n",
    "best_auc_roc = 0\n",
    "for depth in range (1, 100, 1):\n",
    "    model = DecisionTreeClassifier(max_depth= depth, random_state=12345)\n",
    "    model.fit(features_train, target_train)\n",
    "    predicted_valid = model.predict(features_valid)\n",
    "    \n",
    "    predict_score = accuracy_score(predicted_valid, target_valid)\n",
    "    \n",
    "    f1 = f1_score(target_valid, predicted_valid)\n",
    "    \n",
    "    probabilities_valid = model.predict_proba(features_valid)\n",
    "    probabilities_one_valid =  probabilities_valid[:, 1]\n",
    "    auc_roc = roc_auc_score(target_valid, probabilities_one_valid)\n",
    "    print('Max depth:', depth,'F1-score:','{:.4f}'.format(f1),\n",
    "          'AUC-ROC:','{:.4f}'.format(auc_roc))\n",
    "    \n",
    "    \n",
    "    if best_score_f1 < f1:\n",
    "        best_score_f1 = f1\n",
    "        best_depth = depth\n",
    "        best_model = model\n",
    "        best_auc_roc = auc_roc\n",
    "        \n",
    "print('Лучшая F1-score','{:.4f}'.format(best_score_f1), 'при глубине = {0},  AUC-ROC = {1}'\n",
    "      .format(best_depth, best_auc_roc))\n",
    "\n",
    "    \n"
   ]
  },
  {
   "cell_type": "markdown",
   "metadata": {},
   "source": [
    "<div style=\"border:solid purple 5px; padding: 20px\"> \n",
    "<h2 align=\"center\"> Рубрика «Питонячий лайфхакер» <a class=\"tocSkip\"> </h2>\n",
    "\n",
    "<h3> Индикаторы состояния: progress и tqdm <a class=\"tocSkip\"> </h3>\n",
    "\n",
    "Как перестать беспокоиться о том, не завис ли скрипт? Вы можете создавать свои индикаторы состояния. Это весьма увлекательное занятие. Но делать то же самое с [progress](https://pypi.org/project/progress/) (ее обычно используют для работы из консоли) или [tqdm](https://pypi.org/project/tqdm/) (отлично подойдет для тетрадок) куда быстрее и надежнее.\n",
    "\n",
    "Обычно я использую эти две библиотеки, но вот [здесь](https://habr.com/ru/post/483400/) ты можешь почитать про альтернативные варианты\n",
    "\n",
    "![](https://i.ibb.co/B4SDm8Y/68747470733a2f2f7261772e6769746875622e636f6d2f7665726967616b2f70726f67726573732f6d61737465722f64656d.gif)"
   ]
  },
  {
   "cell_type": "markdown",
   "metadata": {},
   "source": [
    "<font color='blue'> вот это суперполезный комменнтарий. Спасибо большое!  Пытаюсь применить данную технологияю - выскакивает ошибка \"No module named 'progress'\" - как установить данный модуль? </font> "
   ]
  },
  {
   "cell_type": "markdown",
   "metadata": {},
   "source": [
    "<div class=\"alert alert-success\">\n",
    "<h2> Комментарий ревьюера v2 ✔️ <a class=\"tocSkip\"> </h2>\n",
    "\n",
    "Через `pip3 install...`. Но для юпитера я бы все же рекомендовал использовать tqdm"
   ]
  },
  {
   "cell_type": "markdown",
   "metadata": {},
   "source": [
    "итак, в следствие проведенного подбора параметров, мы получили на выходе 3 метрики, в виде набора оптимальных параметров:Лучшая F1-score 0.5787 при глубине = 9,  AUC-ROC = 0.7899719632952051"
   ]
  },
  {
   "cell_type": "markdown",
   "metadata": {},
   "source": [
    "переходим к модели леса деревьев RandomForestClassifier. Во вложенном цикле проведем подбор оптимальных параметров для обучения модели"
   ]
  },
  {
   "cell_type": "code",
   "execution_count": 11,
   "metadata": {
    "scrolled": true
   },
   "outputs": [
    {
     "ename": "NameError",
     "evalue": "name 'features_train' is not defined",
     "output_type": "error",
     "traceback": [
      "\u001B[0;31m---------------------------------------------------------------------------\u001B[0m",
      "\u001B[0;31mNameError\u001B[0m                                 Traceback (most recent call last)",
      "File \u001B[0;32m<timed exec>:11\u001B[0m\n",
      "\u001B[0;31mNameError\u001B[0m: name 'features_train' is not defined"
     ]
    }
   ],
   "source": [
    "%%time\n",
    "\n",
    "best_score_f1 = 0\n",
    "best_auc_roc = 0\n",
    "best_model_RFC = 0\n",
    "best_model_f1_RFC = 0\n",
    "best_model_auc_roc_RFC = 0\n",
    "best_depth_rfc_nb = 0\n",
    "best_est_nb = 0\n",
    "for depth in range(1, 20, 1):\n",
    "    for estimator in range(1, 50, 1):\n",
    "        model_rfc_nb = RandomForestClassifier(n_estimators=estimator, max_depth=depth, random_state=12345)\n",
    "        model_rfc_nb.fit(features_train, target_train)\n",
    "       \n",
    "        predict_valid_rfc_nb = model_rfc_nb.predict(features_valid)\n",
    "        \n",
    "        f1_valid_rfc_nb = f1_score(target_valid, predict_valid_rfc_nb)\n",
    "    \n",
    "        probabilities_valid_rfc_nb = model_rfc_nb.predict_proba(features_valid)\n",
    "        probabilities_one_valid_rfc_balanced =  probabilities_valid_rfc_nb[:, 1]\n",
    "        auc_roc_rfc_nb = roc_auc_score(target_valid, probabilities_one_valid_rfc_balanced)\n",
    "        \n",
    "        print('Max depth:', depth,'F1-score:','{:.4f}'.format(f1_valid_rfc_nb),'AUC-ROC:','{:.4f}'.format(auc_roc_rfc_nb))\n",
    "        if best_model_RFC < f1_valid_rfc_nb:\n",
    "            best_model_RFC = f1_valid_rfc_nb\n",
    "            best_depth_rfc_nb = depth\n",
    "            best_est_nb = estimator\n",
    "            best_model_rfc_nb =  model_rfc_nb\n",
    "            best_auc_roc_rfc_nb = auc_roc_rfc_nb\n",
    "            \n",
    "print(\"Лучшая F-мера\", best_model_RFC, 'при глубине = {0},  количестве деревьев = {1} и AUC-ROC = {2}'\n",
    "      .format(best_depth_rfc_nb, best_est_nb, best_auc_roc_rfc_nb))\n",
    "    \n",
    "       \n",
    "        \n"
   ]
  },
  {
   "cell_type": "markdown",
   "metadata": {},
   "source": [
    "<div class=\"alert alert-success\">\n",
    "<h2> Комментарий ревьюера ✔️ <a class=\"tocSkip\"> </h2>\n",
    "\n",
    "Кстати, можно было уйти от вложенных циклов и генерить комбинации гиперпараметров с помощью библиотеки `itertools`. Ниже небольшой пример\n",
    "    \n",
    "![](https://i.ibb.co/BnJfPMk/image.png)"
   ]
  },
  {
   "cell_type": "code",
   "execution_count": 12,
   "metadata": {},
   "outputs": [
    {
     "name": "stderr",
     "output_type": "stream",
     "text": [
      "0it [00:00, ?it/s]\n"
     ]
    },
    {
     "ename": "NameError",
     "evalue": "name 'features_train' is not defined",
     "output_type": "error",
     "traceback": [
      "\u001B[0;31m---------------------------------------------------------------------------\u001B[0m",
      "\u001B[0;31mNameError\u001B[0m                                 Traceback (most recent call last)",
      "File \u001B[0;32m<timed exec>:11\u001B[0m\n",
      "\u001B[0;31mNameError\u001B[0m: name 'features_train' is not defined"
     ]
    }
   ],
   "source": [
    "%%time\n",
    "\n",
    "\n",
    "best_score_f1 = 0\n",
    "best_auc_roc = 0\n",
    "best_model_RFC = 0\n",
    "best_model_f1_RFC = 0\n",
    "best_model_auc_roc_RFC = 0\n",
    "best_depth_rfc_nb = 0\n",
    "best_est_nb = 0\n",
    "for params in tqdm(itertools.product(range(1, 20), range(1,20))):\n",
    "    depth,estimator = params\n",
    "    model_rfc_nb = RandomForestClassifier(n_estimators=estimator, max_depth=depth, random_state=12345)\n",
    "    model_rfc_nb.fit(features_train, target_train)\n",
    "       \n",
    "    predict_valid_rfc_nb = model_rfc_nb.predict(features_valid)\n",
    "        \n",
    "    f1_valid_rfc_nb = f1_score(target_valid, predict_valid_rfc_nb)\n",
    "    \n",
    "    probabilities_valid_rfc_nb = model_rfc_nb.predict_proba(features_valid)\n",
    "    probabilities_one_valid_rfc_balanced =  probabilities_valid_rfc_nb[:, 1]\n",
    "    auc_roc_rfc_nb = roc_auc_score(target_valid, probabilities_one_valid_rfc_balanced)\n",
    "        \n",
    "    print('Max depth:', depth,'F1-score:','{:.4f}'.format(f1_valid_rfc_nb),'AUC-ROC:','{:.4f}'.format(auc_roc_rfc_nb))\n",
    "    if best_model_RFC < f1_valid_rfc_nb:\n",
    "        best_model_RFC = f1_valid_rfc_nb\n",
    "        best_depth_rfc_nb = depth\n",
    "        best_est_nb = estimator\n",
    "        best_model_rfc_nb =  model_rfc_nb\n",
    "        best_auc_roc_rfc_nb = auc_roc_rfc_nb\n",
    "            \n",
    "print(\"Лучшая F-мера\", best_model_RFC, 'при глубине = {0},  количестве деревьев = {1} и AUC-ROC = {2}'\n",
    "      .format(best_depth_rfc_nb, best_est_nb, best_auc_roc_rfc_nb))\n",
    "    \n",
    "       \n",
    "        \n"
   ]
  },
  {
   "cell_type": "markdown",
   "metadata": {},
   "source": [
    "<div class=\"alert alert-success\">\n",
    "<h2> Комментарий ревьюера v2 ✔️ <a class=\"tocSkip\"> </h2>\n",
    "\n",
    "В юпитере это делается куда проще\n",
    "    \n",
    "```python\n",
    "!pip3 install tqdm\n",
    "```"
   ]
  },
  {
   "cell_type": "markdown",
   "metadata": {},
   "source": [
    "<font color='blue'>пробую реализовать - пытаюсь установить модуль tqdm, выдает непонятную мне ошибку    </font> "
   ]
  },
  {
   "cell_type": "markdown",
   "metadata": {},
   "source": [
    "переходим к обучению модели логистической регрессии"
   ]
  },
  {
   "cell_type": "code",
   "execution_count": 13,
   "metadata": {},
   "outputs": [
    {
     "ename": "NameError",
     "evalue": "name 'features_train' is not defined",
     "output_type": "error",
     "traceback": [
      "\u001B[0;31m---------------------------------------------------------------------------\u001B[0m",
      "\u001B[0;31mNameError\u001B[0m                                 Traceback (most recent call last)",
      "Cell \u001B[0;32mIn[13], line 1\u001B[0m\n\u001B[0;32m----> 1\u001B[0m model \u001B[38;5;241m=\u001B[39m LogisticRegression(solver\u001B[38;5;241m=\u001B[39m\u001B[38;5;124m'\u001B[39m\u001B[38;5;124mliblinear\u001B[39m\u001B[38;5;124m'\u001B[39m, random_state\u001B[38;5;241m=\u001B[39m\u001B[38;5;241m12345\u001B[39m)\u001B[38;5;241m.\u001B[39mfit(\u001B[43mfeatures_train\u001B[49m, target_train)\n\u001B[1;32m      2\u001B[0m predictions_valid \u001B[38;5;241m=\u001B[39m model\u001B[38;5;241m.\u001B[39mpredict(features_valid)\n\u001B[1;32m      3\u001B[0m accuracy_score_regression \u001B[38;5;241m=\u001B[39m accuracy_score(target_valid,predictions_valid)\n",
      "\u001B[0;31mNameError\u001B[0m: name 'features_train' is not defined"
     ]
    }
   ],
   "source": [
    "model = LogisticRegression(solver='liblinear', random_state=12345).fit(features_train, target_train)\n",
    "predictions_valid = model.predict(features_valid)\n",
    "accuracy_score_regression = accuracy_score(target_valid,predictions_valid)\n",
    "\n",
    "f1 = f1_score(target_valid, predicted_valid)\n",
    "    \n",
    "probabilities_valid = model.predict_proba(features_valid)\n",
    "probabilities_one_valid =  probabilities_valid[:, 1]\n",
    "auc_roc = roc_auc_score(target_valid, probabilities_one_valid)\n",
    "    \n",
    "print('accuracy_score_regression', accuracy_score_regression)\n",
    "print('f1', f1)\n",
    "print('auc_roc', auc_roc)\n"
   ]
  },
  {
   "cell_type": "markdown",
   "metadata": {},
   "source": [
    "### Вывод: Выполнено обучение 3 моделей на несбалансированных выборках: дерево решений(с подбором оптимального кол-ва деревьев), лес деревьев (с подбором кол-ва деревьев и глубины леса); логистическая регрессия. На данном этапе лучшие результаты по метрикам f1 и auc-roc показала модель леса деревьев с параметрами RandomForestClassifier(max_depth=19, n_estimators=27, random_state=12345) f1 = 0.6026 и auc-roc = 0.8345."
   ]
  },
  {
   "cell_type": "markdown",
   "metadata": {},
   "source": [
    "## Борьба с дисбалансом"
   ]
  },
  {
   "cell_type": "markdown",
   "metadata": {},
   "source": [
    "приступаем к борьбе с дисбалансом, в процессе обучения модели"
   ]
  },
  {
   "cell_type": "markdown",
   "metadata": {},
   "source": [
    "### вариант 1 - метод balanced"
   ]
  },
  {
   "cell_type": "markdown",
   "metadata": {},
   "source": [
    "DecisionTreeClassifier"
   ]
  },
  {
   "cell_type": "code",
   "execution_count": 14,
   "metadata": {
    "scrolled": true
   },
   "outputs": [
    {
     "ename": "NameError",
     "evalue": "name 'features_train' is not defined",
     "output_type": "error",
     "traceback": [
      "\u001B[0;31m---------------------------------------------------------------------------\u001B[0m",
      "\u001B[0;31mNameError\u001B[0m                                 Traceback (most recent call last)",
      "File \u001B[0;32m<timed exec>:7\u001B[0m\n",
      "\u001B[0;31mNameError\u001B[0m: name 'features_train' is not defined"
     ]
    }
   ],
   "source": [
    "%%time \n",
    "\n",
    "best_result_dtc_balanced = 0\n",
    "best_model_dtc_balanced = None\n",
    "best_auc_roc_dtc_balanced = 0\n",
    "best_depth_dtc_balanced = 0\n",
    "for depth in range (1, 100, 1):\n",
    "    model_dtc_balansed = DecisionTreeClassifier(max_depth= depth, random_state=12345, class_weight='balanced')\n",
    "    model_dtc_balansed.fit(features_train, target_train)\n",
    "    predicted_valid_dtc_balansed = model_dtc_balansed.predict(features_valid)\n",
    "    \n",
    "     \n",
    "    f1_dtc_balanced = f1_score(target_valid, predicted_valid_dtc_balansed)\n",
    "    \n",
    "    probabilities_valid_dtc_balanced = model_dtc_balansed.predict_proba(features_valid)\n",
    "    probabilities_one_valid_dtc_balanced =  probabilities_valid_dtc_balanced[:, 1]\n",
    "    auc_roc_dtc_balanced = roc_auc_score(target_valid, probabilities_one_valid_dtc_balanced)\n",
    "    print('Max depth:', depth,'F1-score:','{:.4f}'.format(f1_dtc_balanced),\n",
    "          'AUC-ROC:','{:.4f}'.format(auc_roc))\n",
    "    \n",
    "    if best_result_dtc_balanced < f1_dtc_balanced:\n",
    "        best_result_dtc_balanced = f1_dtc_balanced\n",
    "        best_depth_dtc_balanced = depth\n",
    "        best_model_dtc_balanced = model_dtc_balansed\n",
    "        best_auc_roc_dtc_balanced = auc_roc_dtc_balanced\n",
    "        \n",
    "print('Лучшая F1-score','{:.4f}'.format(best_result_dtc_balanced), 'при глубине = {0},  AUC-ROC = {1}'\n",
    "      .format(best_depth_dtc_balanced, best_auc_roc_dtc_balanced))\n",
    "    \n",
    "   "
   ]
  },
  {
   "cell_type": "markdown",
   "metadata": {},
   "source": [
    "RandomForestClassifier"
   ]
  },
  {
   "cell_type": "code",
   "execution_count": 15,
   "metadata": {
    "scrolled": true
   },
   "outputs": [
    {
     "ename": "NameError",
     "evalue": "name 'features_train' is not defined",
     "output_type": "error",
     "traceback": [
      "\u001B[0;31m---------------------------------------------------------------------------\u001B[0m",
      "\u001B[0;31mNameError\u001B[0m                                 Traceback (most recent call last)",
      "File \u001B[0;32m<timed exec>:9\u001B[0m\n",
      "\u001B[0;31mNameError\u001B[0m: name 'features_train' is not defined"
     ]
    }
   ],
   "source": [
    "%%time\n",
    "\n",
    "best_model_RFC_balanced = 0\n",
    "best_model_f1_RFC_balanced = 0\n",
    "best_model_auc_roc_RFC_balanced = 0\n",
    "best_depth_rfc_balanced = 0\n",
    "best_est_balanced = 0\n",
    "for depth in range(1, 20, 1):\n",
    "    for estimator in range(1, 50, 1):\n",
    "        model_rfc_balanced = RandomForestClassifier(n_estimators=estimator, max_depth=depth, random_state=12345, class_weight='balanced')\n",
    "        model_rfc_balanced.fit(features_train, target_train)\n",
    "       \n",
    "        predict_valid_rfc_balanced = model_rfc_balanced.predict(features_valid)\n",
    "        #f1_valid_rfc_nb = accuracy_score(tree_valid_pred, target_valid)\n",
    "       \n",
    "        f1_valid_rfc_balanced = f1_score(target_valid, predict_valid_rfc_balanced)\n",
    "    \n",
    "        probabilities_valid_rfc_balanced = model_rfc_balanced.predict_proba(features_valid)\n",
    "        probabilities_one_valid_rfc_balanced =  probabilities_valid_rfc_balanced[:, 1]\n",
    "        auc_roc_rfc_balanced = roc_auc_score(target_valid, probabilities_one_valid_rfc_balanced)\n",
    "        \n",
    "        print('Max depth:', depth,'F1-score:','{:.4f}'.format(f1_valid_rfc_balanced),'AUC-ROC:','{:.4f}'.format(auc_roc_rfc_balanced))\n",
    "        if best_model_RFC_balanced < f1_valid_rfc_balanced:\n",
    "            best_model_RFC_balanced = f1_valid_rfc_balanced\n",
    "            best_depth_rfc_balanced = depth\n",
    "            best_est_balanced = estimator\n",
    "            best_model_rfc_balanced =  model_rfc_balanced\n",
    "            best_auc_roc_rfc_balanced = auc_roc_rfc_balanced\n",
    "            \n",
    "print(\"Лучшая F-мера\", best_model_RFC_balanced, 'при глубине = {0},  количестве деревьев = {1} и AUC-ROC = {2}'\n",
    "      .format(best_depth_rfc_balanced, best_est_balanced, best_auc_roc_rfc_balanced))"
   ]
  },
  {
   "cell_type": "markdown",
   "metadata": {},
   "source": [
    "LogisticRegression"
   ]
  },
  {
   "cell_type": "code",
   "execution_count": 16,
   "metadata": {},
   "outputs": [
    {
     "ename": "NameError",
     "evalue": "name 'features_train' is not defined",
     "output_type": "error",
     "traceback": [
      "\u001B[0;31m---------------------------------------------------------------------------\u001B[0m",
      "\u001B[0;31mNameError\u001B[0m                                 Traceback (most recent call last)",
      "Cell \u001B[0;32mIn[16], line 1\u001B[0m\n\u001B[0;32m----> 1\u001B[0m model_lr_balanced \u001B[38;5;241m=\u001B[39m LogisticRegression(solver\u001B[38;5;241m=\u001B[39m\u001B[38;5;124m'\u001B[39m\u001B[38;5;124mliblinear\u001B[39m\u001B[38;5;124m'\u001B[39m, random_state\u001B[38;5;241m=\u001B[39m\u001B[38;5;241m12345\u001B[39m, class_weight\u001B[38;5;241m=\u001B[39m\u001B[38;5;124m'\u001B[39m\u001B[38;5;124mbalanced\u001B[39m\u001B[38;5;124m'\u001B[39m)\u001B[38;5;241m.\u001B[39mfit(\u001B[43mfeatures_train\u001B[49m, target_train)\n\u001B[1;32m      2\u001B[0m predictions_valid_lr_balanced \u001B[38;5;241m=\u001B[39m model_lr_balanced\u001B[38;5;241m.\u001B[39mpredict(features_valid)\n\u001B[1;32m      3\u001B[0m accuracy_score_regression_lr_balanced \u001B[38;5;241m=\u001B[39m accuracy_score(target_valid,predictions_valid_lr_balanced)\n",
      "\u001B[0;31mNameError\u001B[0m: name 'features_train' is not defined"
     ]
    }
   ],
   "source": [
    "model_lr_balanced = LogisticRegression(solver='liblinear', random_state=12345, class_weight='balanced').fit(features_train, target_train)\n",
    "predictions_valid_lr_balanced = model_lr_balanced.predict(features_valid)\n",
    "accuracy_score_regression_lr_balanced = accuracy_score(target_valid,predictions_valid_lr_balanced)\n",
    "\n",
    "f1_lr_balanced = f1_score(target_valid, predicted_valid)\n",
    "    \n",
    "probabilities_valid_lr_balanced = model_lr_balanced.predict_proba(features_valid)\n",
    "probabilities_one_valid_lr_balanced =  probabilities_valid_lr_balanced[:, 1]\n",
    "auc_roc_lr_balanced = roc_auc_score(target_valid, probabilities_one_valid_lr_balanced)\n",
    "    \n",
    "print('accuracy_score_regression', accuracy_score_regression_lr_balanced)\n",
    "print('f1', f1_lr_balanced)\n",
    "print('auc_roc', auc_roc_lr_balanced)"
   ]
  },
  {
   "cell_type": "markdown",
   "metadata": {},
   "source": [
    "<div class=\"alert alert-success\">\n",
    "<h2> Комментарий ревьюера ✔️ <a class=\"tocSkip\"> </h2>\n",
    "\n",
    "Здесь все круто, идем дальше"
   ]
  },
  {
   "cell_type": "markdown",
   "metadata": {},
   "source": [
    "переходим к следующему методы борьбы с дисбалансом - масштабированию выборки(upsampling). Создадим переменные для признаков объектов/целевого признака объектов со знаком 0 и 1. Выведем для контроля на экран размеры выборок по каждой переменной."
   ]
  },
  {
   "cell_type": "code",
   "execution_count": 17,
   "metadata": {},
   "outputs": [
    {
     "ename": "NameError",
     "evalue": "name 'features_train' is not defined",
     "output_type": "error",
     "traceback": [
      "\u001B[0;31m---------------------------------------------------------------------------\u001B[0m",
      "\u001B[0;31mNameError\u001B[0m                                 Traceback (most recent call last)",
      "Cell \u001B[0;32mIn[17], line 1\u001B[0m\n\u001B[0;32m----> 1\u001B[0m features_zeros \u001B[38;5;241m=\u001B[39m \u001B[43mfeatures_train\u001B[49m[target_train \u001B[38;5;241m==\u001B[39m \u001B[38;5;241m0\u001B[39m]\n\u001B[1;32m      2\u001B[0m features_ones \u001B[38;5;241m=\u001B[39m features_train[target_train \u001B[38;5;241m==\u001B[39m \u001B[38;5;241m1\u001B[39m]\n\u001B[1;32m      3\u001B[0m target_zeros \u001B[38;5;241m=\u001B[39m target_train[target_train \u001B[38;5;241m==\u001B[39m \u001B[38;5;241m0\u001B[39m]\n",
      "\u001B[0;31mNameError\u001B[0m: name 'features_train' is not defined"
     ]
    }
   ],
   "source": [
    "\n",
    "features_zeros = features_train[target_train == 0]\n",
    "features_ones = features_train[target_train == 1]\n",
    "target_zeros = target_train[target_train == 0]\n",
    "target_ones = target_train[target_train == 1]\n",
    "\n",
    "print(features_zeros.shape)\n",
    "print(features_ones.shape)\n",
    "print(target_zeros.shape)\n",
    "print(target_ones.shape)"
   ]
  },
  {
   "cell_type": "markdown",
   "metadata": {},
   "source": [
    "увеличим выборки, объединим таблицы и перемешаем данные"
   ]
  },
  {
   "cell_type": "code",
   "execution_count": 18,
   "metadata": {},
   "outputs": [
    {
     "ename": "NameError",
     "evalue": "name 'features_zeros' is not defined",
     "output_type": "error",
     "traceback": [
      "\u001B[0;31m---------------------------------------------------------------------------\u001B[0m",
      "\u001B[0;31mNameError\u001B[0m                                 Traceback (most recent call last)",
      "Cell \u001B[0;32mIn[18], line 1\u001B[0m\n\u001B[0;32m----> 1\u001B[0m features_upsampled \u001B[38;5;241m=\u001B[39m pd\u001B[38;5;241m.\u001B[39mconcat([\u001B[43mfeatures_zeros\u001B[49m] \u001B[38;5;241m+\u001B[39m [features_ones] \u001B[38;5;241m*\u001B[39m \u001B[38;5;241m4\u001B[39m)\n\u001B[1;32m      2\u001B[0m target_upsampled \u001B[38;5;241m=\u001B[39m pd\u001B[38;5;241m.\u001B[39mconcat([target_zeros] \u001B[38;5;241m+\u001B[39m [target_ones] \u001B[38;5;241m*\u001B[39m \u001B[38;5;241m4\u001B[39m)\n\u001B[1;32m      4\u001B[0m features_upsampled, target_upsampled \u001B[38;5;241m=\u001B[39m shuffle(features_upsampled, target_upsampled, random_state\u001B[38;5;241m=\u001B[39m\u001B[38;5;241m12345\u001B[39m)\n",
      "\u001B[0;31mNameError\u001B[0m: name 'features_zeros' is not defined"
     ]
    }
   ],
   "source": [
    "features_upsampled = pd.concat([features_zeros] + [features_ones] * 4)\n",
    "target_upsampled = pd.concat([target_zeros] + [target_ones] * 4)\n",
    "    \n",
    "features_upsampled, target_upsampled = shuffle(features_upsampled, target_upsampled, random_state=12345)"
   ]
  },
  {
   "cell_type": "markdown",
   "metadata": {},
   "source": [
    "<div class=\"alert alert-success\">\n",
    "<h2> Комментарий ревьюера ✔️ <a class=\"tocSkip\"> </h2>\n",
    "\n",
    "После таких преобразований, хорошо бы провести проверку, получилось ли уменьшить дисбаланс"
   ]
  },
  {
   "cell_type": "code",
   "execution_count": 19,
   "metadata": {},
   "outputs": [
    {
     "ename": "NameError",
     "evalue": "name 'target_upsampled' is not defined",
     "output_type": "error",
     "traceback": [
      "\u001B[0;31m---------------------------------------------------------------------------\u001B[0m",
      "\u001B[0;31mNameError\u001B[0m                                 Traceback (most recent call last)",
      "Cell \u001B[0;32mIn[19], line 1\u001B[0m\n\u001B[0;32m----> 1\u001B[0m \u001B[43mtarget_upsampled\u001B[49m\u001B[38;5;241m.\u001B[39mvalue_counts(normalize \u001B[38;5;241m=\u001B[39m \u001B[38;5;28;01mTrue\u001B[39;00m)\u001B[38;5;241m.\u001B[39mplot\u001B[38;5;241m.\u001B[39mpie(legend \u001B[38;5;241m=\u001B[39m \u001B[38;5;28;01mTrue\u001B[39;00m)\n\u001B[1;32m      2\u001B[0m plt\u001B[38;5;241m.\u001B[39mtitle(\u001B[38;5;124m'\u001B[39m\u001B[38;5;124mКлиент в банке остался/ушел\u001B[39m\u001B[38;5;124m'\u001B[39m)\n\u001B[1;32m      3\u001B[0m plt\u001B[38;5;241m.\u001B[39mshow()\n",
      "\u001B[0;31mNameError\u001B[0m: name 'target_upsampled' is not defined"
     ]
    }
   ],
   "source": [
    "target_upsampled.value_counts(normalize = True).plot.pie(legend = True)\n",
    "plt.title('Клиент в банке остался/ушел')\n",
    "plt.show()"
   ]
  },
  {
   "cell_type": "code",
   "execution_count": null,
   "metadata": {},
   "outputs": [],
   "source": [
    "target_upsampled.value_counts(normalize = True).plot.pie(legend = True)\n",
    "plt.title('Наличие кредитной карты')\n",
    "plt.show()"
   ]
  },
  {
   "cell_type": "code",
   "execution_count": null,
   "metadata": {},
   "outputs": [],
   "source": [
    "target_upsampled.value_counts(normalize = True).plot.pie(legend = True)\n",
    "plt.title('Проживающих в Германии')\n",
    "plt.show()"
   ]
  },
  {
   "cell_type": "markdown",
   "metadata": {},
   "source": [
    "<font color='blue'> Проверку провел - дисбаланс ликвидирован   </font> "
   ]
  },
  {
   "cell_type": "markdown",
   "metadata": {},
   "source": [
    "обучаем модель на увеличенной выборке - предсказываем на стандартной валидационной. Модель DecisionTreeClassifier."
   ]
  },
  {
   "cell_type": "code",
   "execution_count": 20,
   "metadata": {
    "scrolled": true
   },
   "outputs": [
    {
     "ename": "NameError",
     "evalue": "name 'features_upsampled' is not defined",
     "output_type": "error",
     "traceback": [
      "\u001B[0;31m---------------------------------------------------------------------------\u001B[0m",
      "\u001B[0;31mNameError\u001B[0m                                 Traceback (most recent call last)",
      "File \u001B[0;32m<timed exec>:7\u001B[0m\n",
      "\u001B[0;31mNameError\u001B[0m: name 'features_upsampled' is not defined"
     ]
    }
   ],
   "source": [
    "%%time \n",
    "\n",
    "best_result_dtc_upsampled = 0\n",
    "best_model_dtc_upsampled = None\n",
    "best_auc_roc_dtc_upsampled = 0\n",
    "best_depth_dtc_upsampled = 0\n",
    "for depth in range (1, 100, 1):\n",
    "    model_dtc_upsampled = DecisionTreeClassifier(max_depth= depth, random_state=12345)\n",
    "    model_dtc_upsampled.fit(features_upsampled, target_upsampled)\n",
    "    predicted_valid_dtc_upsampled = model_dtc_upsampled.predict(features_valid)\n",
    "    \n",
    "     \n",
    "    f1_dtc_upsampled = f1_score(target_valid, predicted_valid_dtc_upsampled)\n",
    "    \n",
    "    probabilities_valid_dtc_upsampled = model_dtc_upsampled.predict_proba(features_valid)\n",
    "    probabilities_one_valid_dtc_upsampled =  probabilities_valid_dtc_upsampled[:, 1]\n",
    "    auc_roc_dtc_upsampled = roc_auc_score(target_valid, probabilities_one_valid_dtc_upsampled)\n",
    "    print('Max depth:', depth,'F1-score:','{:.4f}'.format(f1_dtc_upsampled),\n",
    "          'AUC-ROC:','{:.4f}'.format(auc_roc))\n",
    "    \n",
    "    if best_result_dtc_upsampled < f1_dtc_upsampled:\n",
    "        best_result_dtc_upsampled= f1_dtc_upsampled\n",
    "        best_depth_dtc_upsampled = depth\n",
    "        best_model_dtc_upsampled = model_dtc_upsampled\n",
    "        best_auc_roc_dtc_upsampled = auc_roc_dtc_upsampled\n",
    "        \n",
    "print('Лучшая F1-score','{:.4f}'.format(best_result_dtc_upsampled), 'при глубине = {0},  AUC-ROC = {1}'\n",
    "      .format(best_depth_dtc_upsampled, best_auc_roc_dtc_upsampled))"
   ]
  },
  {
   "cell_type": "markdown",
   "metadata": {},
   "source": [
    "обучаем модель на увеличенной выборке - предсказываем на стандартной валидационной. Модель RandomForestClassifier."
   ]
  },
  {
   "cell_type": "code",
   "execution_count": 21,
   "metadata": {
    "scrolled": true
   },
   "outputs": [
    {
     "ename": "NameError",
     "evalue": "name 'features_upsampled' is not defined",
     "output_type": "error",
     "traceback": [
      "\u001B[0;31m---------------------------------------------------------------------------\u001B[0m",
      "\u001B[0;31mNameError\u001B[0m                                 Traceback (most recent call last)",
      "File \u001B[0;32m<timed exec>:11\u001B[0m\n",
      "\u001B[0;31mNameError\u001B[0m: name 'features_upsampled' is not defined"
     ]
    }
   ],
   "source": [
    "%%time\n",
    "\n",
    "best_score_f1 = 0\n",
    "best_auc_roc = 0\n",
    "best_model_RFC_upsampled = 0\n",
    "best_model_f1_RFC_upsampled = 0\n",
    "best_model_auc_roc_RFC_upsampled = 0\n",
    "best_depth_rfc_upsampled = 0\n",
    "best_est_upsampled = 0\n",
    "for depth in range(1, 20, 1):\n",
    "    for estimator in range(1, 50, 1):\n",
    "        model_rfc_upsampled = RandomForestClassifier(n_estimators=estimator, max_depth=depth, random_state=12345)\n",
    "        model_rfc_upsampled.fit(features_upsampled, target_upsampled)\n",
    "       \n",
    "        predict_valid_rfc_upsampled = model_rfc_upsampled.predict(features_valid)\n",
    "    \n",
    "        f1_valid_rfc_upsampled = f1_score(target_valid, predict_valid_rfc_upsampled)\n",
    "    \n",
    "        probabilities_valid_rfc_upsampled = model_rfc_upsampled.predict_proba(features_valid)\n",
    "        probabilities_one_valid_rfc_upsampled =  probabilities_valid_rfc_upsampled[:, 1]\n",
    "        auc_roc_rfc_upsampled = roc_auc_score(target_valid, probabilities_one_valid_rfc_upsampled)\n",
    "        \n",
    "        print('Max depth:', depth,'F1-score:','{:.4f}'.format(f1_valid_rfc_upsampled),'AUC-ROC:','{:.4f}'.format(auc_roc_rfc_upsampled))\n",
    "        if best_model_RFC_upsampled < f1_valid_rfc_upsampled:\n",
    "            best_model_RFC_upsampled = f1_valid_rfc_upsampled\n",
    "            best_depth_rfc_upsampled = depth\n",
    "            best_est_upsampled = estimator\n",
    "            best_model_rfc_upsampled =  model_rfc_upsampled\n",
    "            best_auc_roc_rfc_upsampled = auc_roc_rfc_upsampled\n",
    "            \n",
    "print(\"Лучшая F-мера\", best_model_RFC_upsampled, 'при глубине = {0},  количестве деревьев = {1} и AUC-ROC = {2}'\n",
    "      .format(best_depth_rfc_upsampled, best_est_upsampled, best_auc_roc_rfc_upsampled))"
   ]
  },
  {
   "cell_type": "markdown",
   "metadata": {},
   "source": [
    "обучаем модель на увеличенной выборке - предсказываем на стандартной валидационной. Модель LogisticRegression."
   ]
  },
  {
   "cell_type": "code",
   "execution_count": 22,
   "metadata": {},
   "outputs": [
    {
     "ename": "NameError",
     "evalue": "name 'features_upsampled' is not defined",
     "output_type": "error",
     "traceback": [
      "\u001B[0;31m---------------------------------------------------------------------------\u001B[0m",
      "\u001B[0;31mNameError\u001B[0m                                 Traceback (most recent call last)",
      "Cell \u001B[0;32mIn[22], line 2\u001B[0m\n\u001B[1;32m      1\u001B[0m model_lg_upsampled \u001B[38;5;241m=\u001B[39m LogisticRegression(solver\u001B[38;5;241m=\u001B[39m\u001B[38;5;124m'\u001B[39m\u001B[38;5;124mliblinear\u001B[39m\u001B[38;5;124m'\u001B[39m, random_state\u001B[38;5;241m=\u001B[39m\u001B[38;5;241m12345\u001B[39m)\n\u001B[0;32m----> 2\u001B[0m model_lg_upsampled\u001B[38;5;241m.\u001B[39mfit(\u001B[43mfeatures_upsampled\u001B[49m, target_upsampled)\n\u001B[1;32m      3\u001B[0m predicted_valid_lg_upsampled \u001B[38;5;241m=\u001B[39m model_lg_upsampled\u001B[38;5;241m.\u001B[39mpredict(features_valid)\n\u001B[1;32m      4\u001B[0m accuracy_score_regression_lr_upsampled \u001B[38;5;241m=\u001B[39m accuracy_score(target_valid,predicted_valid_lg_upsampled)\n",
      "\u001B[0;31mNameError\u001B[0m: name 'features_upsampled' is not defined"
     ]
    }
   ],
   "source": [
    "model_lg_upsampled = LogisticRegression(solver='liblinear', random_state=12345)\n",
    "model_lg_upsampled.fit(features_upsampled, target_upsampled)\n",
    "predicted_valid_lg_upsampled = model_lg_upsampled.predict(features_valid)\n",
    "accuracy_score_regression_lr_upsampled = accuracy_score(target_valid,predicted_valid_lg_upsampled)\n",
    "f1_lr_upsampled = f1_score(target_valid, predicted_valid_lg_upsampled)\n",
    "    \n",
    "probabilities_valid_lr_upsampled = model_lg_upsampled.predict_proba(features_valid)\n",
    "probabilities_one_valid_lr_upsampled =  probabilities_valid_lr_upsampled[:, 1]\n",
    "auc_roc_lr_upsampled = roc_auc_score(target_valid, probabilities_one_valid_lr_upsampled)\n",
    "    \n",
    "print('accuracy_score_regression', accuracy_score_regression_lr_upsampled)\n",
    "print('auc_roc', auc_roc_lr_balanced)\n",
    "print(\"F1:\", f1_score(target_valid, predicted_valid))"
   ]
  },
  {
   "cell_type": "markdown",
   "metadata": {},
   "source": [
    "<div class=\"alert alert-success\">\n",
    "<h2> Комментарий ревьюера ✔️ <a class=\"tocSkip\"> </h2>\n",
    "\n",
    "Случайно удалить или добавить N примеров одного из классов - это самая простая и примитивная стратегия, понятная и несложная в реализации. Однако такой подход зачастую бывает не совсем эффективным. Предпочтительно сделать стратегию балансировки классов более управляемой, то есть выполняемой в соответствии с некоторыми правилами. Вот отличная [статья](https://loginom.ru/blog/imbalance-class?ysclid=lahalfdpji666704250) на эту тему."
   ]
  },
  {
   "cell_type": "markdown",
   "metadata": {},
   "source": [
    "### Вывод: Выполнено обучение 3 моделей на сбалансированных выборках: дерево решений(с подбором оптимального кол-ва деревьев), лес деревьев (с подбором кол-ва деревьев и глубины леса); логистическая регрессия. Использовалось 2 метода балансировки: взешивание классов и метод upsampling. На данном этапе лучшие результаты по метрикам f1 и auc-roc показала модель леса деревьев с параметрами RandomForestClassifier(max_depth=13, n_estimators=35, random_state=12345) f1 = 0.6329 и auc-roc = 0.8435 - сбалансированная методом upsampling и модель RandomForestClassifier(max_depth=9, n_estimators=46, random_state=12345) f1 = 0.6296 и auc-roc = 0.8557, сбалансированная методом взвешивания классов. Данные модели возьмем на финальное тестирование."
   ]
  },
  {
   "cell_type": "markdown",
   "metadata": {},
   "source": [
    "## Тестирование модели"
   ]
  },
  {
   "cell_type": "markdown",
   "metadata": {},
   "source": [
    "с целью более объективного контроля результатов исследования, объединим тренинговую и валидационную выборки на этапе обучения (для получения большего кол-ва данных на обучении модели), для лучшей модели."
   ]
  },
  {
   "cell_type": "code",
   "execution_count": 23,
   "metadata": {},
   "outputs": [
    {
     "ename": "NameError",
     "evalue": "name 'features_train' is not defined",
     "output_type": "error",
     "traceback": [
      "\u001B[0;31m---------------------------------------------------------------------------\u001B[0m",
      "\u001B[0;31mNameError\u001B[0m                                 Traceback (most recent call last)",
      "Cell \u001B[0;32mIn[23], line 15\u001B[0m\n\u001B[1;32m     12\u001B[0m     features_upsampled, target_upsampled \u001B[38;5;241m=\u001B[39m shuffle(features_upsampled, target_upsampled, random_state\u001B[38;5;241m=\u001B[39m\u001B[38;5;241m12345\u001B[39m)\n\u001B[1;32m     14\u001B[0m     \u001B[38;5;28;01mreturn\u001B[39;00m features_upsampled, target_upsampled\n\u001B[0;32m---> 15\u001B[0m features_full_train \u001B[38;5;241m=\u001B[39m pd\u001B[38;5;241m.\u001B[39mconcat([\u001B[43mfeatures_train\u001B[49m, features_valid])\n\u001B[1;32m     16\u001B[0m target_full_train \u001B[38;5;241m=\u001B[39m pd\u001B[38;5;241m.\u001B[39mconcat([target_train, target_valid])\n\u001B[1;32m     17\u001B[0m features_upsampled, target_upsampled \u001B[38;5;241m=\u001B[39m upsample(features_full_train, target_full_train, \u001B[38;5;241m4\u001B[39m)\n",
      "\u001B[0;31mNameError\u001B[0m: name 'features_train' is not defined"
     ]
    }
   ],
   "source": [
    "#увеличим выборку, для достижения большего объема данных, за счет объединения тернинговой и валидационной выборки\n",
    "\n",
    "def upsample(features, target, repeat):\n",
    "    features_zeros = features[target == 0]\n",
    "    features_ones = features[target == 1]\n",
    "    target_zeros = target[target == 0]\n",
    "    target_ones = target[target == 1]\n",
    "\n",
    "    features_upsampled = pd.concat([features_zeros] + [features_ones] * repeat)\n",
    "    target_upsampled = pd.concat([target_zeros] + [target_ones] * repeat)\n",
    "    \n",
    "    features_upsampled, target_upsampled = shuffle(features_upsampled, target_upsampled, random_state=12345)\n",
    "    \n",
    "    return features_upsampled, target_upsampled\n",
    "features_full_train = pd.concat([features_train, features_valid])\n",
    "target_full_train = pd.concat([target_train, target_valid])\n",
    "features_upsampled, target_upsampled = upsample(features_full_train, target_full_train, 4)\n"
   ]
  },
  {
   "cell_type": "markdown",
   "metadata": {},
   "source": [
    "<div class=\"alert alert-success\">\n",
    "<h2> Комментарий ревьюера ✔️ <a class=\"tocSkip\"> </h2>\n",
    "\n",
    "Объединить выборки- очень правильное решение!"
   ]
  },
  {
   "cell_type": "code",
   "execution_count": 24,
   "metadata": {},
   "outputs": [
    {
     "ename": "NameError",
     "evalue": "name 'features_full_train' is not defined",
     "output_type": "error",
     "traceback": [
      "\u001B[0;31m---------------------------------------------------------------------------\u001B[0m",
      "\u001B[0;31mNameError\u001B[0m                                 Traceback (most recent call last)",
      "File \u001B[0;32m<timed exec>:9\u001B[0m\n",
      "\u001B[0;31mNameError\u001B[0m: name 'features_full_train' is not defined"
     ]
    }
   ],
   "source": [
    "%%time\n",
    "best_score_f1 = 0\n",
    "best_auc_roc = 0\n",
    "best_model_RFC = 0\n",
    "best_model_f1_RFC = 0\n",
    "best_model_auc_roc_RFC = 0\n",
    "best_depth_rfc_nb = 0\n",
    "best_est_nb = 0\n",
    "model_rfc_nb = RandomForestClassifier(n_estimators=46, max_depth=9, random_state=12345, class_weight='balanced')\n",
    "model_rfc_nb.fit(features_full_train, target_full_train)\n",
    "       \n",
    "    \n",
    "predict_valid_rfc_nb = model_rfc_nb.predict(features_test)\n",
    "        \n",
    "       \n",
    "f1_valid_rfc_nb = f1_score(target_test, predict_valid_rfc_nb)\n",
    "    \n",
    "probabilities_valid_rfc_nb = model_rfc_nb.predict_proba(features_test)\n",
    "probabilities_one_valid_rfc_balanced =  probabilities_valid_rfc_nb[:, 1]\n",
    "auc_roc_rfc_nb = roc_auc_score(target_test, probabilities_one_valid_rfc_balanced)\n",
    "\n",
    "# для визуализации качества модель, построим ROC кривую\n",
    "fpr, tpr, thresholds = roc_curve(target_test, probabilities_one_valid_rfc_balanced) # < напишите код здесь >\n",
    "\n",
    "plt.figure()\n",
    "plt.plot(fpr, tpr)\n",
    "plt.plot([0, 1], [0, 1], linestyle='--')\n",
    "plt.ylim([0.0, 1.0])\n",
    "plt.xlim([0.0, 1.0])\n",
    "plt.grid(True)\n",
    "plt.xlabel('False Positive Rate')\n",
    "plt.ylabel('True Positive Rate')\n",
    "plt.title(\"ROC-кривая\")\n",
    "plt.show() \n",
    "#--------------------------------------------------------\n",
    "\n",
    "        \n",
    "print('Max depth:', depth,'F1-score:','{:.4f}'.format(f1_valid_rfc_nb),'AUC-ROC:','{:.4f}'.format(auc_roc_rfc_nb))\n",
    "if best_model_RFC < f1_valid_rfc_nb:\n",
    "    best_model_RFC = f1_valid_rfc_nb\n",
    "    best_depth_rfc_nb = depth\n",
    "    best_est_nb = estimator\n",
    "    best_model_rfc_nb =  model_rfc_nb\n",
    "    best_auc_roc_rfc_nb = auc_roc_rfc_nb\n",
    "            \n",
    "print(\"Лучшая F-мера\", best_model_RFC, 'при глубине = {0},  количестве деревьев = {1} и AUC-ROC = {2}'\n",
    "      .format(best_depth_rfc_nb, best_est_nb, best_auc_roc_rfc_nb))"
   ]
  },
  {
   "cell_type": "markdown",
   "metadata": {},
   "source": [
    "<div class=\"alert alert-success\">\n",
    "<h2> Комментарий ревьюера ✔️ <a class=\"tocSkip\"> </h2>\n",
    "\n",
    "Я бы сетку добавил для счастья)"
   ]
  },
  {
   "cell_type": "markdown",
   "metadata": {},
   "source": [
    "<font color='blue'> сетку добавил ))   </font> "
   ]
  },
  {
   "cell_type": "code",
   "execution_count": 25,
   "metadata": {},
   "outputs": [
    {
     "ename": "NameError",
     "evalue": "name 'features_upsampled' is not defined",
     "output_type": "error",
     "traceback": [
      "\u001B[0;31m---------------------------------------------------------------------------\u001B[0m",
      "\u001B[0;31mNameError\u001B[0m                                 Traceback (most recent call last)",
      "File \u001B[0;32m<timed exec>:11\u001B[0m\n",
      "\u001B[0;31mNameError\u001B[0m: name 'features_upsampled' is not defined"
     ]
    }
   ],
   "source": [
    "%%time\n",
    "\n",
    "best_model_RFC_upsampled = 0\n",
    "best_model_f1_RFC_upsampled = 0\n",
    "best_model_auc_roc_RFC_upsampled = 0\n",
    "best_depth_rfc_upsampled = 0\n",
    "best_est_upsampled = 0\n",
    "\n",
    "\n",
    "\n",
    "\n",
    "model_rfc_upsampled = RandomForestClassifier(n_estimators=35, max_depth=13, random_state=12345)\n",
    "model_rfc_upsampled.fit(features_upsampled, target_upsampled)\n",
    "       \n",
    "predict_valid_rfc_upsampled = model_rfc_upsampled.predict(features_test)\n",
    "    \n",
    "f1_valid_rfc_upsampled = f1_score(target_test, predict_valid_rfc_upsampled)\n",
    "    \n",
    "probabilities_valid_rfc_upsampled = model_rfc_upsampled.predict_proba(features_test)\n",
    "probabilities_one_valid_rfc_upsampled =  probabilities_valid_rfc_upsampled[:, 1]\n",
    "auc_roc_rfc_upsampled = roc_auc_score(target_test, probabilities_one_valid_rfc_upsampled)\n",
    "        \n",
    "print('Max depth:', depth,'F1-score:','{:.4f}'.format(f1_valid_rfc_upsampled),'AUC-ROC:','{:.4f}'.format(auc_roc_rfc_upsampled))\n",
    "if best_model_RFC_upsampled < f1_valid_rfc_upsampled:\n",
    "    best_model_RFC_upsampled = f1_valid_rfc_upsampled\n",
    "    best_depth_rfc_upsampled = depth\n",
    "    best_est_upsampled = estimator\n",
    "    best_model_rfc_upsampled =  model_rfc_upsampled\n",
    "    best_auc_roc_rfc_upsampled = auc_roc_rfc_upsampled\n",
    "            \n",
    "print(\"Лучшая F-мера\", best_model_RFC_upsampled, 'при глубине = {0},  количестве деревьев = {1} и AUC-ROC = {2}'\n",
    "      .format(best_depth_rfc_upsampled, best_est_upsampled, best_auc_roc_rfc_upsampled))"
   ]
  },
  {
   "cell_type": "markdown",
   "metadata": {},
   "source": [
    "ВЫВОД по результатам проведенной работы: построена модель, позволившая достичь целевого показателя f1 на тестовой выборке - лучшей признана модель RFC, сбалансированная методом взвешивания классов, с параметрами f1 = 0.6044, auc-roc = 0.8572. Данная модель позволяет с достаточной долей вероятности предсказать отток клиентов из банка."
   ]
  },
  {
   "cell_type": "markdown",
   "metadata": {},
   "source": [
    "## Чек-лист готовности проекта"
   ]
  },
  {
   "cell_type": "markdown",
   "metadata": {},
   "source": [
    "Поставьте 'x' в выполненных пунктах. Далее нажмите Shift+Enter."
   ]
  },
  {
   "cell_type": "markdown",
   "metadata": {},
   "source": [
    "- [x]  Jupyter Notebook открыт\n",
    "- [х]  Весь код выполняется без ошибок\n",
    "- [х]  Ячейки с кодом расположены в порядке исполнения\n",
    "- [х]  Выполнен шаг 1: данные подготовлены\n",
    "- [х]  Выполнен шаг 2: задача исследована\n",
    "    - [х]  Исследован баланс классов\n",
    "    - [х]  Изучены модели без учёта дисбаланса\n",
    "    - [х]  Написаны выводы по результатам исследования\n",
    "- [х]  Выполнен шаг 3: учтён дисбаланс\n",
    "    - [х]  Применено несколько способов борьбы с дисбалансом\n",
    "    - [х]  Написаны выводы по результатам исследования\n",
    "- [х]  Выполнен шаг 4: проведено тестирование\n",
    "- [х]  Удалось достичь *F1*-меры не менее 0.59\n",
    "- [х]  Исследована метрика *AUC-ROC*"
   ]
  },
  {
   "cell_type": "code",
   "execution_count": 25,
   "metadata": {},
   "outputs": [],
   "source": []
  }
 ],
 "metadata": {
  "ExecuteTimeLog": [
   {
    "duration": 1168,
    "start_time": "2022-11-15T08:21:38.784Z"
   },
   {
    "duration": 115,
    "start_time": "2022-11-15T08:22:02.427Z"
   },
   {
    "duration": 3,
    "start_time": "2022-11-15T08:22:08.239Z"
   },
   {
    "duration": 79,
    "start_time": "2022-11-15T08:22:08.680Z"
   },
   {
    "duration": 15,
    "start_time": "2022-11-15T08:22:33.272Z"
   },
   {
    "duration": 28,
    "start_time": "2022-11-15T08:46:56.282Z"
   },
   {
    "duration": 20,
    "start_time": "2022-11-15T08:51:25.785Z"
   },
   {
    "duration": 7,
    "start_time": "2022-11-15T08:51:36.643Z"
   },
   {
    "duration": 104,
    "start_time": "2022-11-15T08:56:55.356Z"
   },
   {
    "duration": 12,
    "start_time": "2022-11-15T08:56:58.838Z"
   },
   {
    "duration": 12,
    "start_time": "2022-11-15T08:57:15.125Z"
   },
   {
    "duration": 6,
    "start_time": "2022-11-15T08:57:25.506Z"
   },
   {
    "duration": 8,
    "start_time": "2022-11-15T08:57:34.115Z"
   },
   {
    "duration": 6,
    "start_time": "2022-11-15T09:15:50.373Z"
   },
   {
    "duration": 9,
    "start_time": "2022-11-15T09:16:02.892Z"
   },
   {
    "duration": 6,
    "start_time": "2022-11-15T09:19:24.854Z"
   },
   {
    "duration": 15,
    "start_time": "2022-11-15T09:22:42.900Z"
   },
   {
    "duration": 3,
    "start_time": "2022-11-15T09:29:07.465Z"
   },
   {
    "duration": 14,
    "start_time": "2022-11-15T09:29:24.377Z"
   },
   {
    "duration": 484,
    "start_time": "2022-11-15T09:39:39.572Z"
   },
   {
    "duration": 15,
    "start_time": "2022-11-15T09:40:28.485Z"
   },
   {
    "duration": 4,
    "start_time": "2022-11-15T09:43:44.621Z"
   },
   {
    "duration": 29,
    "start_time": "2022-11-15T09:44:02.499Z"
   },
   {
    "duration": 13,
    "start_time": "2022-11-15T09:44:13.682Z"
   },
   {
    "duration": 14,
    "start_time": "2022-11-15T09:45:51.672Z"
   },
   {
    "duration": 12,
    "start_time": "2022-11-15T09:48:23.169Z"
   },
   {
    "duration": 10,
    "start_time": "2022-11-15T09:49:05.501Z"
   },
   {
    "duration": 12,
    "start_time": "2022-11-15T09:49:10.641Z"
   },
   {
    "duration": 10,
    "start_time": "2022-11-15T09:49:13.832Z"
   },
   {
    "duration": 3,
    "start_time": "2022-11-15T09:49:19.517Z"
   },
   {
    "duration": 79,
    "start_time": "2022-11-15T09:49:19.522Z"
   },
   {
    "duration": 14,
    "start_time": "2022-11-15T09:49:19.603Z"
   },
   {
    "duration": 14,
    "start_time": "2022-11-15T09:49:19.672Z"
   },
   {
    "duration": 68,
    "start_time": "2022-11-15T09:49:19.744Z"
   },
   {
    "duration": 0,
    "start_time": "2022-11-15T09:49:19.814Z"
   },
   {
    "duration": 6,
    "start_time": "2022-11-15T09:49:19.829Z"
   },
   {
    "duration": 15,
    "start_time": "2022-11-15T09:49:19.837Z"
   },
   {
    "duration": 20,
    "start_time": "2022-11-15T09:49:19.906Z"
   },
   {
    "duration": 13,
    "start_time": "2022-11-15T09:49:19.976Z"
   },
   {
    "duration": 10,
    "start_time": "2022-11-15T09:49:59.001Z"
   },
   {
    "duration": 10,
    "start_time": "2022-11-15T09:50:02.286Z"
   },
   {
    "duration": 10,
    "start_time": "2022-11-15T09:50:12.220Z"
   },
   {
    "duration": 5,
    "start_time": "2022-11-15T09:50:22.478Z"
   },
   {
    "duration": 13,
    "start_time": "2022-11-15T09:50:30.031Z"
   },
   {
    "duration": 13,
    "start_time": "2022-11-15T09:50:36.952Z"
   },
   {
    "duration": 68,
    "start_time": "2022-11-15T09:50:46.174Z"
   },
   {
    "duration": 13,
    "start_time": "2022-11-15T09:51:05.654Z"
   },
   {
    "duration": 15,
    "start_time": "2022-11-15T09:51:41.047Z"
   },
   {
    "duration": 3,
    "start_time": "2022-11-15T09:53:00.590Z"
   },
   {
    "duration": 98,
    "start_time": "2022-11-15T09:53:00.595Z"
   },
   {
    "duration": 13,
    "start_time": "2022-11-15T09:53:00.695Z"
   },
   {
    "duration": 31,
    "start_time": "2022-11-15T09:53:00.711Z"
   },
   {
    "duration": 69,
    "start_time": "2022-11-15T09:53:00.744Z"
   },
   {
    "duration": 0,
    "start_time": "2022-11-15T09:53:00.814Z"
   },
   {
    "duration": 0,
    "start_time": "2022-11-15T09:53:00.815Z"
   },
   {
    "duration": 0,
    "start_time": "2022-11-15T09:53:00.817Z"
   },
   {
    "duration": 0,
    "start_time": "2022-11-15T09:53:00.819Z"
   },
   {
    "duration": 1,
    "start_time": "2022-11-15T09:53:00.820Z"
   },
   {
    "duration": 8,
    "start_time": "2022-11-15T09:53:17.907Z"
   },
   {
    "duration": 7,
    "start_time": "2022-11-15T09:53:17.917Z"
   },
   {
    "duration": 19,
    "start_time": "2022-11-15T09:53:17.926Z"
   },
   {
    "duration": 15,
    "start_time": "2022-11-15T09:53:17.947Z"
   },
   {
    "duration": 22,
    "start_time": "2022-11-15T09:53:17.964Z"
   },
   {
    "duration": 7,
    "start_time": "2022-11-15T09:53:59.109Z"
   },
   {
    "duration": 18,
    "start_time": "2022-11-15T09:54:03.871Z"
   },
   {
    "duration": 17,
    "start_time": "2022-11-15T09:54:08.913Z"
   },
   {
    "duration": 18,
    "start_time": "2022-11-15T09:54:10.971Z"
   },
   {
    "duration": 4,
    "start_time": "2022-11-15T09:54:16.920Z"
   },
   {
    "duration": 91,
    "start_time": "2022-11-15T09:54:16.926Z"
   },
   {
    "duration": 20,
    "start_time": "2022-11-15T09:54:17.020Z"
   },
   {
    "duration": 22,
    "start_time": "2022-11-15T09:54:17.043Z"
   },
   {
    "duration": 15,
    "start_time": "2022-11-15T09:54:17.067Z"
   },
   {
    "duration": 9,
    "start_time": "2022-11-15T09:54:17.084Z"
   },
   {
    "duration": 16,
    "start_time": "2022-11-15T09:54:17.095Z"
   },
   {
    "duration": 24,
    "start_time": "2022-11-15T09:54:17.113Z"
   },
   {
    "duration": 41,
    "start_time": "2022-11-15T09:54:17.139Z"
   },
   {
    "duration": 3,
    "start_time": "2022-11-15T09:56:16.330Z"
   },
   {
    "duration": 102,
    "start_time": "2022-11-15T09:56:16.335Z"
   },
   {
    "duration": 15,
    "start_time": "2022-11-15T09:56:16.439Z"
   },
   {
    "duration": 49,
    "start_time": "2022-11-15T09:56:16.456Z"
   },
   {
    "duration": 68,
    "start_time": "2022-11-15T09:56:16.507Z"
   },
   {
    "duration": 83,
    "start_time": "2022-11-15T09:56:16.577Z"
   },
   {
    "duration": 45,
    "start_time": "2022-11-15T09:56:16.662Z"
   },
   {
    "duration": 66,
    "start_time": "2022-11-15T09:56:16.709Z"
   },
   {
    "duration": 25,
    "start_time": "2022-11-15T09:56:16.777Z"
   },
   {
    "duration": 18,
    "start_time": "2022-11-15T09:56:31.362Z"
   },
   {
    "duration": 4,
    "start_time": "2022-11-15T10:05:19.420Z"
   },
   {
    "duration": 3,
    "start_time": "2022-11-15T10:05:25.531Z"
   },
   {
    "duration": 97,
    "start_time": "2022-11-15T10:05:25.536Z"
   },
   {
    "duration": 14,
    "start_time": "2022-11-15T10:05:25.635Z"
   },
   {
    "duration": 21,
    "start_time": "2022-11-15T10:05:25.650Z"
   },
   {
    "duration": 11,
    "start_time": "2022-11-15T10:05:25.674Z"
   },
   {
    "duration": 16,
    "start_time": "2022-11-15T10:05:25.687Z"
   },
   {
    "duration": 18,
    "start_time": "2022-11-15T10:05:25.705Z"
   },
   {
    "duration": 10,
    "start_time": "2022-11-15T10:05:25.725Z"
   },
   {
    "duration": 18,
    "start_time": "2022-11-15T10:05:25.737Z"
   },
   {
    "duration": 19,
    "start_time": "2022-11-15T10:05:25.758Z"
   },
   {
    "duration": 20,
    "start_time": "2022-11-15T10:05:25.780Z"
   },
   {
    "duration": 5,
    "start_time": "2022-11-15T10:05:40.085Z"
   },
   {
    "duration": 39,
    "start_time": "2022-11-15T10:47:50.876Z"
   },
   {
    "duration": 4,
    "start_time": "2022-11-15T10:55:08.140Z"
   },
   {
    "duration": 14,
    "start_time": "2022-11-15T10:55:13.317Z"
   },
   {
    "duration": 17,
    "start_time": "2022-11-15T10:55:16.203Z"
   },
   {
    "duration": 3,
    "start_time": "2022-11-15T10:55:20.348Z"
   },
   {
    "duration": 114,
    "start_time": "2022-11-15T10:55:20.354Z"
   },
   {
    "duration": 25,
    "start_time": "2022-11-15T10:55:20.470Z"
   },
   {
    "duration": 21,
    "start_time": "2022-11-15T10:55:20.498Z"
   },
   {
    "duration": 22,
    "start_time": "2022-11-15T10:55:20.521Z"
   },
   {
    "duration": 11,
    "start_time": "2022-11-15T10:55:20.545Z"
   },
   {
    "duration": 38,
    "start_time": "2022-11-15T10:55:20.558Z"
   },
   {
    "duration": 10,
    "start_time": "2022-11-15T10:55:20.600Z"
   },
   {
    "duration": 17,
    "start_time": "2022-11-15T10:55:20.612Z"
   },
   {
    "duration": 5,
    "start_time": "2022-11-15T10:55:20.632Z"
   },
   {
    "duration": 27,
    "start_time": "2022-11-15T10:55:20.639Z"
   },
   {
    "duration": 21,
    "start_time": "2022-11-15T10:55:20.669Z"
   },
   {
    "duration": 19,
    "start_time": "2022-11-15T10:55:20.692Z"
   },
   {
    "duration": 20,
    "start_time": "2022-11-15T10:56:21.631Z"
   },
   {
    "duration": 19,
    "start_time": "2022-11-15T10:56:40.653Z"
   },
   {
    "duration": 5,
    "start_time": "2022-11-15T10:56:52.418Z"
   },
   {
    "duration": 9,
    "start_time": "2022-11-15T10:57:30.683Z"
   },
   {
    "duration": 4,
    "start_time": "2022-11-15T10:59:14.137Z"
   },
   {
    "duration": 7,
    "start_time": "2022-11-15T11:07:04.790Z"
   },
   {
    "duration": 42,
    "start_time": "2022-11-15T11:07:05.729Z"
   },
   {
    "duration": 19,
    "start_time": "2022-11-15T11:08:49.425Z"
   },
   {
    "duration": 21,
    "start_time": "2022-11-15T11:08:53.615Z"
   },
   {
    "duration": 28,
    "start_time": "2022-11-15T11:08:56.491Z"
   },
   {
    "duration": 9,
    "start_time": "2022-11-15T11:11:00.498Z"
   },
   {
    "duration": 9,
    "start_time": "2022-11-15T11:11:56.682Z"
   },
   {
    "duration": 9,
    "start_time": "2022-11-15T11:12:10.321Z"
   },
   {
    "duration": 16,
    "start_time": "2022-11-15T11:12:15.441Z"
   },
   {
    "duration": 12,
    "start_time": "2022-11-15T11:12:16.679Z"
   },
   {
    "duration": 13,
    "start_time": "2022-11-15T11:12:17.949Z"
   },
   {
    "duration": 27,
    "start_time": "2022-11-15T11:13:04.097Z"
   },
   {
    "duration": 5,
    "start_time": "2022-11-15T11:13:28.233Z"
   },
   {
    "duration": 7,
    "start_time": "2022-11-15T11:13:43.068Z"
   },
   {
    "duration": 7,
    "start_time": "2022-11-15T11:14:00.307Z"
   },
   {
    "duration": 1203,
    "start_time": "2022-11-16T01:09:39.493Z"
   },
   {
    "duration": 117,
    "start_time": "2022-11-16T01:09:40.699Z"
   },
   {
    "duration": 17,
    "start_time": "2022-11-16T01:09:40.818Z"
   },
   {
    "duration": 23,
    "start_time": "2022-11-16T01:09:40.836Z"
   },
   {
    "duration": 9,
    "start_time": "2022-11-16T01:09:40.861Z"
   },
   {
    "duration": 7,
    "start_time": "2022-11-16T01:09:40.872Z"
   },
   {
    "duration": 17,
    "start_time": "2022-11-16T01:09:40.881Z"
   },
   {
    "duration": 4,
    "start_time": "2022-11-16T01:09:40.900Z"
   },
   {
    "duration": 548,
    "start_time": "2022-11-16T01:09:40.905Z"
   },
   {
    "duration": 5,
    "start_time": "2022-11-16T01:09:41.455Z"
   },
   {
    "duration": 16,
    "start_time": "2022-11-16T01:09:41.462Z"
   },
   {
    "duration": 7,
    "start_time": "2022-11-16T01:09:41.479Z"
   },
   {
    "duration": 25,
    "start_time": "2022-11-16T01:09:41.487Z"
   },
   {
    "duration": 38,
    "start_time": "2022-11-16T01:09:41.514Z"
   },
   {
    "duration": 6,
    "start_time": "2022-11-16T01:09:41.554Z"
   },
   {
    "duration": 7,
    "start_time": "2022-11-16T01:09:41.561Z"
   },
   {
    "duration": 6,
    "start_time": "2022-11-16T01:09:41.569Z"
   },
   {
    "duration": 4,
    "start_time": "2022-11-16T01:09:41.577Z"
   },
   {
    "duration": 5,
    "start_time": "2022-11-16T01:09:41.583Z"
   },
   {
    "duration": 151,
    "start_time": "2022-11-16T01:09:41.590Z"
   },
   {
    "duration": 31,
    "start_time": "2022-11-16T01:13:38.983Z"
   },
   {
    "duration": 27,
    "start_time": "2022-11-16T01:14:02.601Z"
   },
   {
    "duration": 3,
    "start_time": "2022-11-16T01:14:21.178Z"
   },
   {
    "duration": 105,
    "start_time": "2022-11-16T01:14:21.183Z"
   },
   {
    "duration": 14,
    "start_time": "2022-11-16T01:14:21.289Z"
   },
   {
    "duration": 22,
    "start_time": "2022-11-16T01:14:21.304Z"
   },
   {
    "duration": 13,
    "start_time": "2022-11-16T01:14:21.328Z"
   },
   {
    "duration": 6,
    "start_time": "2022-11-16T01:14:21.343Z"
   },
   {
    "duration": 18,
    "start_time": "2022-11-16T01:14:21.351Z"
   },
   {
    "duration": 4,
    "start_time": "2022-11-16T01:14:21.371Z"
   },
   {
    "duration": 19,
    "start_time": "2022-11-16T01:14:21.377Z"
   },
   {
    "duration": 5,
    "start_time": "2022-11-16T01:14:21.398Z"
   },
   {
    "duration": 15,
    "start_time": "2022-11-16T01:14:21.405Z"
   },
   {
    "duration": 32,
    "start_time": "2022-11-16T01:14:21.422Z"
   },
   {
    "duration": 23,
    "start_time": "2022-11-16T01:14:21.457Z"
   },
   {
    "duration": 5,
    "start_time": "2022-11-16T01:14:21.482Z"
   },
   {
    "duration": 6,
    "start_time": "2022-11-16T01:14:21.488Z"
   },
   {
    "duration": 7,
    "start_time": "2022-11-16T01:14:21.496Z"
   },
   {
    "duration": 6,
    "start_time": "2022-11-16T01:14:21.504Z"
   },
   {
    "duration": 6,
    "start_time": "2022-11-16T01:14:21.511Z"
   },
   {
    "duration": 34,
    "start_time": "2022-11-16T01:14:21.519Z"
   },
   {
    "duration": 29,
    "start_time": "2022-11-16T01:14:21.555Z"
   },
   {
    "duration": 20,
    "start_time": "2022-11-16T01:15:04.206Z"
   },
   {
    "duration": 7,
    "start_time": "2022-11-16T01:18:59.592Z"
   },
   {
    "duration": 6,
    "start_time": "2022-11-16T01:22:38.130Z"
   },
   {
    "duration": 6,
    "start_time": "2022-11-16T01:22:39.408Z"
   },
   {
    "duration": 5,
    "start_time": "2022-11-16T01:22:39.949Z"
   },
   {
    "duration": 5,
    "start_time": "2022-11-16T01:22:40.667Z"
   },
   {
    "duration": 5,
    "start_time": "2022-11-16T01:22:41.241Z"
   },
   {
    "duration": 27,
    "start_time": "2022-11-16T01:22:42.897Z"
   },
   {
    "duration": 29,
    "start_time": "2022-11-16T01:24:22.687Z"
   },
   {
    "duration": 4,
    "start_time": "2022-11-16T01:25:59.190Z"
   },
   {
    "duration": 5,
    "start_time": "2022-11-16T01:26:19.974Z"
   },
   {
    "duration": 13,
    "start_time": "2022-11-16T01:26:43.029Z"
   },
   {
    "duration": 5,
    "start_time": "2022-11-16T01:33:23.080Z"
   },
   {
    "duration": 5,
    "start_time": "2022-11-16T01:33:23.579Z"
   },
   {
    "duration": 14,
    "start_time": "2022-11-16T01:33:24.209Z"
   },
   {
    "duration": 6,
    "start_time": "2022-11-16T01:34:13.796Z"
   },
   {
    "duration": 25,
    "start_time": "2022-11-16T01:34:36.987Z"
   },
   {
    "duration": 6,
    "start_time": "2022-11-16T01:35:23.040Z"
   },
   {
    "duration": 6,
    "start_time": "2022-11-16T01:35:30.890Z"
   },
   {
    "duration": 158,
    "start_time": "2022-11-16T01:36:20.829Z"
   },
   {
    "duration": 165,
    "start_time": "2022-11-16T01:36:26.160Z"
   },
   {
    "duration": 206,
    "start_time": "2022-11-16T01:37:23.866Z"
   },
   {
    "duration": 153,
    "start_time": "2022-11-16T01:37:45.992Z"
   },
   {
    "duration": 153,
    "start_time": "2022-11-16T01:37:56.016Z"
   },
   {
    "duration": 3,
    "start_time": "2022-11-16T01:39:37.905Z"
   },
   {
    "duration": 155,
    "start_time": "2022-11-16T01:39:42.965Z"
   },
   {
    "duration": 5,
    "start_time": "2022-11-16T01:40:08.987Z"
   },
   {
    "duration": 263,
    "start_time": "2022-11-16T01:40:13.805Z"
   },
   {
    "duration": 4,
    "start_time": "2022-11-16T01:41:27.220Z"
   },
   {
    "duration": 169,
    "start_time": "2022-11-16T01:41:31.190Z"
   },
   {
    "duration": 126,
    "start_time": "2022-11-16T01:42:54.705Z"
   },
   {
    "duration": 136,
    "start_time": "2022-11-16T01:43:12.478Z"
   },
   {
    "duration": 184,
    "start_time": "2022-11-16T01:43:19.151Z"
   },
   {
    "duration": 138,
    "start_time": "2022-11-16T01:46:17.003Z"
   },
   {
    "duration": 155,
    "start_time": "2022-11-16T01:47:10.708Z"
   },
   {
    "duration": 149,
    "start_time": "2022-11-16T01:47:50.968Z"
   },
   {
    "duration": 151,
    "start_time": "2022-11-16T01:48:31.666Z"
   },
   {
    "duration": 15,
    "start_time": "2022-11-16T02:02:40.719Z"
   },
   {
    "duration": 135,
    "start_time": "2022-11-16T02:02:56.630Z"
   },
   {
    "duration": 140,
    "start_time": "2022-11-16T02:04:11.214Z"
   },
   {
    "duration": 71,
    "start_time": "2022-11-16T02:04:22.521Z"
   },
   {
    "duration": 145,
    "start_time": "2022-11-16T02:04:30.571Z"
   },
   {
    "duration": 41,
    "start_time": "2022-11-16T02:12:46.635Z"
   },
   {
    "duration": 37,
    "start_time": "2022-11-16T02:15:16.323Z"
   },
   {
    "duration": 137,
    "start_time": "2022-11-16T02:16:50.492Z"
   },
   {
    "duration": 133,
    "start_time": "2022-11-16T02:17:08.950Z"
   },
   {
    "duration": 68,
    "start_time": "2022-11-16T02:25:19.448Z"
   },
   {
    "duration": 3265,
    "start_time": "2022-11-16T02:25:25.924Z"
   },
   {
    "duration": 7,
    "start_time": "2022-11-16T02:26:36.369Z"
   },
   {
    "duration": 3705,
    "start_time": "2022-11-16T02:30:20.919Z"
   },
   {
    "duration": 3660,
    "start_time": "2022-11-16T02:33:37.249Z"
   },
   {
    "duration": 17,
    "start_time": "2022-11-16T03:16:26.113Z"
   },
   {
    "duration": 16,
    "start_time": "2022-11-16T03:17:18.756Z"
   },
   {
    "duration": 32575,
    "start_time": "2022-11-16T03:17:27.435Z"
   },
   {
    "duration": 33193,
    "start_time": "2022-11-16T03:19:38.744Z"
   },
   {
    "duration": 92,
    "start_time": "2022-11-16T03:21:31.037Z"
   },
   {
    "duration": 31165,
    "start_time": "2022-11-16T03:21:51.307Z"
   },
   {
    "duration": 27,
    "start_time": "2022-11-16T03:22:42.601Z"
   },
   {
    "duration": 3671,
    "start_time": "2022-11-16T03:22:52.465Z"
   },
   {
    "duration": 88,
    "start_time": "2022-11-16T03:23:23.297Z"
   },
   {
    "duration": 77,
    "start_time": "2022-11-16T03:24:37.020Z"
   },
   {
    "duration": 76,
    "start_time": "2022-11-16T03:25:01.690Z"
   },
   {
    "duration": 84,
    "start_time": "2022-11-16T03:25:19.181Z"
   },
   {
    "duration": 134,
    "start_time": "2022-11-16T03:26:24.833Z"
   },
   {
    "duration": 74,
    "start_time": "2022-11-16T03:27:27.327Z"
   },
   {
    "duration": 74,
    "start_time": "2022-11-16T03:28:04.218Z"
   },
   {
    "duration": 76,
    "start_time": "2022-11-16T03:29:46.637Z"
   },
   {
    "duration": 3,
    "start_time": "2022-11-16T03:32:22.568Z"
   },
   {
    "duration": 103,
    "start_time": "2022-11-16T03:32:22.574Z"
   },
   {
    "duration": 15,
    "start_time": "2022-11-16T03:32:22.679Z"
   },
   {
    "duration": 24,
    "start_time": "2022-11-16T03:32:22.696Z"
   },
   {
    "duration": 11,
    "start_time": "2022-11-16T03:32:22.722Z"
   },
   {
    "duration": 22,
    "start_time": "2022-11-16T03:32:22.735Z"
   },
   {
    "duration": 23,
    "start_time": "2022-11-16T03:32:22.759Z"
   },
   {
    "duration": 7,
    "start_time": "2022-11-16T03:32:22.784Z"
   },
   {
    "duration": 19,
    "start_time": "2022-11-16T03:32:22.792Z"
   },
   {
    "duration": 5,
    "start_time": "2022-11-16T03:32:22.812Z"
   },
   {
    "duration": 34,
    "start_time": "2022-11-16T03:32:22.819Z"
   },
   {
    "duration": 5,
    "start_time": "2022-11-16T03:32:22.855Z"
   },
   {
    "duration": 23,
    "start_time": "2022-11-16T03:32:22.863Z"
   },
   {
    "duration": 9,
    "start_time": "2022-11-16T03:32:22.888Z"
   },
   {
    "duration": 6,
    "start_time": "2022-11-16T03:32:22.899Z"
   },
   {
    "duration": 9,
    "start_time": "2022-11-16T03:32:22.907Z"
   },
   {
    "duration": 37,
    "start_time": "2022-11-16T03:32:22.918Z"
   },
   {
    "duration": 6,
    "start_time": "2022-11-16T03:32:22.958Z"
   },
   {
    "duration": 31,
    "start_time": "2022-11-16T03:32:22.966Z"
   },
   {
    "duration": 6,
    "start_time": "2022-11-16T03:32:22.999Z"
   },
   {
    "duration": 19,
    "start_time": "2022-11-16T03:32:23.007Z"
   },
   {
    "duration": 14,
    "start_time": "2022-11-16T03:32:23.050Z"
   },
   {
    "duration": 177,
    "start_time": "2022-11-16T03:32:23.077Z"
   },
   {
    "duration": 0,
    "start_time": "2022-11-16T03:32:23.257Z"
   },
   {
    "duration": 0,
    "start_time": "2022-11-16T03:32:23.258Z"
   },
   {
    "duration": 0,
    "start_time": "2022-11-16T03:32:23.259Z"
   },
   {
    "duration": 0,
    "start_time": "2022-11-16T03:32:23.260Z"
   },
   {
    "duration": 0,
    "start_time": "2022-11-16T03:32:23.261Z"
   },
   {
    "duration": 0,
    "start_time": "2022-11-16T03:32:23.263Z"
   },
   {
    "duration": 0,
    "start_time": "2022-11-16T03:32:23.264Z"
   },
   {
    "duration": 83,
    "start_time": "2022-11-16T03:32:23.291Z"
   },
   {
    "duration": 146,
    "start_time": "2022-11-16T03:33:39.379Z"
   },
   {
    "duration": 128,
    "start_time": "2022-11-16T03:34:17.214Z"
   },
   {
    "duration": 130,
    "start_time": "2022-11-16T03:34:36.781Z"
   },
   {
    "duration": 146,
    "start_time": "2022-11-16T03:34:51.154Z"
   },
   {
    "duration": 183,
    "start_time": "2022-11-16T03:34:51.302Z"
   },
   {
    "duration": 132,
    "start_time": "2022-11-16T03:34:51.487Z"
   },
   {
    "duration": 138,
    "start_time": "2022-11-16T03:34:51.621Z"
   },
   {
    "duration": 193,
    "start_time": "2022-11-16T03:34:51.761Z"
   },
   {
    "duration": 0,
    "start_time": "2022-11-16T03:34:51.955Z"
   },
   {
    "duration": 0,
    "start_time": "2022-11-16T03:34:51.957Z"
   },
   {
    "duration": 3575,
    "start_time": "2022-11-16T03:35:01.358Z"
   },
   {
    "duration": 88,
    "start_time": "2022-11-16T03:35:04.935Z"
   },
   {
    "duration": 4,
    "start_time": "2022-11-16T03:35:11.961Z"
   },
   {
    "duration": 113,
    "start_time": "2022-11-16T03:35:11.968Z"
   },
   {
    "duration": 20,
    "start_time": "2022-11-16T03:35:12.083Z"
   },
   {
    "duration": 23,
    "start_time": "2022-11-16T03:35:12.106Z"
   },
   {
    "duration": 20,
    "start_time": "2022-11-16T03:35:12.132Z"
   },
   {
    "duration": 10,
    "start_time": "2022-11-16T03:35:12.154Z"
   },
   {
    "duration": 22,
    "start_time": "2022-11-16T03:35:12.166Z"
   },
   {
    "duration": 6,
    "start_time": "2022-11-16T03:35:12.197Z"
   },
   {
    "duration": 39,
    "start_time": "2022-11-16T03:35:12.206Z"
   },
   {
    "duration": 4,
    "start_time": "2022-11-16T03:35:12.247Z"
   },
   {
    "duration": 20,
    "start_time": "2022-11-16T03:35:12.253Z"
   },
   {
    "duration": 9,
    "start_time": "2022-11-16T03:35:12.274Z"
   },
   {
    "duration": 34,
    "start_time": "2022-11-16T03:35:12.285Z"
   },
   {
    "duration": 8,
    "start_time": "2022-11-16T03:35:12.321Z"
   },
   {
    "duration": 8,
    "start_time": "2022-11-16T03:35:12.331Z"
   },
   {
    "duration": 37,
    "start_time": "2022-11-16T03:35:12.341Z"
   },
   {
    "duration": 11,
    "start_time": "2022-11-16T03:35:12.380Z"
   },
   {
    "duration": 18,
    "start_time": "2022-11-16T03:35:12.393Z"
   },
   {
    "duration": 41,
    "start_time": "2022-11-16T03:35:12.412Z"
   },
   {
    "duration": 6,
    "start_time": "2022-11-16T03:35:12.455Z"
   },
   {
    "duration": 10,
    "start_time": "2022-11-16T03:35:12.463Z"
   },
   {
    "duration": 14,
    "start_time": "2022-11-16T03:35:12.474Z"
   },
   {
    "duration": 276,
    "start_time": "2022-11-16T03:35:12.490Z"
   },
   {
    "duration": 160,
    "start_time": "2022-11-16T03:35:12.768Z"
   },
   {
    "duration": 151,
    "start_time": "2022-11-16T03:35:12.930Z"
   },
   {
    "duration": 180,
    "start_time": "2022-11-16T03:35:13.083Z"
   },
   {
    "duration": 148,
    "start_time": "2022-11-16T03:35:13.266Z"
   },
   {
    "duration": 152,
    "start_time": "2022-11-16T03:35:13.416Z"
   },
   {
    "duration": 3758,
    "start_time": "2022-11-16T03:35:13.570Z"
   },
   {
    "duration": 87,
    "start_time": "2022-11-16T03:35:17.330Z"
   },
   {
    "duration": 4,
    "start_time": "2022-11-16T03:39:45.098Z"
   },
   {
    "duration": 70,
    "start_time": "2022-11-16T03:39:54.723Z"
   },
   {
    "duration": 5,
    "start_time": "2022-11-16T03:41:15.637Z"
   },
   {
    "duration": 5,
    "start_time": "2022-11-16T03:41:45.591Z"
   },
   {
    "duration": 6,
    "start_time": "2022-11-16T03:42:24.129Z"
   },
   {
    "duration": 68,
    "start_time": "2022-11-16T03:43:32.954Z"
   },
   {
    "duration": 67,
    "start_time": "2022-11-16T03:43:45.086Z"
   },
   {
    "duration": 65,
    "start_time": "2022-11-16T03:44:42.516Z"
   },
   {
    "duration": 4,
    "start_time": "2022-11-16T03:45:15.510Z"
   },
   {
    "duration": 15780,
    "start_time": "2022-11-16T03:45:22.698Z"
   },
   {
    "duration": 15703,
    "start_time": "2022-11-16T03:48:01.334Z"
   },
   {
    "duration": 16163,
    "start_time": "2022-11-16T03:48:44.397Z"
   },
   {
    "duration": 4,
    "start_time": "2022-11-16T03:49:30.135Z"
   },
   {
    "duration": 152934,
    "start_time": "2022-11-16T03:51:54.599Z"
   },
   {
    "duration": 5,
    "start_time": "2022-11-16T03:55:27.326Z"
   },
   {
    "duration": 5,
    "start_time": "2022-11-16T03:55:30.218Z"
   },
   {
    "duration": 5,
    "start_time": "2022-11-16T04:03:16.281Z"
   },
   {
    "duration": 165,
    "start_time": "2022-11-16T05:35:02.008Z"
   },
   {
    "duration": 175570,
    "start_time": "2022-11-16T05:35:16.596Z"
   },
   {
    "duration": 94,
    "start_time": "2022-11-16T05:41:09.532Z"
   },
   {
    "duration": 324,
    "start_time": "2022-11-16T05:41:23.989Z"
   },
   {
    "duration": 1470,
    "start_time": "2022-11-16T13:53:13.874Z"
   },
   {
    "duration": 4,
    "start_time": "2022-11-16T14:13:44.909Z"
   },
   {
    "duration": 102,
    "start_time": "2022-11-16T14:14:43.800Z"
   },
   {
    "duration": 9,
    "start_time": "2022-11-16T14:15:14.350Z"
   },
   {
    "duration": 8,
    "start_time": "2022-11-16T14:15:24.250Z"
   },
   {
    "duration": 4,
    "start_time": "2022-11-16T14:15:28.085Z"
   },
   {
    "duration": 124,
    "start_time": "2022-11-16T14:15:28.091Z"
   },
   {
    "duration": 16,
    "start_time": "2022-11-16T14:15:28.217Z"
   },
   {
    "duration": 24,
    "start_time": "2022-11-16T14:15:28.235Z"
   },
   {
    "duration": 8,
    "start_time": "2022-11-16T14:15:28.261Z"
   },
   {
    "duration": 7,
    "start_time": "2022-11-16T14:15:28.270Z"
   },
   {
    "duration": 13,
    "start_time": "2022-11-16T14:15:28.279Z"
   },
   {
    "duration": 4,
    "start_time": "2022-11-16T14:15:28.294Z"
   },
   {
    "duration": 46,
    "start_time": "2022-11-16T14:15:28.326Z"
   },
   {
    "duration": 4,
    "start_time": "2022-11-16T14:15:28.374Z"
   },
   {
    "duration": 23,
    "start_time": "2022-11-16T14:15:28.379Z"
   },
   {
    "duration": 22,
    "start_time": "2022-11-16T14:15:28.405Z"
   },
   {
    "duration": 27,
    "start_time": "2022-11-16T14:15:28.429Z"
   },
   {
    "duration": 7,
    "start_time": "2022-11-16T14:15:28.460Z"
   },
   {
    "duration": 10,
    "start_time": "2022-11-16T14:15:28.469Z"
   },
   {
    "duration": 7,
    "start_time": "2022-11-16T14:15:28.481Z"
   },
   {
    "duration": 38,
    "start_time": "2022-11-16T14:15:28.489Z"
   },
   {
    "duration": 7,
    "start_time": "2022-11-16T14:15:28.529Z"
   },
   {
    "duration": 52,
    "start_time": "2022-11-16T14:15:28.537Z"
   },
   {
    "duration": 5,
    "start_time": "2022-11-16T14:15:28.591Z"
   },
   {
    "duration": 29,
    "start_time": "2022-11-16T14:15:28.598Z"
   },
   {
    "duration": 6,
    "start_time": "2022-11-16T14:15:28.629Z"
   },
   {
    "duration": 16,
    "start_time": "2022-11-16T14:15:28.637Z"
   },
   {
    "duration": 159,
    "start_time": "2022-11-16T14:15:28.654Z"
   },
   {
    "duration": 128,
    "start_time": "2022-11-16T14:15:28.814Z"
   },
   {
    "duration": 122,
    "start_time": "2022-11-16T14:15:28.944Z"
   },
   {
    "duration": 137,
    "start_time": "2022-11-16T14:15:29.068Z"
   },
   {
    "duration": 185,
    "start_time": "2022-11-16T14:15:29.207Z"
   },
   {
    "duration": 116,
    "start_time": "2022-11-16T14:15:29.393Z"
   },
   {
    "duration": 3023,
    "start_time": "2022-11-16T14:15:29.511Z"
   },
   {
    "duration": 1257,
    "start_time": "2022-11-16T14:36:53.990Z"
   },
   {
    "duration": 68,
    "start_time": "2022-11-16T14:36:55.249Z"
   },
   {
    "duration": 13,
    "start_time": "2022-11-16T14:36:55.318Z"
   },
   {
    "duration": 16,
    "start_time": "2022-11-16T14:36:55.332Z"
   },
   {
    "duration": 5,
    "start_time": "2022-11-16T14:36:55.350Z"
   },
   {
    "duration": 11,
    "start_time": "2022-11-16T14:36:55.356Z"
   },
   {
    "duration": 15,
    "start_time": "2022-11-16T14:36:55.368Z"
   },
   {
    "duration": 2,
    "start_time": "2022-11-16T14:36:55.385Z"
   },
   {
    "duration": 73,
    "start_time": "2022-11-16T14:36:55.389Z"
   },
   {
    "duration": 5,
    "start_time": "2022-11-16T14:36:55.465Z"
   },
   {
    "duration": 19,
    "start_time": "2022-11-16T14:36:55.472Z"
   },
   {
    "duration": 10,
    "start_time": "2022-11-16T14:36:55.493Z"
   },
   {
    "duration": 38,
    "start_time": "2022-11-16T14:36:55.505Z"
   },
   {
    "duration": 7,
    "start_time": "2022-11-16T14:36:55.545Z"
   },
   {
    "duration": 9,
    "start_time": "2022-11-16T14:36:55.554Z"
   },
   {
    "duration": 11,
    "start_time": "2022-11-16T14:36:55.565Z"
   },
   {
    "duration": 16,
    "start_time": "2022-11-16T14:36:55.578Z"
   },
   {
    "duration": 11,
    "start_time": "2022-11-16T14:36:55.595Z"
   },
   {
    "duration": 29,
    "start_time": "2022-11-16T14:36:55.607Z"
   },
   {
    "duration": 5,
    "start_time": "2022-11-16T14:36:55.637Z"
   },
   {
    "duration": 9,
    "start_time": "2022-11-16T14:36:55.643Z"
   },
   {
    "duration": 7,
    "start_time": "2022-11-16T14:36:55.653Z"
   },
   {
    "duration": 11,
    "start_time": "2022-11-16T14:36:55.661Z"
   },
   {
    "duration": 146,
    "start_time": "2022-11-16T14:36:55.674Z"
   },
   {
    "duration": 114,
    "start_time": "2022-11-16T14:36:55.822Z"
   },
   {
    "duration": 114,
    "start_time": "2022-11-16T14:36:55.937Z"
   },
   {
    "duration": 133,
    "start_time": "2022-11-16T14:36:56.053Z"
   },
   {
    "duration": 174,
    "start_time": "2022-11-16T14:36:56.188Z"
   },
   {
    "duration": 106,
    "start_time": "2022-11-16T14:36:56.363Z"
   },
   {
    "duration": 2755,
    "start_time": "2022-11-16T14:36:56.471Z"
   },
   {
    "duration": 113690,
    "start_time": "2022-11-16T14:36:59.228Z"
   },
   {
    "duration": 8,
    "start_time": "2022-11-16T14:38:52.920Z"
   },
   {
    "duration": 131983,
    "start_time": "2022-11-16T14:38:52.930Z"
   },
   {
    "duration": 213,
    "start_time": "2022-11-16T14:41:04.915Z"
   },
   {
    "duration": 18,
    "start_time": "2022-11-16T14:41:05.130Z"
   },
   {
    "duration": 87,
    "start_time": "2022-11-16T14:42:21.681Z"
   },
   {
    "duration": 309,
    "start_time": "2022-11-16T14:42:28.200Z"
   },
   {
    "duration": 28,
    "start_time": "2022-11-16T14:43:55.940Z"
   },
   {
    "duration": 4,
    "start_time": "2022-11-16T14:48:35.040Z"
   },
   {
    "duration": 3,
    "start_time": "2022-11-16T14:50:39.700Z"
   },
   {
    "duration": 1621,
    "start_time": "2022-11-17T02:45:40.300Z"
   },
   {
    "duration": 198,
    "start_time": "2022-11-17T02:45:41.923Z"
   },
   {
    "duration": 14,
    "start_time": "2022-11-17T02:45:42.123Z"
   },
   {
    "duration": 21,
    "start_time": "2022-11-17T02:45:42.139Z"
   },
   {
    "duration": 8,
    "start_time": "2022-11-17T02:45:42.163Z"
   },
   {
    "duration": 9,
    "start_time": "2022-11-17T02:45:42.172Z"
   },
   {
    "duration": 19,
    "start_time": "2022-11-17T02:45:42.183Z"
   },
   {
    "duration": 14,
    "start_time": "2022-11-17T02:45:42.204Z"
   },
   {
    "duration": 66,
    "start_time": "2022-11-17T02:45:42.220Z"
   },
   {
    "duration": 4,
    "start_time": "2022-11-17T02:45:42.288Z"
   },
   {
    "duration": 30,
    "start_time": "2022-11-17T02:45:42.294Z"
   },
   {
    "duration": 16,
    "start_time": "2022-11-17T02:45:42.334Z"
   },
   {
    "duration": 38,
    "start_time": "2022-11-17T02:45:42.352Z"
   },
   {
    "duration": 8,
    "start_time": "2022-11-17T02:45:42.394Z"
   },
   {
    "duration": 58,
    "start_time": "2022-11-17T02:45:42.413Z"
   },
   {
    "duration": 44,
    "start_time": "2022-11-17T02:45:42.473Z"
   },
   {
    "duration": 58,
    "start_time": "2022-11-17T02:45:42.519Z"
   },
   {
    "duration": 36,
    "start_time": "2022-11-17T02:45:42.579Z"
   },
   {
    "duration": 82,
    "start_time": "2022-11-17T02:45:42.617Z"
   },
   {
    "duration": 25,
    "start_time": "2022-11-17T02:45:42.701Z"
   },
   {
    "duration": 36,
    "start_time": "2022-11-17T02:45:42.728Z"
   },
   {
    "duration": 38,
    "start_time": "2022-11-17T02:45:42.766Z"
   },
   {
    "duration": 29,
    "start_time": "2022-11-17T02:45:42.806Z"
   },
   {
    "duration": 216,
    "start_time": "2022-11-17T02:45:42.837Z"
   },
   {
    "duration": 147,
    "start_time": "2022-11-17T02:45:43.055Z"
   },
   {
    "duration": 123,
    "start_time": "2022-11-17T02:45:43.204Z"
   },
   {
    "duration": 159,
    "start_time": "2022-11-17T02:45:43.329Z"
   },
   {
    "duration": 198,
    "start_time": "2022-11-17T02:45:43.490Z"
   },
   {
    "duration": 129,
    "start_time": "2022-11-17T02:45:43.690Z"
   },
   {
    "duration": 3355,
    "start_time": "2022-11-17T02:45:43.821Z"
   },
   {
    "duration": 129943,
    "start_time": "2022-11-17T02:45:47.178Z"
   },
   {
    "duration": 5,
    "start_time": "2022-11-17T02:47:57.122Z"
   },
   {
    "duration": 148478,
    "start_time": "2022-11-17T02:47:57.136Z"
   },
   {
    "duration": 242,
    "start_time": "2022-11-17T02:50:25.616Z"
   },
   {
    "duration": 3,
    "start_time": "2022-11-17T02:50:25.860Z"
   },
   {
    "duration": 74,
    "start_time": "2022-11-17T02:50:25.865Z"
   },
   {
    "duration": 127,
    "start_time": "2022-11-17T02:56:19.777Z"
   },
   {
    "duration": 4,
    "start_time": "2022-11-17T02:56:39.045Z"
   },
   {
    "duration": 20,
    "start_time": "2022-11-17T02:56:47.403Z"
   },
   {
    "duration": 25,
    "start_time": "2022-11-17T02:58:05.307Z"
   },
   {
    "duration": 3708,
    "start_time": "2022-11-17T02:58:30.289Z"
   },
   {
    "duration": 3663,
    "start_time": "2022-11-17T03:02:09.435Z"
   },
   {
    "duration": 2759,
    "start_time": "2022-11-17T03:02:29.842Z"
   },
   {
    "duration": 2769,
    "start_time": "2022-11-17T03:03:22.194Z"
   },
   {
    "duration": 2902,
    "start_time": "2022-11-17T03:04:41.610Z"
   },
   {
    "duration": 2769,
    "start_time": "2022-11-17T03:04:53.325Z"
   },
   {
    "duration": 2962,
    "start_time": "2022-11-17T03:05:02.573Z"
   },
   {
    "duration": 30,
    "start_time": "2022-11-17T03:05:39.982Z"
   },
   {
    "duration": 4,
    "start_time": "2022-11-17T03:06:46.497Z"
   },
   {
    "duration": 20,
    "start_time": "2022-11-17T03:12:38.181Z"
   },
   {
    "duration": 29,
    "start_time": "2022-11-17T03:13:14.472Z"
   },
   {
    "duration": 3230,
    "start_time": "2022-11-17T03:13:56.564Z"
   },
   {
    "duration": 4,
    "start_time": "2022-11-17T03:14:35.063Z"
   },
   {
    "duration": 4,
    "start_time": "2022-11-17T03:17:03.480Z"
   },
   {
    "duration": 2768,
    "start_time": "2022-11-17T03:17:26.883Z"
   },
   {
    "duration": 3,
    "start_time": "2022-11-17T03:17:29.653Z"
   },
   {
    "duration": 4,
    "start_time": "2022-11-17T03:17:29.883Z"
   },
   {
    "duration": 23,
    "start_time": "2022-11-17T03:29:02.427Z"
   },
   {
    "duration": 9,
    "start_time": "2022-11-17T03:29:32.022Z"
   },
   {
    "duration": 4,
    "start_time": "2022-11-17T03:29:41.024Z"
   },
   {
    "duration": 2999,
    "start_time": "2022-11-17T03:29:59.103Z"
   },
   {
    "duration": 2975,
    "start_time": "2022-11-17T03:30:22.106Z"
   },
   {
    "duration": 3115,
    "start_time": "2022-11-17T03:31:11.140Z"
   },
   {
    "duration": 4,
    "start_time": "2022-11-17T03:37:30.409Z"
   },
   {
    "duration": 3204,
    "start_time": "2022-11-17T03:43:14.732Z"
   },
   {
    "duration": 4,
    "start_time": "2022-11-17T03:43:24.654Z"
   },
   {
    "duration": 20,
    "start_time": "2022-11-17T03:43:47.593Z"
   },
   {
    "duration": 4,
    "start_time": "2022-11-17T03:44:08.848Z"
   },
   {
    "duration": 8,
    "start_time": "2022-11-17T03:45:11.762Z"
   },
   {
    "duration": 4,
    "start_time": "2022-11-17T03:45:21.241Z"
   },
   {
    "duration": 4,
    "start_time": "2022-11-17T03:49:32.806Z"
   },
   {
    "duration": 3292,
    "start_time": "2022-11-17T03:50:44.214Z"
   },
   {
    "duration": 5,
    "start_time": "2022-11-17T03:50:50.191Z"
   },
   {
    "duration": 3,
    "start_time": "2022-11-17T03:50:55.935Z"
   },
   {
    "duration": 3269,
    "start_time": "2022-11-17T03:50:57.931Z"
   },
   {
    "duration": 4,
    "start_time": "2022-11-17T03:51:05.442Z"
   },
   {
    "duration": 4,
    "start_time": "2022-11-17T03:52:55.987Z"
   },
   {
    "duration": 8,
    "start_time": "2022-11-17T03:56:27.893Z"
   },
   {
    "duration": 4,
    "start_time": "2022-11-17T03:56:37.356Z"
   },
   {
    "duration": 4,
    "start_time": "2022-11-17T03:57:43.636Z"
   },
   {
    "duration": 5,
    "start_time": "2022-11-17T03:57:54.456Z"
   },
   {
    "duration": 37,
    "start_time": "2022-11-17T03:59:50.287Z"
   },
   {
    "duration": 3336,
    "start_time": "2022-11-17T04:01:06.918Z"
   },
   {
    "duration": 3228,
    "start_time": "2022-11-17T04:01:26.193Z"
   },
   {
    "duration": 4,
    "start_time": "2022-11-17T04:01:36.943Z"
   },
   {
    "duration": 12,
    "start_time": "2022-11-17T04:04:05.325Z"
   },
   {
    "duration": 9,
    "start_time": "2022-11-17T04:04:09.694Z"
   },
   {
    "duration": 5,
    "start_time": "2022-11-17T04:04:22.489Z"
   },
   {
    "duration": 4,
    "start_time": "2022-11-17T04:04:31.594Z"
   },
   {
    "duration": 3350,
    "start_time": "2022-11-17T04:04:54.590Z"
   },
   {
    "duration": 139407,
    "start_time": "2022-11-17T05:34:52.216Z"
   },
   {
    "duration": 11,
    "start_time": "2022-11-17T05:37:11.654Z"
   },
   {
    "duration": 3,
    "start_time": "2022-11-17T05:40:25.718Z"
   },
   {
    "duration": 83,
    "start_time": "2022-11-17T05:40:25.723Z"
   },
   {
    "duration": 11,
    "start_time": "2022-11-17T05:40:25.809Z"
   },
   {
    "duration": 12,
    "start_time": "2022-11-17T05:40:25.822Z"
   },
   {
    "duration": 15,
    "start_time": "2022-11-17T05:40:25.836Z"
   },
   {
    "duration": 7,
    "start_time": "2022-11-17T05:40:25.853Z"
   },
   {
    "duration": 25,
    "start_time": "2022-11-17T05:40:25.862Z"
   },
   {
    "duration": 5,
    "start_time": "2022-11-17T05:40:25.888Z"
   },
   {
    "duration": 27,
    "start_time": "2022-11-17T05:40:25.895Z"
   },
   {
    "duration": 12,
    "start_time": "2022-11-17T05:40:25.923Z"
   },
   {
    "duration": 17,
    "start_time": "2022-11-17T05:40:25.937Z"
   },
   {
    "duration": 14,
    "start_time": "2022-11-17T05:40:25.955Z"
   },
   {
    "duration": 39,
    "start_time": "2022-11-17T05:40:25.970Z"
   },
   {
    "duration": 40,
    "start_time": "2022-11-17T05:40:26.011Z"
   },
   {
    "duration": 8,
    "start_time": "2022-11-17T05:40:26.052Z"
   },
   {
    "duration": 6,
    "start_time": "2022-11-17T05:40:26.061Z"
   },
   {
    "duration": 9,
    "start_time": "2022-11-17T05:40:26.069Z"
   },
   {
    "duration": 10,
    "start_time": "2022-11-17T05:40:26.079Z"
   },
   {
    "duration": 35,
    "start_time": "2022-11-17T05:40:26.090Z"
   },
   {
    "duration": 5,
    "start_time": "2022-11-17T05:40:26.127Z"
   },
   {
    "duration": 11,
    "start_time": "2022-11-17T05:40:26.133Z"
   },
   {
    "duration": 9,
    "start_time": "2022-11-17T05:40:26.145Z"
   },
   {
    "duration": 25,
    "start_time": "2022-11-17T05:40:26.155Z"
   },
   {
    "duration": 141,
    "start_time": "2022-11-17T05:40:26.182Z"
   },
   {
    "duration": 120,
    "start_time": "2022-11-17T05:40:26.324Z"
   },
   {
    "duration": 126,
    "start_time": "2022-11-17T05:40:26.445Z"
   },
   {
    "duration": 151,
    "start_time": "2022-11-17T05:40:26.574Z"
   },
   {
    "duration": 151,
    "start_time": "2022-11-17T05:40:26.727Z"
   },
   {
    "duration": 143,
    "start_time": "2022-11-17T05:40:26.880Z"
   },
   {
    "duration": 3391,
    "start_time": "2022-11-17T05:40:27.025Z"
   },
   {
    "duration": 4,
    "start_time": "2022-11-17T05:40:30.417Z"
   },
   {
    "duration": 61,
    "start_time": "2022-11-17T05:40:30.423Z"
   },
   {
    "duration": 52,
    "start_time": "2022-11-17T05:40:30.486Z"
   },
   {
    "duration": 59,
    "start_time": "2022-11-17T05:40:30.539Z"
   },
   {
    "duration": 136705,
    "start_time": "2022-11-17T05:40:30.600Z"
   },
   {
    "duration": 4,
    "start_time": "2022-11-17T05:42:47.307Z"
   },
   {
    "duration": 147502,
    "start_time": "2022-11-17T05:42:47.312Z"
   },
   {
    "duration": 211,
    "start_time": "2022-11-17T05:45:14.816Z"
   },
   {
    "duration": 4,
    "start_time": "2022-11-17T05:45:15.034Z"
   },
   {
    "duration": 44,
    "start_time": "2022-11-17T05:45:15.040Z"
   },
   {
    "duration": 8,
    "start_time": "2022-11-17T07:08:19.531Z"
   },
   {
    "duration": 1397,
    "start_time": "2022-11-17T07:12:57.544Z"
   },
   {
    "duration": 60,
    "start_time": "2022-11-17T07:12:58.943Z"
   },
   {
    "duration": 22,
    "start_time": "2022-11-17T07:12:59.005Z"
   },
   {
    "duration": 19,
    "start_time": "2022-11-17T07:12:59.030Z"
   },
   {
    "duration": 7,
    "start_time": "2022-11-17T07:12:59.053Z"
   },
   {
    "duration": 8,
    "start_time": "2022-11-17T07:12:59.061Z"
   },
   {
    "duration": 16,
    "start_time": "2022-11-17T07:12:59.072Z"
   },
   {
    "duration": 3,
    "start_time": "2022-11-17T07:12:59.090Z"
   },
   {
    "duration": 67,
    "start_time": "2022-11-17T07:12:59.095Z"
   },
   {
    "duration": 4,
    "start_time": "2022-11-17T07:12:59.164Z"
   },
   {
    "duration": 13,
    "start_time": "2022-11-17T07:12:59.169Z"
   },
   {
    "duration": 7,
    "start_time": "2022-11-17T07:12:59.183Z"
   },
   {
    "duration": 24,
    "start_time": "2022-11-17T07:12:59.191Z"
   },
   {
    "duration": 22,
    "start_time": "2022-11-17T07:12:59.218Z"
   },
   {
    "duration": 11,
    "start_time": "2022-11-17T07:12:59.241Z"
   },
   {
    "duration": 6,
    "start_time": "2022-11-17T07:12:59.254Z"
   },
   {
    "duration": 9,
    "start_time": "2022-11-17T07:12:59.262Z"
   },
   {
    "duration": 6,
    "start_time": "2022-11-17T07:12:59.273Z"
   },
   {
    "duration": 32,
    "start_time": "2022-11-17T07:12:59.281Z"
   },
   {
    "duration": 24,
    "start_time": "2022-11-17T07:12:59.315Z"
   },
   {
    "duration": 6,
    "start_time": "2022-11-17T07:12:59.341Z"
   },
   {
    "duration": 6,
    "start_time": "2022-11-17T07:12:59.348Z"
   },
   {
    "duration": 14,
    "start_time": "2022-11-17T07:12:59.355Z"
   },
   {
    "duration": 156,
    "start_time": "2022-11-17T07:12:59.371Z"
   },
   {
    "duration": 121,
    "start_time": "2022-11-17T07:12:59.529Z"
   },
   {
    "duration": 120,
    "start_time": "2022-11-17T07:12:59.652Z"
   },
   {
    "duration": 145,
    "start_time": "2022-11-17T07:12:59.773Z"
   },
   {
    "duration": 209,
    "start_time": "2022-11-17T07:12:59.920Z"
   },
   {
    "duration": 118,
    "start_time": "2022-11-17T07:13:00.134Z"
   },
   {
    "duration": 3811,
    "start_time": "2022-11-17T07:13:00.254Z"
   },
   {
    "duration": 4,
    "start_time": "2022-11-17T07:13:04.066Z"
   },
   {
    "duration": 66,
    "start_time": "2022-11-17T07:13:04.072Z"
   },
   {
    "duration": 39,
    "start_time": "2022-11-17T07:13:04.140Z"
   },
   {
    "duration": 136201,
    "start_time": "2022-11-17T07:13:04.181Z"
   },
   {
    "duration": 145778,
    "start_time": "2022-11-17T07:15:20.407Z"
   },
   {
    "duration": 228,
    "start_time": "2022-11-17T07:17:46.187Z"
   },
   {
    "duration": 3,
    "start_time": "2022-11-17T07:17:46.417Z"
   },
   {
    "duration": 32,
    "start_time": "2022-11-17T07:17:46.422Z"
   },
   {
    "duration": 17,
    "start_time": "2022-11-17T07:17:46.651Z"
   },
   {
    "duration": 13,
    "start_time": "2022-11-17T07:17:46.670Z"
   },
   {
    "duration": 52,
    "start_time": "2022-11-17T07:19:41.553Z"
   },
   {
    "duration": 86,
    "start_time": "2022-11-17T07:20:18.851Z"
   },
   {
    "duration": 5,
    "start_time": "2022-11-17T07:20:34.934Z"
   },
   {
    "duration": 3,
    "start_time": "2022-11-17T07:20:49.004Z"
   },
   {
    "duration": 73,
    "start_time": "2022-11-17T07:22:24.962Z"
   },
   {
    "duration": 56,
    "start_time": "2022-11-17T07:22:59.990Z"
   },
   {
    "duration": 96,
    "start_time": "2022-11-17T07:23:09.341Z"
   },
   {
    "duration": 137979,
    "start_time": "2022-11-17T07:40:50.149Z"
   },
   {
    "duration": 7,
    "start_time": "2022-11-17T07:43:08.130Z"
   },
   {
    "duration": 10,
    "start_time": "2022-11-17T07:43:08.138Z"
   },
   {
    "duration": 3,
    "start_time": "2022-11-17T07:44:10.427Z"
   },
   {
    "duration": 4,
    "start_time": "2022-11-17T07:44:30.368Z"
   },
   {
    "duration": 5,
    "start_time": "2022-11-17T07:44:35.407Z"
   },
   {
    "duration": 3,
    "start_time": "2022-11-17T07:44:38.237Z"
   },
   {
    "duration": 5,
    "start_time": "2022-11-17T07:44:49.345Z"
   },
   {
    "duration": 23,
    "start_time": "2022-11-17T07:53:21.360Z"
   },
   {
    "duration": 29,
    "start_time": "2022-11-17T07:54:45.951Z"
   },
   {
    "duration": 28,
    "start_time": "2022-11-17T07:55:51.721Z"
   },
   {
    "duration": 136945,
    "start_time": "2022-11-17T08:01:24.745Z"
   },
   {
    "duration": 25,
    "start_time": "2022-11-17T08:20:12.653Z"
   },
   {
    "duration": 181,
    "start_time": "2022-11-17T08:43:54.099Z"
   },
   {
    "duration": 81,
    "start_time": "2022-11-17T08:44:50.509Z"
   },
   {
    "duration": 3349,
    "start_time": "2022-11-17T08:51:15.551Z"
   },
   {
    "duration": 3790,
    "start_time": "2022-11-17T08:51:39.287Z"
   },
   {
    "duration": 3477,
    "start_time": "2022-11-17T09:29:33.000Z"
   },
   {
    "duration": 3240,
    "start_time": "2022-11-17T09:43:28.055Z"
   },
   {
    "duration": 3326,
    "start_time": "2022-11-17T09:44:11.321Z"
   },
   {
    "duration": 3335,
    "start_time": "2022-11-17T09:45:26.952Z"
   },
   {
    "duration": 3292,
    "start_time": "2022-11-17T09:45:50.834Z"
   },
   {
    "duration": 3356,
    "start_time": "2022-11-17T09:47:46.251Z"
   },
   {
    "duration": 3261,
    "start_time": "2022-11-17T09:49:39.829Z"
   },
   {
    "duration": 3236,
    "start_time": "2022-11-17T09:50:29.174Z"
   },
   {
    "duration": 3214,
    "start_time": "2022-11-17T09:50:39.000Z"
   },
   {
    "duration": 3247,
    "start_time": "2022-11-17T09:50:55.440Z"
   },
   {
    "duration": 3412,
    "start_time": "2022-11-17T09:51:47.488Z"
   },
   {
    "duration": 3297,
    "start_time": "2022-11-17T09:52:14.029Z"
   },
   {
    "duration": 3364,
    "start_time": "2022-11-17T09:52:46.894Z"
   },
   {
    "duration": 3408,
    "start_time": "2022-11-17T09:54:04.102Z"
   },
   {
    "duration": 3200,
    "start_time": "2022-11-17T09:54:37.128Z"
   },
   {
    "duration": 3359,
    "start_time": "2022-11-17T09:56:36.607Z"
   },
   {
    "duration": 45,
    "start_time": "2022-11-17T09:58:58.263Z"
   },
   {
    "duration": 3466,
    "start_time": "2022-11-17T09:59:07.154Z"
   },
   {
    "duration": 3476,
    "start_time": "2022-11-17T09:59:52.404Z"
   },
   {
    "duration": 105419,
    "start_time": "2022-11-17T10:19:23.895Z"
   },
   {
    "duration": 1456,
    "start_time": "2022-11-17T10:51:49.614Z"
   },
   {
    "duration": 95,
    "start_time": "2022-11-17T10:51:51.073Z"
   },
   {
    "duration": 13,
    "start_time": "2022-11-17T10:51:51.170Z"
   },
   {
    "duration": 19,
    "start_time": "2022-11-17T10:51:51.185Z"
   },
   {
    "duration": 7,
    "start_time": "2022-11-17T10:51:51.208Z"
   },
   {
    "duration": 12,
    "start_time": "2022-11-17T10:51:51.216Z"
   },
   {
    "duration": 19,
    "start_time": "2022-11-17T10:51:51.230Z"
   },
   {
    "duration": 4,
    "start_time": "2022-11-17T10:51:51.251Z"
   },
   {
    "duration": 55,
    "start_time": "2022-11-17T10:51:51.256Z"
   },
   {
    "duration": 4,
    "start_time": "2022-11-17T10:51:51.313Z"
   },
   {
    "duration": 13,
    "start_time": "2022-11-17T10:51:51.335Z"
   },
   {
    "duration": 17,
    "start_time": "2022-11-17T10:51:51.349Z"
   },
   {
    "duration": 30,
    "start_time": "2022-11-17T10:51:51.368Z"
   },
   {
    "duration": 6,
    "start_time": "2022-11-17T10:51:51.401Z"
   },
   {
    "duration": 8,
    "start_time": "2022-11-17T10:51:51.409Z"
   },
   {
    "duration": 18,
    "start_time": "2022-11-17T10:51:51.418Z"
   },
   {
    "duration": 16,
    "start_time": "2022-11-17T10:51:51.438Z"
   },
   {
    "duration": 10,
    "start_time": "2022-11-17T10:51:51.456Z"
   },
   {
    "duration": 32,
    "start_time": "2022-11-17T10:51:51.467Z"
   },
   {
    "duration": 6,
    "start_time": "2022-11-17T10:51:51.501Z"
   },
   {
    "duration": 12,
    "start_time": "2022-11-17T10:51:51.508Z"
   },
   {
    "duration": 22,
    "start_time": "2022-11-17T10:51:51.522Z"
   },
   {
    "duration": 17,
    "start_time": "2022-11-17T10:51:51.546Z"
   },
   {
    "duration": 151,
    "start_time": "2022-11-17T10:51:51.565Z"
   },
   {
    "duration": 125,
    "start_time": "2022-11-17T10:51:51.718Z"
   },
   {
    "duration": 134,
    "start_time": "2022-11-17T10:51:51.845Z"
   },
   {
    "duration": 161,
    "start_time": "2022-11-17T10:51:51.981Z"
   },
   {
    "duration": 209,
    "start_time": "2022-11-17T10:51:52.144Z"
   },
   {
    "duration": 177,
    "start_time": "2022-11-17T10:51:52.354Z"
   },
   {
    "duration": 3327,
    "start_time": "2022-11-17T10:51:52.536Z"
   },
   {
    "duration": 104794,
    "start_time": "2022-11-17T10:51:55.865Z"
   },
   {
    "duration": 1372,
    "start_time": "2022-11-17T10:54:23.818Z"
   },
   {
    "duration": 85,
    "start_time": "2022-11-17T10:54:25.192Z"
   },
   {
    "duration": 14,
    "start_time": "2022-11-17T10:54:25.279Z"
   },
   {
    "duration": 21,
    "start_time": "2022-11-17T10:54:25.295Z"
   },
   {
    "duration": 13,
    "start_time": "2022-11-17T10:54:25.320Z"
   },
   {
    "duration": 10,
    "start_time": "2022-11-17T10:54:25.334Z"
   },
   {
    "duration": 20,
    "start_time": "2022-11-17T10:54:25.345Z"
   },
   {
    "duration": 3,
    "start_time": "2022-11-17T10:54:25.367Z"
   },
   {
    "duration": 64,
    "start_time": "2022-11-17T10:54:25.372Z"
   },
   {
    "duration": 5,
    "start_time": "2022-11-17T10:54:25.438Z"
   },
   {
    "duration": 21,
    "start_time": "2022-11-17T10:54:25.444Z"
   },
   {
    "duration": 11,
    "start_time": "2022-11-17T10:54:25.467Z"
   },
   {
    "duration": 36,
    "start_time": "2022-11-17T10:54:25.480Z"
   },
   {
    "duration": 6,
    "start_time": "2022-11-17T10:54:25.519Z"
   },
   {
    "duration": 18,
    "start_time": "2022-11-17T10:54:25.527Z"
   },
   {
    "duration": 25,
    "start_time": "2022-11-17T10:54:25.546Z"
   },
   {
    "duration": 26,
    "start_time": "2022-11-17T10:54:25.573Z"
   },
   {
    "duration": 28,
    "start_time": "2022-11-17T10:54:25.601Z"
   },
   {
    "duration": 54,
    "start_time": "2022-11-17T10:54:25.630Z"
   },
   {
    "duration": 5,
    "start_time": "2022-11-17T10:54:25.685Z"
   },
   {
    "duration": 16,
    "start_time": "2022-11-17T10:54:25.692Z"
   },
   {
    "duration": 16,
    "start_time": "2022-11-17T10:54:25.710Z"
   },
   {
    "duration": 19,
    "start_time": "2022-11-17T10:54:25.728Z"
   },
   {
    "duration": 154,
    "start_time": "2022-11-17T10:54:25.748Z"
   },
   {
    "duration": 136,
    "start_time": "2022-11-17T10:54:25.904Z"
   },
   {
    "duration": 128,
    "start_time": "2022-11-17T10:54:26.042Z"
   },
   {
    "duration": 149,
    "start_time": "2022-11-17T10:54:26.172Z"
   },
   {
    "duration": 207,
    "start_time": "2022-11-17T10:54:26.323Z"
   },
   {
    "duration": 124,
    "start_time": "2022-11-17T10:54:26.535Z"
   },
   {
    "duration": 4368,
    "start_time": "2022-11-17T10:54:26.661Z"
   },
   {
    "duration": 143461,
    "start_time": "2022-11-17T10:54:31.036Z"
   },
   {
    "duration": 4,
    "start_time": "2022-11-17T10:56:54.498Z"
   },
   {
    "duration": 8,
    "start_time": "2022-11-17T10:56:54.503Z"
   },
   {
    "duration": 19,
    "start_time": "2022-11-17T10:56:54.512Z"
   },
   {
    "duration": 149050,
    "start_time": "2022-11-17T10:56:54.536Z"
   },
   {
    "duration": 233,
    "start_time": "2022-11-17T10:59:23.589Z"
   },
   {
    "duration": 5,
    "start_time": "2022-11-17T10:59:23.824Z"
   },
   {
    "duration": 100,
    "start_time": "2022-11-17T10:59:23.837Z"
   },
   {
    "duration": 3472,
    "start_time": "2022-11-17T10:59:23.939Z"
   },
   {
    "duration": 105759,
    "start_time": "2022-11-17T10:59:27.413Z"
   },
   {
    "duration": 221,
    "start_time": "2022-11-17T11:55:03.346Z"
   },
   {
    "duration": 216,
    "start_time": "2022-11-17T11:55:19.950Z"
   },
   {
    "duration": 224,
    "start_time": "2022-11-17T11:55:45.613Z"
   },
   {
    "duration": 5,
    "start_time": "2022-11-17T12:00:32.469Z"
   },
   {
    "duration": 104680,
    "start_time": "2022-11-17T12:03:31.193Z"
   },
   {
    "duration": 646748,
    "start_time": "2022-11-17T12:06:56.368Z"
   },
   {
    "duration": 230,
    "start_time": "2022-11-17T12:20:03.368Z"
   },
   {
    "duration": 69,
    "start_time": "2022-11-17T12:20:03.926Z"
   },
   {
    "duration": 47,
    "start_time": "2022-11-17T12:23:55.269Z"
   },
   {
    "duration": 1316,
    "start_time": "2022-11-17T12:23:58.404Z"
   },
   {
    "duration": 56,
    "start_time": "2022-11-17T12:23:59.721Z"
   },
   {
    "duration": 12,
    "start_time": "2022-11-17T12:23:59.778Z"
   },
   {
    "duration": 48,
    "start_time": "2022-11-17T12:23:59.792Z"
   },
   {
    "duration": 7,
    "start_time": "2022-11-17T12:23:59.841Z"
   },
   {
    "duration": 10,
    "start_time": "2022-11-17T12:23:59.849Z"
   },
   {
    "duration": 19,
    "start_time": "2022-11-17T12:23:59.860Z"
   },
   {
    "duration": 3,
    "start_time": "2022-11-17T12:23:59.880Z"
   },
   {
    "duration": 62,
    "start_time": "2022-11-17T12:23:59.885Z"
   },
   {
    "duration": 4,
    "start_time": "2022-11-17T12:23:59.950Z"
   },
   {
    "duration": 15,
    "start_time": "2022-11-17T12:23:59.955Z"
   },
   {
    "duration": 6,
    "start_time": "2022-11-17T12:23:59.972Z"
   },
   {
    "duration": 27,
    "start_time": "2022-11-17T12:23:59.980Z"
   },
   {
    "duration": 27,
    "start_time": "2022-11-17T12:24:00.008Z"
   },
   {
    "duration": 5,
    "start_time": "2022-11-17T12:24:00.037Z"
   },
   {
    "duration": 6,
    "start_time": "2022-11-17T12:24:00.043Z"
   },
   {
    "duration": 10,
    "start_time": "2022-11-17T12:24:00.050Z"
   },
   {
    "duration": 13,
    "start_time": "2022-11-17T12:24:00.062Z"
   },
   {
    "duration": 33,
    "start_time": "2022-11-17T12:24:00.077Z"
   },
   {
    "duration": 5,
    "start_time": "2022-11-17T12:24:00.112Z"
   },
   {
    "duration": 25,
    "start_time": "2022-11-17T12:24:00.119Z"
   },
   {
    "duration": 42,
    "start_time": "2022-11-17T12:24:00.146Z"
   },
   {
    "duration": 27,
    "start_time": "2022-11-17T12:24:00.190Z"
   },
   {
    "duration": 164,
    "start_time": "2022-11-17T12:24:00.218Z"
   },
   {
    "duration": 128,
    "start_time": "2022-11-17T12:24:00.383Z"
   },
   {
    "duration": 127,
    "start_time": "2022-11-17T12:24:00.513Z"
   },
   {
    "duration": 140,
    "start_time": "2022-11-17T12:24:00.641Z"
   },
   {
    "duration": 190,
    "start_time": "2022-11-17T12:24:00.784Z"
   },
   {
    "duration": 121,
    "start_time": "2022-11-17T12:24:00.976Z"
   },
   {
    "duration": 3290,
    "start_time": "2022-11-17T12:24:01.098Z"
   },
   {
    "duration": 129,
    "start_time": "2022-11-17T12:24:04.389Z"
   },
   {
    "duration": 103,
    "start_time": "2022-11-17T12:24:04.520Z"
   },
   {
    "duration": 112,
    "start_time": "2022-11-17T12:24:04.624Z"
   },
   {
    "duration": 4297,
    "start_time": "2022-11-17T12:24:04.738Z"
   },
   {
    "duration": 1420,
    "start_time": "2022-11-17T12:25:31.715Z"
   },
   {
    "duration": 59,
    "start_time": "2022-11-17T12:25:33.138Z"
   },
   {
    "duration": 12,
    "start_time": "2022-11-17T12:25:33.198Z"
   },
   {
    "duration": 15,
    "start_time": "2022-11-17T12:25:33.211Z"
   },
   {
    "duration": 7,
    "start_time": "2022-11-17T12:25:33.231Z"
   },
   {
    "duration": 7,
    "start_time": "2022-11-17T12:25:33.240Z"
   },
   {
    "duration": 17,
    "start_time": "2022-11-17T12:25:33.249Z"
   },
   {
    "duration": 3,
    "start_time": "2022-11-17T12:25:33.268Z"
   },
   {
    "duration": 63,
    "start_time": "2022-11-17T12:25:33.273Z"
   },
   {
    "duration": 4,
    "start_time": "2022-11-17T12:25:33.337Z"
   },
   {
    "duration": 14,
    "start_time": "2022-11-17T12:25:33.342Z"
   },
   {
    "duration": 13,
    "start_time": "2022-11-17T12:25:33.358Z"
   },
   {
    "duration": 21,
    "start_time": "2022-11-17T12:25:33.372Z"
   },
   {
    "duration": 6,
    "start_time": "2022-11-17T12:25:33.396Z"
   },
   {
    "duration": 4,
    "start_time": "2022-11-17T12:25:33.404Z"
   },
   {
    "duration": 9,
    "start_time": "2022-11-17T12:25:33.409Z"
   },
   {
    "duration": 3,
    "start_time": "2022-11-17T12:25:33.435Z"
   },
   {
    "duration": 5,
    "start_time": "2022-11-17T12:25:33.440Z"
   },
   {
    "duration": 32,
    "start_time": "2022-11-17T12:25:33.446Z"
   },
   {
    "duration": 5,
    "start_time": "2022-11-17T12:25:33.479Z"
   },
   {
    "duration": 7,
    "start_time": "2022-11-17T12:25:33.485Z"
   },
   {
    "duration": 5,
    "start_time": "2022-11-17T12:25:33.493Z"
   },
   {
    "duration": 36,
    "start_time": "2022-11-17T12:25:33.500Z"
   },
   {
    "duration": 148,
    "start_time": "2022-11-17T12:25:33.538Z"
   },
   {
    "duration": 124,
    "start_time": "2022-11-17T12:25:33.688Z"
   },
   {
    "duration": 124,
    "start_time": "2022-11-17T12:25:33.814Z"
   },
   {
    "duration": 144,
    "start_time": "2022-11-17T12:25:33.939Z"
   },
   {
    "duration": 197,
    "start_time": "2022-11-17T12:25:34.085Z"
   },
   {
    "duration": 113,
    "start_time": "2022-11-17T12:25:34.285Z"
   },
   {
    "duration": 4100,
    "start_time": "2022-11-17T12:25:34.400Z"
   },
   {
    "duration": 191,
    "start_time": "2022-11-17T12:25:38.501Z"
   },
   {
    "duration": 51,
    "start_time": "2022-11-17T12:25:38.694Z"
   },
   {
    "duration": 3380,
    "start_time": "2022-11-17T12:25:38.836Z"
   },
   {
    "duration": 1296,
    "start_time": "2022-11-17T12:27:38.068Z"
   },
   {
    "duration": 62,
    "start_time": "2022-11-17T12:27:39.366Z"
   },
   {
    "duration": 13,
    "start_time": "2022-11-17T12:27:39.429Z"
   },
   {
    "duration": 29,
    "start_time": "2022-11-17T12:27:39.444Z"
   },
   {
    "duration": 9,
    "start_time": "2022-11-17T12:27:39.475Z"
   },
   {
    "duration": 8,
    "start_time": "2022-11-17T12:27:39.485Z"
   },
   {
    "duration": 20,
    "start_time": "2022-11-17T12:27:39.494Z"
   },
   {
    "duration": 3,
    "start_time": "2022-11-17T12:27:39.516Z"
   },
   {
    "duration": 60,
    "start_time": "2022-11-17T12:27:39.521Z"
   },
   {
    "duration": 5,
    "start_time": "2022-11-17T12:27:39.583Z"
   },
   {
    "duration": 32,
    "start_time": "2022-11-17T12:27:39.589Z"
   },
   {
    "duration": 24,
    "start_time": "2022-11-17T12:27:39.623Z"
   },
   {
    "duration": 48,
    "start_time": "2022-11-17T12:27:39.649Z"
   },
   {
    "duration": 6,
    "start_time": "2022-11-17T12:27:39.699Z"
   },
   {
    "duration": 12,
    "start_time": "2022-11-17T12:27:39.707Z"
   },
   {
    "duration": 20,
    "start_time": "2022-11-17T12:27:39.721Z"
   },
   {
    "duration": 15,
    "start_time": "2022-11-17T12:27:39.743Z"
   },
   {
    "duration": 19,
    "start_time": "2022-11-17T12:27:39.759Z"
   },
   {
    "duration": 37,
    "start_time": "2022-11-17T12:27:39.780Z"
   },
   {
    "duration": 5,
    "start_time": "2022-11-17T12:27:39.819Z"
   },
   {
    "duration": 6,
    "start_time": "2022-11-17T12:27:39.826Z"
   },
   {
    "duration": 5,
    "start_time": "2022-11-17T12:27:39.833Z"
   },
   {
    "duration": 12,
    "start_time": "2022-11-17T12:27:39.840Z"
   },
   {
    "duration": 165,
    "start_time": "2022-11-17T12:27:39.854Z"
   },
   {
    "duration": 128,
    "start_time": "2022-11-17T12:27:40.021Z"
   },
   {
    "duration": 123,
    "start_time": "2022-11-17T12:27:40.151Z"
   },
   {
    "duration": 137,
    "start_time": "2022-11-17T12:27:40.276Z"
   },
   {
    "duration": 199,
    "start_time": "2022-11-17T12:27:40.414Z"
   },
   {
    "duration": 120,
    "start_time": "2022-11-17T12:27:40.616Z"
   },
   {
    "duration": 4278,
    "start_time": "2022-11-17T12:27:40.738Z"
   },
   {
    "duration": 178,
    "start_time": "2022-11-17T12:27:45.018Z"
   },
   {
    "duration": 48,
    "start_time": "2022-11-17T12:27:45.198Z"
   },
   {
    "duration": 3533,
    "start_time": "2022-11-17T12:27:45.249Z"
   },
   {
    "duration": 138782,
    "start_time": "2022-11-17T12:27:48.784Z"
   },
   {
    "duration": 1341,
    "start_time": "2022-11-17T12:30:45.296Z"
   },
   {
    "duration": 65,
    "start_time": "2022-11-17T12:30:46.639Z"
   },
   {
    "duration": 14,
    "start_time": "2022-11-17T12:30:46.705Z"
   },
   {
    "duration": 52,
    "start_time": "2022-11-17T12:30:46.721Z"
   },
   {
    "duration": 9,
    "start_time": "2022-11-17T12:30:46.777Z"
   },
   {
    "duration": 11,
    "start_time": "2022-11-17T12:30:46.788Z"
   },
   {
    "duration": 35,
    "start_time": "2022-11-17T12:30:46.802Z"
   },
   {
    "duration": 17,
    "start_time": "2022-11-17T12:30:46.839Z"
   },
   {
    "duration": 80,
    "start_time": "2022-11-17T12:30:46.857Z"
   },
   {
    "duration": 4,
    "start_time": "2022-11-17T12:30:46.939Z"
   },
   {
    "duration": 30,
    "start_time": "2022-11-17T12:30:46.945Z"
   },
   {
    "duration": 14,
    "start_time": "2022-11-17T12:30:46.977Z"
   },
   {
    "duration": 34,
    "start_time": "2022-11-17T12:30:46.992Z"
   },
   {
    "duration": 7,
    "start_time": "2022-11-17T12:30:47.029Z"
   },
   {
    "duration": 15,
    "start_time": "2022-11-17T12:30:47.037Z"
   },
   {
    "duration": 13,
    "start_time": "2022-11-17T12:30:47.054Z"
   },
   {
    "duration": 13,
    "start_time": "2022-11-17T12:30:47.069Z"
   },
   {
    "duration": 12,
    "start_time": "2022-11-17T12:30:47.083Z"
   },
   {
    "duration": 50,
    "start_time": "2022-11-17T12:30:47.096Z"
   },
   {
    "duration": 21,
    "start_time": "2022-11-17T12:30:47.148Z"
   },
   {
    "duration": 14,
    "start_time": "2022-11-17T12:30:47.170Z"
   },
   {
    "duration": 14,
    "start_time": "2022-11-17T12:30:47.186Z"
   },
   {
    "duration": 26,
    "start_time": "2022-11-17T12:30:47.202Z"
   },
   {
    "duration": 159,
    "start_time": "2022-11-17T12:30:47.230Z"
   },
   {
    "duration": 123,
    "start_time": "2022-11-17T12:30:47.391Z"
   },
   {
    "duration": 125,
    "start_time": "2022-11-17T12:30:47.515Z"
   },
   {
    "duration": 144,
    "start_time": "2022-11-17T12:30:47.641Z"
   },
   {
    "duration": 214,
    "start_time": "2022-11-17T12:30:47.786Z"
   },
   {
    "duration": 137,
    "start_time": "2022-11-17T12:30:48.002Z"
   },
   {
    "duration": 4509,
    "start_time": "2022-11-17T12:30:48.141Z"
   },
   {
    "duration": 140456,
    "start_time": "2022-11-17T12:30:52.651Z"
   },
   {
    "duration": 30,
    "start_time": "2022-11-17T12:33:13.109Z"
   },
   {
    "duration": 3358,
    "start_time": "2022-11-17T12:33:13.141Z"
   },
   {
    "duration": 141785,
    "start_time": "2022-11-17T12:33:16.501Z"
   },
   {
    "duration": 630135,
    "start_time": "2022-11-17T12:35:38.288Z"
   },
   {
    "duration": 30,
    "start_time": "2022-11-17T12:46:08.424Z"
   },
   {
    "duration": 91,
    "start_time": "2022-11-17T12:51:25.245Z"
   },
   {
    "duration": 143055,
    "start_time": "2022-11-17T12:55:08.658Z"
   },
   {
    "duration": 7,
    "start_time": "2022-11-17T12:58:21.586Z"
   },
   {
    "duration": 34,
    "start_time": "2022-11-17T13:03:47.721Z"
   },
   {
    "duration": 160,
    "start_time": "2022-11-17T13:04:02.681Z"
   },
   {
    "duration": 1469,
    "start_time": "2022-11-18T01:46:23.019Z"
   },
   {
    "duration": 200,
    "start_time": "2022-11-18T01:46:24.489Z"
   },
   {
    "duration": 14,
    "start_time": "2022-11-18T01:46:29.292Z"
   },
   {
    "duration": 113,
    "start_time": "2022-11-18T01:46:38.869Z"
   },
   {
    "duration": 4,
    "start_time": "2022-11-18T01:46:42.417Z"
   },
   {
    "duration": 63,
    "start_time": "2022-11-18T01:46:42.425Z"
   },
   {
    "duration": 11,
    "start_time": "2022-11-18T01:46:42.490Z"
   },
   {
    "duration": 15,
    "start_time": "2022-11-18T01:46:42.502Z"
   },
   {
    "duration": 6,
    "start_time": "2022-11-18T01:46:42.519Z"
   },
   {
    "duration": 10,
    "start_time": "2022-11-18T01:46:42.526Z"
   },
   {
    "duration": 17,
    "start_time": "2022-11-18T01:46:42.537Z"
   },
   {
    "duration": 3,
    "start_time": "2022-11-18T01:46:42.556Z"
   },
   {
    "duration": 68,
    "start_time": "2022-11-18T01:46:42.561Z"
   },
   {
    "duration": 3,
    "start_time": "2022-11-18T01:46:42.631Z"
   },
   {
    "duration": 17,
    "start_time": "2022-11-18T01:46:42.637Z"
   },
   {
    "duration": 10,
    "start_time": "2022-11-18T01:46:42.655Z"
   },
   {
    "duration": 21,
    "start_time": "2022-11-18T01:46:42.667Z"
   },
   {
    "duration": 5,
    "start_time": "2022-11-18T01:46:42.689Z"
   },
   {
    "duration": 7,
    "start_time": "2022-11-18T01:46:42.696Z"
   },
   {
    "duration": 3,
    "start_time": "2022-11-18T01:46:42.720Z"
   },
   {
    "duration": 6,
    "start_time": "2022-11-18T01:46:42.724Z"
   },
   {
    "duration": 6,
    "start_time": "2022-11-18T01:46:42.731Z"
   },
   {
    "duration": 30,
    "start_time": "2022-11-18T01:46:42.738Z"
   },
   {
    "duration": 6,
    "start_time": "2022-11-18T01:46:42.770Z"
   },
   {
    "duration": 8,
    "start_time": "2022-11-18T01:46:42.778Z"
   },
   {
    "duration": 5,
    "start_time": "2022-11-18T01:46:42.787Z"
   },
   {
    "duration": 37,
    "start_time": "2022-11-18T01:46:42.793Z"
   },
   {
    "duration": 155,
    "start_time": "2022-11-18T01:46:42.832Z"
   },
   {
    "duration": 121,
    "start_time": "2022-11-18T01:46:42.989Z"
   },
   {
    "duration": 113,
    "start_time": "2022-11-18T01:46:43.111Z"
   },
   {
    "duration": 130,
    "start_time": "2022-11-18T01:46:43.226Z"
   },
   {
    "duration": 182,
    "start_time": "2022-11-18T01:46:43.357Z"
   },
   {
    "duration": 109,
    "start_time": "2022-11-18T01:46:43.541Z"
   },
   {
    "duration": 3099,
    "start_time": "2022-11-18T01:46:43.651Z"
   },
   {
    "duration": 129913,
    "start_time": "2022-11-18T01:46:46.752Z"
   },
   {
    "duration": 60,
    "start_time": "2022-11-18T01:48:56.666Z"
   },
   {
    "duration": 3177,
    "start_time": "2022-11-18T01:48:56.727Z"
   },
   {
    "duration": 129015,
    "start_time": "2022-11-18T01:48:59.906Z"
   },
   {
    "duration": 106,
    "start_time": "2022-11-18T01:51:08.923Z"
   },
   {
    "duration": 323,
    "start_time": "2022-11-18T01:51:09.031Z"
   },
   {
    "duration": 12,
    "start_time": "2022-11-18T01:57:52.361Z"
   },
   {
    "duration": 10,
    "start_time": "2022-11-18T01:59:00.207Z"
   },
   {
    "duration": 7,
    "start_time": "2022-11-18T02:00:26.277Z"
   },
   {
    "duration": 13,
    "start_time": "2022-11-18T02:03:15.435Z"
   },
   {
    "duration": 4,
    "start_time": "2022-11-18T02:04:00.770Z"
   },
   {
    "duration": 11,
    "start_time": "2022-11-18T02:04:19.541Z"
   },
   {
    "duration": 7,
    "start_time": "2022-11-18T02:05:29.516Z"
   },
   {
    "duration": 10,
    "start_time": "2022-11-18T02:06:23.648Z"
   },
   {
    "duration": 88,
    "start_time": "2022-11-18T02:07:57.536Z"
   },
   {
    "duration": 281,
    "start_time": "2022-11-18T02:13:58.439Z"
   },
   {
    "duration": 54,
    "start_time": "2022-11-18T02:14:13.068Z"
   },
   {
    "duration": 31,
    "start_time": "2022-11-18T02:14:27.652Z"
   },
   {
    "duration": 35,
    "start_time": "2022-11-18T02:27:18.496Z"
   },
   {
    "duration": 74,
    "start_time": "2022-11-18T02:27:23.149Z"
   },
   {
    "duration": 3644,
    "start_time": "2022-11-18T02:30:19.030Z"
   },
   {
    "duration": 175532,
    "start_time": "2022-11-18T02:46:06.565Z"
   },
   {
    "duration": 135090,
    "start_time": "2022-11-18T02:50:42.904Z"
   },
   {
    "duration": 135698,
    "start_time": "2022-11-18T02:55:53.378Z"
   },
   {
    "duration": 264,
    "start_time": "2022-11-18T03:03:24.064Z"
   },
   {
    "duration": 278,
    "start_time": "2022-11-18T03:04:12.015Z"
   },
   {
    "duration": 343,
    "start_time": "2022-11-18T03:05:00.770Z"
   },
   {
    "duration": 4,
    "start_time": "2022-11-18T03:14:01.146Z"
   },
   {
    "duration": 355,
    "start_time": "2022-11-18T03:16:21.656Z"
   },
   {
    "duration": 360,
    "start_time": "2022-11-18T03:17:17.609Z"
   },
   {
    "duration": 65,
    "start_time": "2022-11-18T03:24:44.514Z"
   },
   {
    "duration": 429,
    "start_time": "2022-11-18T03:24:57.472Z"
   },
   {
    "duration": 13,
    "start_time": "2022-11-18T03:36:11.638Z"
   },
   {
    "duration": 104,
    "start_time": "2022-11-18T03:36:59.618Z"
   },
   {
    "duration": 407,
    "start_time": "2022-11-18T03:38:52.732Z"
   },
   {
    "duration": 98,
    "start_time": "2022-11-18T03:39:21.224Z"
   },
   {
    "duration": 358,
    "start_time": "2022-11-18T03:42:51.938Z"
   },
   {
    "duration": 398,
    "start_time": "2022-11-18T03:43:03.071Z"
   },
   {
    "duration": 410,
    "start_time": "2022-11-18T03:43:10.973Z"
   },
   {
    "duration": 41,
    "start_time": "2022-11-18T03:43:16.499Z"
   },
   {
    "duration": 431,
    "start_time": "2022-11-18T03:43:56.232Z"
   },
   {
    "duration": 483,
    "start_time": "2022-11-18T03:46:04.890Z"
   },
   {
    "duration": 1581,
    "start_time": "2022-11-18T07:03:09.085Z"
   },
   {
    "duration": 221,
    "start_time": "2022-11-18T07:03:10.668Z"
   },
   {
    "duration": 15,
    "start_time": "2022-11-18T07:03:10.890Z"
   },
   {
    "duration": 20,
    "start_time": "2022-11-18T07:03:10.907Z"
   },
   {
    "duration": 8,
    "start_time": "2022-11-18T07:03:10.929Z"
   },
   {
    "duration": 7,
    "start_time": "2022-11-18T07:03:10.939Z"
   },
   {
    "duration": 23,
    "start_time": "2022-11-18T07:03:10.948Z"
   },
   {
    "duration": 4,
    "start_time": "2022-11-18T07:03:10.973Z"
   },
   {
    "duration": 59,
    "start_time": "2022-11-18T07:03:10.978Z"
   },
   {
    "duration": 5,
    "start_time": "2022-11-18T07:03:11.056Z"
   },
   {
    "duration": 16,
    "start_time": "2022-11-18T07:03:11.063Z"
   },
   {
    "duration": 6,
    "start_time": "2022-11-18T07:03:11.080Z"
   },
   {
    "duration": 25,
    "start_time": "2022-11-18T07:03:11.087Z"
   },
   {
    "duration": 7,
    "start_time": "2022-11-18T07:03:11.114Z"
   },
   {
    "duration": 34,
    "start_time": "2022-11-18T07:03:11.123Z"
   },
   {
    "duration": 4,
    "start_time": "2022-11-18T07:03:11.159Z"
   },
   {
    "duration": 10,
    "start_time": "2022-11-18T07:03:11.164Z"
   },
   {
    "duration": 13,
    "start_time": "2022-11-18T07:03:11.176Z"
   },
   {
    "duration": 41,
    "start_time": "2022-11-18T07:03:11.191Z"
   },
   {
    "duration": 21,
    "start_time": "2022-11-18T07:03:11.234Z"
   },
   {
    "duration": 5,
    "start_time": "2022-11-18T07:03:11.257Z"
   },
   {
    "duration": 7,
    "start_time": "2022-11-18T07:03:11.264Z"
   },
   {
    "duration": 22,
    "start_time": "2022-11-18T07:03:11.273Z"
   },
   {
    "duration": 188,
    "start_time": "2022-11-18T07:03:11.298Z"
   },
   {
    "duration": 144,
    "start_time": "2022-11-18T07:03:11.488Z"
   },
   {
    "duration": 141,
    "start_time": "2022-11-18T07:03:11.634Z"
   },
   {
    "duration": 155,
    "start_time": "2022-11-18T07:03:11.777Z"
   },
   {
    "duration": 224,
    "start_time": "2022-11-18T07:03:11.936Z"
   },
   {
    "duration": 140,
    "start_time": "2022-11-18T07:03:12.161Z"
   },
   {
    "duration": 3681,
    "start_time": "2022-11-18T07:03:12.302Z"
   },
   {
    "duration": 155429,
    "start_time": "2022-11-18T07:03:15.985Z"
   },
   {
    "duration": 140,
    "start_time": "2022-11-18T07:05:51.415Z"
   },
   {
    "duration": 3613,
    "start_time": "2022-11-18T07:05:51.558Z"
   },
   {
    "duration": 155895,
    "start_time": "2022-11-18T07:05:55.173Z"
   },
   {
    "duration": 88,
    "start_time": "2022-11-18T07:08:31.070Z"
   },
   {
    "duration": 11,
    "start_time": "2022-11-18T07:08:31.161Z"
   },
   {
    "duration": 49,
    "start_time": "2022-11-18T07:08:31.256Z"
   },
   {
    "duration": 0,
    "start_time": "2022-11-18T07:08:31.307Z"
   },
   {
    "duration": 0,
    "start_time": "2022-11-18T07:08:31.308Z"
   },
   {
    "duration": 0,
    "start_time": "2022-11-18T07:08:31.310Z"
   },
   {
    "duration": 0,
    "start_time": "2022-11-18T07:08:31.311Z"
   },
   {
    "duration": 0,
    "start_time": "2022-11-18T07:08:31.312Z"
   },
   {
    "duration": 0,
    "start_time": "2022-11-18T07:08:31.314Z"
   },
   {
    "duration": 0,
    "start_time": "2022-11-18T07:08:31.315Z"
   },
   {
    "duration": 8,
    "start_time": "2022-11-18T07:10:12.234Z"
   },
   {
    "duration": 4347,
    "start_time": "2022-11-18T07:10:12.267Z"
   },
   {
    "duration": 199901,
    "start_time": "2022-11-18T07:10:16.617Z"
   },
   {
    "duration": 158,
    "start_time": "2022-11-18T07:13:36.520Z"
   },
   {
    "duration": 0,
    "start_time": "2022-11-18T07:13:36.681Z"
   },
   {
    "duration": 0,
    "start_time": "2022-11-18T07:13:36.682Z"
   },
   {
    "duration": 0,
    "start_time": "2022-11-18T07:13:36.683Z"
   },
   {
    "duration": 30,
    "start_time": "2022-11-18T07:15:07.892Z"
   },
   {
    "duration": 35,
    "start_time": "2022-11-18T07:15:59.252Z"
   },
   {
    "duration": 37,
    "start_time": "2022-11-18T07:16:28.843Z"
   },
   {
    "duration": 20,
    "start_time": "2022-11-18T07:16:45.235Z"
   },
   {
    "duration": 467,
    "start_time": "2022-11-18T07:16:45.261Z"
   },
   {
    "duration": 465,
    "start_time": "2022-11-18T07:16:45.730Z"
   },
   {
    "duration": 15,
    "start_time": "2022-11-18T07:17:44.796Z"
   },
   {
    "duration": 11,
    "start_time": "2022-11-18T07:18:26.106Z"
   },
   {
    "duration": 36,
    "start_time": "2022-11-18T07:19:10.706Z"
   },
   {
    "duration": 110,
    "start_time": "2022-11-18T07:19:43.146Z"
   },
   {
    "duration": 14,
    "start_time": "2022-11-18T07:23:30.086Z"
   },
   {
    "duration": 6,
    "start_time": "2022-11-18T07:27:04.797Z"
   },
   {
    "duration": 14,
    "start_time": "2022-11-18T07:42:32.654Z"
   },
   {
    "duration": 15,
    "start_time": "2022-11-18T07:43:49.154Z"
   },
   {
    "duration": 11,
    "start_time": "2022-11-18T07:44:27.167Z"
   },
   {
    "duration": 43,
    "start_time": "2022-11-18T07:45:29.291Z"
   },
   {
    "duration": 10,
    "start_time": "2022-11-18T07:45:53.350Z"
   },
   {
    "duration": 16,
    "start_time": "2022-11-18T07:45:59.699Z"
   },
   {
    "duration": 17,
    "start_time": "2022-11-18T07:46:18.265Z"
   },
   {
    "duration": 26,
    "start_time": "2022-11-18T07:55:53.923Z"
   },
   {
    "duration": 4,
    "start_time": "2022-11-18T07:57:37.374Z"
   },
   {
    "duration": 17,
    "start_time": "2022-11-18T07:57:41.968Z"
   },
   {
    "duration": 15,
    "start_time": "2022-11-18T07:57:48.397Z"
   },
   {
    "duration": 16,
    "start_time": "2022-11-18T07:58:04.336Z"
   },
   {
    "duration": 24,
    "start_time": "2022-11-18T07:58:25.635Z"
   },
   {
    "duration": 1531,
    "start_time": "2022-11-20T01:22:13.827Z"
   },
   {
    "duration": 99,
    "start_time": "2022-11-20T01:22:15.360Z"
   },
   {
    "duration": 15,
    "start_time": "2022-11-20T01:22:15.460Z"
   },
   {
    "duration": 31,
    "start_time": "2022-11-20T01:22:15.476Z"
   },
   {
    "duration": 8,
    "start_time": "2022-11-20T01:22:15.510Z"
   },
   {
    "duration": 11,
    "start_time": "2022-11-20T01:22:15.519Z"
   },
   {
    "duration": 17,
    "start_time": "2022-11-20T01:22:15.532Z"
   },
   {
    "duration": 4,
    "start_time": "2022-11-20T01:22:15.550Z"
   },
   {
    "duration": 59,
    "start_time": "2022-11-20T01:22:15.555Z"
   },
   {
    "duration": 4,
    "start_time": "2022-11-20T01:22:15.615Z"
   },
   {
    "duration": 27,
    "start_time": "2022-11-20T01:22:15.620Z"
   },
   {
    "duration": 12,
    "start_time": "2022-11-20T01:22:15.649Z"
   },
   {
    "duration": 24,
    "start_time": "2022-11-20T01:22:15.663Z"
   },
   {
    "duration": 6,
    "start_time": "2022-11-20T01:22:15.690Z"
   },
   {
    "duration": 11,
    "start_time": "2022-11-20T01:22:15.697Z"
   },
   {
    "duration": 9,
    "start_time": "2022-11-20T01:22:15.710Z"
   },
   {
    "duration": 11,
    "start_time": "2022-11-20T01:22:15.720Z"
   },
   {
    "duration": 16,
    "start_time": "2022-11-20T01:22:15.732Z"
   },
   {
    "duration": 40,
    "start_time": "2022-11-20T01:22:15.749Z"
   },
   {
    "duration": 6,
    "start_time": "2022-11-20T01:22:15.791Z"
   },
   {
    "duration": 16,
    "start_time": "2022-11-20T01:22:15.799Z"
   },
   {
    "duration": 26,
    "start_time": "2022-11-20T01:22:15.817Z"
   },
   {
    "duration": 40,
    "start_time": "2022-11-20T01:22:15.845Z"
   },
   {
    "duration": 171,
    "start_time": "2022-11-20T01:22:15.887Z"
   },
   {
    "duration": 131,
    "start_time": "2022-11-20T01:22:16.059Z"
   },
   {
    "duration": 123,
    "start_time": "2022-11-20T01:22:16.191Z"
   },
   {
    "duration": 140,
    "start_time": "2022-11-20T01:22:16.316Z"
   },
   {
    "duration": 198,
    "start_time": "2022-11-20T01:22:16.458Z"
   },
   {
    "duration": 141,
    "start_time": "2022-11-20T01:22:16.658Z"
   },
   {
    "duration": 3339,
    "start_time": "2022-11-20T01:22:16.801Z"
   },
   {
    "duration": 134773,
    "start_time": "2022-11-20T01:22:20.142Z"
   },
   {
    "duration": 35,
    "start_time": "2022-11-20T01:24:34.916Z"
   },
   {
    "duration": 3284,
    "start_time": "2022-11-20T01:24:34.952Z"
   },
   {
    "duration": 133796,
    "start_time": "2022-11-20T01:24:38.237Z"
   },
   {
    "duration": 114,
    "start_time": "2022-11-20T01:26:52.034Z"
   },
   {
    "duration": 94,
    "start_time": "2022-11-20T01:26:52.150Z"
   },
   {
    "duration": 100,
    "start_time": "2022-11-20T01:26:52.246Z"
   },
   {
    "duration": 3834,
    "start_time": "2022-11-20T01:26:52.347Z"
   },
   {
    "duration": 175939,
    "start_time": "2022-11-20T01:26:56.183Z"
   },
   {
    "duration": 319,
    "start_time": "2022-11-20T01:29:52.123Z"
   },
   {
    "duration": 0,
    "start_time": "2022-11-20T01:29:52.444Z"
   },
   {
    "duration": 0,
    "start_time": "2022-11-20T01:29:52.445Z"
   },
   {
    "duration": 0,
    "start_time": "2022-11-20T01:29:52.447Z"
   },
   {
    "duration": 119,
    "start_time": "2022-11-20T01:33:48.318Z"
   },
   {
    "duration": 83,
    "start_time": "2022-11-20T01:35:14.053Z"
   },
   {
    "duration": 64,
    "start_time": "2022-11-20T01:35:22.773Z"
   },
   {
    "duration": 108,
    "start_time": "2022-11-20T01:35:22.839Z"
   },
   {
    "duration": 426,
    "start_time": "2022-11-20T01:35:22.949Z"
   },
   {
    "duration": 416,
    "start_time": "2022-11-20T01:35:23.377Z"
   },
   {
    "duration": 437,
    "start_time": "2022-11-20T01:36:24.339Z"
   },
   {
    "duration": 8,
    "start_time": "2022-11-20T01:43:33.258Z"
   },
   {
    "duration": 47,
    "start_time": "2022-11-20T01:43:52.517Z"
   },
   {
    "duration": 4,
    "start_time": "2022-11-20T01:43:58.066Z"
   },
   {
    "duration": 50,
    "start_time": "2022-11-20T01:54:31.312Z"
   },
   {
    "duration": 24,
    "start_time": "2022-11-20T01:55:02.954Z"
   },
   {
    "duration": 25,
    "start_time": "2022-11-20T01:55:19.236Z"
   },
   {
    "duration": 2,
    "start_time": "2022-11-20T01:57:36.031Z"
   },
   {
    "duration": 3,
    "start_time": "2022-11-20T01:58:03.150Z"
   },
   {
    "duration": 6,
    "start_time": "2022-11-20T01:58:05.040Z"
   },
   {
    "duration": 52,
    "start_time": "2022-11-20T01:59:10.182Z"
   },
   {
    "duration": 19,
    "start_time": "2022-11-20T02:04:00.649Z"
   },
   {
    "duration": 5,
    "start_time": "2022-11-20T02:07:33.940Z"
   },
   {
    "duration": 27,
    "start_time": "2022-11-20T02:09:24.258Z"
   },
   {
    "duration": 30,
    "start_time": "2022-11-20T02:09:40.469Z"
   },
   {
    "duration": 49,
    "start_time": "2022-11-20T02:09:56.927Z"
   },
   {
    "duration": 4,
    "start_time": "2022-11-20T02:10:20.785Z"
   },
   {
    "duration": 28,
    "start_time": "2022-11-20T02:13:15.174Z"
   },
   {
    "duration": 31,
    "start_time": "2022-11-20T02:14:38.641Z"
   },
   {
    "duration": 7,
    "start_time": "2022-11-20T02:14:59.060Z"
   },
   {
    "duration": 45,
    "start_time": "2022-11-20T02:15:12.430Z"
   },
   {
    "duration": 125,
    "start_time": "2022-11-20T02:16:50.977Z"
   },
   {
    "duration": 120,
    "start_time": "2022-11-20T02:17:17.536Z"
   },
   {
    "duration": 146,
    "start_time": "2022-11-20T02:17:38.534Z"
   },
   {
    "duration": 123,
    "start_time": "2022-11-20T02:17:55.978Z"
   },
   {
    "duration": 927,
    "start_time": "2022-11-20T02:18:05.954Z"
   },
   {
    "duration": 113,
    "start_time": "2022-11-20T02:18:40.263Z"
   },
   {
    "duration": 890,
    "start_time": "2022-11-20T02:18:58.000Z"
   },
   {
    "duration": 139,
    "start_time": "2022-11-20T02:19:06.432Z"
   },
   {
    "duration": 64,
    "start_time": "2022-11-20T02:21:44.975Z"
   },
   {
    "duration": 41,
    "start_time": "2022-11-20T02:21:55.840Z"
   },
   {
    "duration": 65,
    "start_time": "2022-11-20T02:22:01.994Z"
   },
   {
    "duration": 50,
    "start_time": "2022-11-20T11:15:27.651Z"
   },
   {
    "duration": 2488,
    "start_time": "2022-11-20T11:15:39.002Z"
   },
   {
    "duration": 2140,
    "start_time": "2022-11-20T11:15:53.383Z"
   },
   {
    "duration": 90,
    "start_time": "2022-11-20T14:02:26.227Z"
   },
   {
    "duration": 77,
    "start_time": "2022-11-20T14:03:10.417Z"
   },
   {
    "duration": 51,
    "start_time": "2022-11-21T04:13:46.357Z"
   },
   {
    "duration": 1624,
    "start_time": "2022-11-21T04:13:51.125Z"
   },
   {
    "duration": 206,
    "start_time": "2022-11-21T04:13:52.750Z"
   },
   {
    "duration": 13,
    "start_time": "2022-11-21T04:13:56.186Z"
   },
   {
    "duration": 20,
    "start_time": "2022-11-21T04:13:58.669Z"
   },
   {
    "duration": 4,
    "start_time": "2022-11-21T04:14:00.674Z"
   },
   {
    "duration": 4,
    "start_time": "2022-11-21T04:14:34.256Z"
   },
   {
    "duration": 255,
    "start_time": "2022-11-21T04:19:32.225Z"
   },
   {
    "duration": 4,
    "start_time": "2022-11-21T04:19:54.408Z"
   },
   {
    "duration": 93,
    "start_time": "2022-11-21T04:19:59.629Z"
   },
   {
    "duration": 4,
    "start_time": "2022-11-21T04:20:04.698Z"
   },
   {
    "duration": 75,
    "start_time": "2022-11-21T04:21:44.784Z"
   },
   {
    "duration": 24,
    "start_time": "2022-11-21T04:21:51.846Z"
   },
   {
    "duration": 23,
    "start_time": "2022-11-21T04:22:50.400Z"
   }
  ],
  "kernelspec": {
   "display_name": "Python 3 (ipykernel)",
   "language": "python",
   "name": "python3"
  },
  "language_info": {
   "codemirror_mode": {
    "name": "ipython",
    "version": 3
   },
   "file_extension": ".py",
   "mimetype": "text/x-python",
   "name": "python",
   "nbconvert_exporter": "python",
   "pygments_lexer": "ipython3",
   "version": "3.9.5"
  },
  "toc": {
   "base_numbering": 1,
   "nav_menu": {},
   "number_sections": true,
   "sideBar": true,
   "skip_h1_title": true,
   "title_cell": "Содержание",
   "title_sidebar": "Contents",
   "toc_cell": true,
   "toc_position": {
    "height": "calc(100% - 180px)",
    "left": "10px",
    "top": "150px",
    "width": "165px"
   },
   "toc_section_display": true,
   "toc_window_display": false
  }
 },
 "nbformat": 4,
 "nbformat_minor": 2
}
